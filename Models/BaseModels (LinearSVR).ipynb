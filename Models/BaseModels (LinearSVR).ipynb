{
 "cells": [
  {
   "cell_type": "markdown",
   "id": "3f576f01-7adf-440b-8b21-e879ff369390",
   "metadata": {},
   "source": [
    "## Model 2 - Linear SVR (Baseline model)"
   ]
  },
  {
   "cell_type": "markdown",
   "id": "5fa98f84",
   "metadata": {},
   "source": [
    "## Load Dataset"
   ]
  },
  {
   "cell_type": "code",
   "execution_count": 1,
   "id": "1e7292e4",
   "metadata": {},
   "outputs": [],
   "source": [
    "import pandas as pd\n",
    "dfclean2 = pd.read_csv('/Volumes/GoogleDrive/My Drive/MScA 2022 WINTER/MSCA 31008 5 Data Mining Principles/Project/clean_dataset2.csv')"
   ]
  },
  {
   "cell_type": "code",
   "execution_count": 2,
   "id": "24284285",
   "metadata": {},
   "outputs": [
    {
     "name": "stdout",
     "output_type": "stream",
     "text": [
      "<class 'pandas.core.frame.DataFrame'>\n",
      "RangeIndex: 120987 entries, 0 to 120986\n",
      "Data columns (total 15 columns):\n",
      " #   Column            Non-Null Count   Dtype\n",
      "---  ------            --------------   -----\n",
      " 0   price             120987 non-null  int64\n",
      " 1   year              120987 non-null  int64\n",
      " 2   condition         120987 non-null  int64\n",
      " 3   cylinders         120987 non-null  int64\n",
      " 4   fuel              120987 non-null  int64\n",
      " 5   odometer          120987 non-null  int64\n",
      " 6   title_status      120987 non-null  int64\n",
      " 7   transmission      120987 non-null  int64\n",
      " 8   drive             120987 non-null  int64\n",
      " 9   type              120987 non-null  int64\n",
      " 10  state             120987 non-null  int64\n",
      " 11  MSRP              120987 non-null  int64\n",
      " 12  car_age           120987 non-null  int64\n",
      " 13  is_vintage        120987 non-null  int64\n",
      " 14  is_color_neutral  120987 non-null  int64\n",
      "dtypes: int64(15)\n",
      "memory usage: 13.8 MB\n"
     ]
    }
   ],
   "source": [
    "dfclean2.info()"
   ]
  },
  {
   "cell_type": "code",
   "execution_count": 3,
   "id": "66844ace",
   "metadata": {},
   "outputs": [
    {
     "data": {
      "text/html": [
       "<div>\n",
       "<style scoped>\n",
       "    .dataframe tbody tr th:only-of-type {\n",
       "        vertical-align: middle;\n",
       "    }\n",
       "\n",
       "    .dataframe tbody tr th {\n",
       "        vertical-align: top;\n",
       "    }\n",
       "\n",
       "    .dataframe thead th {\n",
       "        text-align: right;\n",
       "    }\n",
       "</style>\n",
       "<table border=\"1\" class=\"dataframe\">\n",
       "  <thead>\n",
       "    <tr style=\"text-align: right;\">\n",
       "      <th></th>\n",
       "      <th>price</th>\n",
       "      <th>year</th>\n",
       "      <th>condition</th>\n",
       "      <th>cylinders</th>\n",
       "      <th>fuel</th>\n",
       "      <th>odometer</th>\n",
       "      <th>title_status</th>\n",
       "      <th>transmission</th>\n",
       "      <th>drive</th>\n",
       "      <th>type</th>\n",
       "      <th>state</th>\n",
       "      <th>MSRP</th>\n",
       "      <th>car_age</th>\n",
       "      <th>is_vintage</th>\n",
       "      <th>is_color_neutral</th>\n",
       "    </tr>\n",
       "  </thead>\n",
       "  <tbody>\n",
       "    <tr>\n",
       "      <th>0</th>\n",
       "      <td>22590</td>\n",
       "      <td>2010</td>\n",
       "      <td>2</td>\n",
       "      <td>4</td>\n",
       "      <td>2</td>\n",
       "      <td>71229</td>\n",
       "      <td>0</td>\n",
       "      <td>2</td>\n",
       "      <td>0</td>\n",
       "      <td>8</td>\n",
       "      <td>1</td>\n",
       "      <td>46110</td>\n",
       "      <td>11</td>\n",
       "      <td>0</td>\n",
       "      <td>0</td>\n",
       "    </tr>\n",
       "    <tr>\n",
       "      <th>1</th>\n",
       "      <td>4500</td>\n",
       "      <td>1992</td>\n",
       "      <td>0</td>\n",
       "      <td>3</td>\n",
       "      <td>2</td>\n",
       "      <td>192000</td>\n",
       "      <td>0</td>\n",
       "      <td>0</td>\n",
       "      <td>0</td>\n",
       "      <td>0</td>\n",
       "      <td>1</td>\n",
       "      <td>25695</td>\n",
       "      <td>29</td>\n",
       "      <td>0</td>\n",
       "      <td>0</td>\n",
       "    </tr>\n",
       "    <tr>\n",
       "      <th>2</th>\n",
       "      <td>14000</td>\n",
       "      <td>2012</td>\n",
       "      <td>0</td>\n",
       "      <td>3</td>\n",
       "      <td>2</td>\n",
       "      <td>95000</td>\n",
       "      <td>0</td>\n",
       "      <td>0</td>\n",
       "      <td>1</td>\n",
       "      <td>5</td>\n",
       "      <td>1</td>\n",
       "      <td>37775</td>\n",
       "      <td>9</td>\n",
       "      <td>0</td>\n",
       "      <td>1</td>\n",
       "    </tr>\n",
       "    <tr>\n",
       "      <th>3</th>\n",
       "      <td>32990</td>\n",
       "      <td>2019</td>\n",
       "      <td>2</td>\n",
       "      <td>4</td>\n",
       "      <td>4</td>\n",
       "      <td>6897</td>\n",
       "      <td>0</td>\n",
       "      <td>2</td>\n",
       "      <td>0</td>\n",
       "      <td>8</td>\n",
       "      <td>1</td>\n",
       "      <td>38400</td>\n",
       "      <td>2</td>\n",
       "      <td>0</td>\n",
       "      <td>1</td>\n",
       "    </tr>\n",
       "    <tr>\n",
       "      <th>4</th>\n",
       "      <td>2100</td>\n",
       "      <td>2006</td>\n",
       "      <td>1</td>\n",
       "      <td>1</td>\n",
       "      <td>2</td>\n",
       "      <td>97000</td>\n",
       "      <td>0</td>\n",
       "      <td>0</td>\n",
       "      <td>0</td>\n",
       "      <td>4</td>\n",
       "      <td>1</td>\n",
       "      <td>21495</td>\n",
       "      <td>15</td>\n",
       "      <td>0</td>\n",
       "      <td>0</td>\n",
       "    </tr>\n",
       "  </tbody>\n",
       "</table>\n",
       "</div>"
      ],
      "text/plain": [
       "   price  year  condition  cylinders  fuel  odometer  title_status  \\\n",
       "0  22590  2010          2          4     2     71229             0   \n",
       "1   4500  1992          0          3     2    192000             0   \n",
       "2  14000  2012          0          3     2     95000             0   \n",
       "3  32990  2019          2          4     4      6897             0   \n",
       "4   2100  2006          1          1     2     97000             0   \n",
       "\n",
       "   transmission  drive  type  state   MSRP  car_age  is_vintage  \\\n",
       "0             2      0     8      1  46110       11           0   \n",
       "1             0      0     0      1  25695       29           0   \n",
       "2             0      1     5      1  37775        9           0   \n",
       "3             2      0     8      1  38400        2           0   \n",
       "4             0      0     4      1  21495       15           0   \n",
       "\n",
       "   is_color_neutral  \n",
       "0                 0  \n",
       "1                 0  \n",
       "2                 1  \n",
       "3                 1  \n",
       "4                 0  "
      ]
     },
     "execution_count": 3,
     "metadata": {},
     "output_type": "execute_result"
    }
   ],
   "source": [
    "dfclean2.head()"
   ]
  },
  {
   "cell_type": "markdown",
   "id": "05a9f369",
   "metadata": {},
   "source": [
    "## Modeling"
   ]
  },
  {
   "cell_type": "code",
   "execution_count": 4,
   "id": "f50db941",
   "metadata": {},
   "outputs": [],
   "source": [
    "X = dfclean2.drop('price',axis=1)\n",
    "y = dfclean2['price']"
   ]
  },
  {
   "cell_type": "code",
   "execution_count": 5,
   "id": "550b1b34",
   "metadata": {},
   "outputs": [
    {
     "name": "stdout",
     "output_type": "stream",
     "text": [
      "(120987, 14)\n",
      "(120987,)\n"
     ]
    }
   ],
   "source": [
    "print(X.shape)\n",
    "print(y.shape)"
   ]
  },
  {
   "cell_type": "code",
   "execution_count": 6,
   "id": "3caae2db",
   "metadata": {},
   "outputs": [],
   "source": [
    "from sklearn. model_selection import train_test_split\n",
    "\n",
    "X_train, X_test, y_train, y_test = train_test_split(\n",
    "    X,\n",
    "    y,\n",
    "    test_size=.2,\n",
    "    random_state=0)"
   ]
  },
  {
   "cell_type": "code",
   "execution_count": 7,
   "id": "c9a575d7",
   "metadata": {
    "scrolled": true
   },
   "outputs": [
    {
     "name": "stderr",
     "output_type": "stream",
     "text": [
      "/opt/anaconda3/lib/python3.8/site-packages/sklearn/svm/_base.py:985: ConvergenceWarning: Liblinear failed to converge, increase the number of iterations.\n",
      "  warnings.warn(\"Liblinear failed to converge, increase \"\n"
     ]
    }
   ],
   "source": [
    "# LinearSVR without Standard Scaler\n",
    "from sklearn.svm import LinearSVR\n",
    "\n",
    "LSVR = LinearSVR(random_state=0)\n",
    "LSVR.fit(X_train, y_train)\n",
    "y_pred = LSVR.predict(X_test)"
   ]
  },
  {
   "cell_type": "code",
   "execution_count": 21,
   "id": "ce77cd27",
   "metadata": {},
   "outputs": [],
   "source": [
    "# LinearSVR with Standard Scaler\n",
    "from sklearn.pipeline import make_pipeline\n",
    "from sklearn.preprocessing import StandardScaler\n",
    "\n",
    "LSVRs = make_pipeline(StandardScaler(), LinearSVR(random_state=0))\n",
    "LSVRs.fit(X_train, y_train)\n",
    "y_preds = LSVRs.predict(X_test)"
   ]
  },
  {
   "cell_type": "markdown",
   "id": "bb0a9038",
   "metadata": {},
   "source": [
    "Model without Standard Scaler failed to converge.\n",
    "Decided to go with Standard Scaler pipeline with the normalized dataset. We will use this model for evaluation."
   ]
  },
  {
   "cell_type": "markdown",
   "id": "537d6898",
   "metadata": {},
   "source": [
    "## Evaluation"
   ]
  },
  {
   "cell_type": "code",
   "execution_count": 27,
   "id": "b9399a00",
   "metadata": {},
   "outputs": [],
   "source": [
    "# Define a function for output statistics\n",
    "\n",
    "import numpy as np\n",
    "from sklearn import metrics\n",
    "\n",
    "def reg_metrics(pred_model, y_pred, x_train, x_test, y_train, y_test):\n",
    "    \"\"\" Function takes in training and testing sets, prediction model, \n",
    "    and ouputs the below metrics:\n",
    "    1. R² or Coefficient of Determination.\n",
    "    2. Adjusted R²\n",
    "    3. Mean Squared Error(MSE)\n",
    "    4. Root-Mean-Squared-Error(RMSE)\n",
    "    5. Mean-Absolute-Proportion-Error (MAPE)\n",
    "    6. Mean-Absolute-Error(MAE)\n",
    "    \"\"\"\n",
    "    \n",
    "    #1-2 Coefficient of Determination (R² & Adjusted R²)\n",
    "    print(\"\\n\\t--- Coefficient of Determination (R² & Adjusted R²) ---\")\n",
    "    r2 = metrics.r2_score(y_pred=y_pred, y_true=y_test)\n",
    "    adj_r2 = 1 - (1-r2)*(len(y_train)-1)/(len(y_train)-x_train.shape[1]-1)\n",
    "\n",
    "    print(f\"R²\\t\\t: {r2}\")\n",
    "    print(f\"Adjusted R²\\t: {adj_r2}\")\n",
    "    \n",
    "    #3-6 MSE, RMSE, MAPE, MAE\n",
    "    print(\"\\n\\t--- Error Metrics ---\")\n",
    "    \n",
    "    # MSE, RMSE\n",
    "    y_train_pred = pred_model.predict(x_train)\n",
    "    train_mse = metrics.mean_squared_error(y_pred=y_train_pred, y_true=y_train, squared=True)\n",
    "    train_rmse = metrics.mean_squared_error(y_pred=y_train_pred, y_true=y_train, squared=False)\n",
    "    print(f\"Train_MSE\\t: {train_mse}\")\n",
    "    print(f\"Train_RMSE\\t: {train_rmse}\")\n",
    "    \n",
    "    test_mse = metrics.mean_squared_error(y_pred=y_pred, y_true=y_test, squared=True)\n",
    "    test_rmse = metrics.mean_squared_error(y_pred=y_pred, y_true=y_test, squared=False)\n",
    "    print(f\"Test_MSE\\t: {test_mse}\")\n",
    "    print(f\"Test_RMSE\\t: {test_rmse}\")\n",
    "\n",
    "    # MAPE\n",
    "    residual = y_test - y_pred\n",
    "    ape = np.abs(residual) / y_test\n",
    "    mape = np.mean(ape)\n",
    "    print(f\"MAPE\\t: {mape}\")\n",
    "    \n",
    "    #MAE\n",
    "    mae = metrics.mean_absolute_error(y_pred=y_pred, y_true=y_test)\n",
    "    print(f\"MAE\\t: {mae}\")"
   ]
  },
  {
   "cell_type": "code",
   "execution_count": 28,
   "id": "9be2192a",
   "metadata": {},
   "outputs": [
    {
     "name": "stdout",
     "output_type": "stream",
     "text": [
      "\n",
      "\t--- Coefficient of Determination (R² & Adjusted R²) ---\n",
      "R²\t\t: 0.6485865504476755\n",
      "Adjusted R²\t: 0.6485357125336312\n",
      "\n",
      "\t--- Error Metrics ---\n",
      "Train_MSE\t: 31506201.26783804\n",
      "Train_RMSE\t: 5613.0385058217835\n",
      "Test_MSE\t: 31652183.040777557\n",
      "Test_RMSE\t: 5626.027287596245\n",
      "MAPE\t: 0.42673753028759825\n",
      "MAE\t: 3906.0195903321282\n"
     ]
    }
   ],
   "source": [
    "reg_metrics(pred_model=LSVRs, \n",
    "            y_pred=y_preds, \n",
    "            x_train=X_train, \n",
    "            x_test=X_test, \n",
    "            y_train=y_train, \n",
    "            y_test=y_test)"
   ]
  },
  {
   "cell_type": "markdown",
   "id": "466f1407",
   "metadata": {},
   "source": [
    "<b>Notes:</b>\n",
    "\n",
    "Initially planned to use SVR, however the machine failed to execute the model. SVM is generally known to scale badly with a larger number of samples. Hence, we use LinerSVR as an alternative.\n",
    "\n",
    "<b>Reading:</b>\n",
    "\n",
    "Tuning SVR to reduce running time, option: use LinearSVR <br>\n",
    "https://datascience.stackexchange.com/questions/989/svm-using-scikit-learn-runs-endlessly-and-never-completes-execution<br>\n",
    "https://stackoverflow.com/questions/47460201/scikit-learn-svr-runs-very-long<br>\n",
    "https://stackoverflow.com/questions/15582669/how-to-speed-up-sklearn-svr?rq=1<br>\n",
    "\n",
    "Function details:<br>\n",
    "https://scikit-learn.org/stable/modules/generated/sklearn.svm.LinearSVR.html#sklearn.svm.LinearSVR<br>\n",
    "- Linear SVR is similar to SVR with parameter kernel=’linear’, but implemented in terms of liblinear rather than libsvm, so it has more flexibility in the choice of penalties and loss functions and should scale better to large numbers of samples.\n",
    "- This class supports both dense and sparse input.<br>\n",
    "\n",
    "\n",
    "https://towardsdatascience.com/hyperparameter-tuning-for-support-vector-machines-c-and-gamma-parameters-6a5097416167<br>\n",
    "\n",
    "\n",
    "SVM using Grid Search CV still takes a long time to run<br>\n",
    "https://stackoverflow.com/questions/57495123/optimizing-svr-parameters-using-gridsearchcv<br>\n",
    "https://scikit-learn.org/stable/modules/generated/sklearn.model_selection.GridSearchCV.html"
   ]
  }
 ],
 "metadata": {
  "kernelspec": {
   "display_name": "Python 3 (ipykernel)",
   "language": "python",
   "name": "python3"
  },
  "language_info": {
   "codemirror_mode": {
    "name": "ipython",
    "version": 3
   },
   "file_extension": ".py",
   "mimetype": "text/x-python",
   "name": "python",
   "nbconvert_exporter": "python",
   "pygments_lexer": "ipython3",
   "version": "3.9.7"
  }
 },
 "nbformat": 4,
 "nbformat_minor": 5
}
