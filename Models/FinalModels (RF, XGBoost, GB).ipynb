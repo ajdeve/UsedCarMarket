{
 "cells": [
  {
   "cell_type": "markdown",
   "id": "6879058b-efeb-47d2-9378-12fd0db9dd0f",
   "metadata": {},
   "source": [
    "# Final Models Running & Evaluation"
   ]
  },
  {
   "cell_type": "code",
   "execution_count": 38,
   "id": "56bf7d0e-e0e7-4dad-bc81-73ff451d63c2",
   "metadata": {},
   "outputs": [],
   "source": [
    "import pandas as pd\n",
    "import seaborn as sns\n",
    "import numpy as np\n",
    "import matplotlib.pyplot as plt"
   ]
  },
  {
   "cell_type": "code",
   "execution_count": 107,
   "id": "8764c3b0-f0fa-4e27-bbea-d1ba000a7cce",
   "metadata": {},
   "outputs": [
    {
     "data": {
      "text/html": [
       "<div>\n",
       "<style scoped>\n",
       "    .dataframe tbody tr th:only-of-type {\n",
       "        vertical-align: middle;\n",
       "    }\n",
       "\n",
       "    .dataframe tbody tr th {\n",
       "        vertical-align: top;\n",
       "    }\n",
       "\n",
       "    .dataframe thead th {\n",
       "        text-align: right;\n",
       "    }\n",
       "</style>\n",
       "<table border=\"1\" class=\"dataframe\">\n",
       "  <thead>\n",
       "    <tr style=\"text-align: right;\">\n",
       "      <th></th>\n",
       "      <th>price</th>\n",
       "      <th>year</th>\n",
       "      <th>condition</th>\n",
       "      <th>cylinders</th>\n",
       "      <th>fuel</th>\n",
       "      <th>odometer</th>\n",
       "      <th>title_status</th>\n",
       "      <th>transmission</th>\n",
       "      <th>drive</th>\n",
       "      <th>type</th>\n",
       "      <th>state</th>\n",
       "      <th>MSRP</th>\n",
       "      <th>car_age</th>\n",
       "      <th>is_vintage</th>\n",
       "      <th>is_color_neutral</th>\n",
       "    </tr>\n",
       "  </thead>\n",
       "  <tbody>\n",
       "    <tr>\n",
       "      <th>0</th>\n",
       "      <td>22590</td>\n",
       "      <td>2010</td>\n",
       "      <td>2</td>\n",
       "      <td>4</td>\n",
       "      <td>2</td>\n",
       "      <td>71229</td>\n",
       "      <td>0</td>\n",
       "      <td>2</td>\n",
       "      <td>0</td>\n",
       "      <td>8</td>\n",
       "      <td>1</td>\n",
       "      <td>46110</td>\n",
       "      <td>11</td>\n",
       "      <td>0</td>\n",
       "      <td>0</td>\n",
       "    </tr>\n",
       "    <tr>\n",
       "      <th>1</th>\n",
       "      <td>4500</td>\n",
       "      <td>1992</td>\n",
       "      <td>0</td>\n",
       "      <td>3</td>\n",
       "      <td>2</td>\n",
       "      <td>192000</td>\n",
       "      <td>0</td>\n",
       "      <td>0</td>\n",
       "      <td>0</td>\n",
       "      <td>0</td>\n",
       "      <td>1</td>\n",
       "      <td>25695</td>\n",
       "      <td>29</td>\n",
       "      <td>0</td>\n",
       "      <td>0</td>\n",
       "    </tr>\n",
       "    <tr>\n",
       "      <th>2</th>\n",
       "      <td>14000</td>\n",
       "      <td>2012</td>\n",
       "      <td>0</td>\n",
       "      <td>3</td>\n",
       "      <td>2</td>\n",
       "      <td>95000</td>\n",
       "      <td>0</td>\n",
       "      <td>0</td>\n",
       "      <td>1</td>\n",
       "      <td>5</td>\n",
       "      <td>1</td>\n",
       "      <td>37775</td>\n",
       "      <td>9</td>\n",
       "      <td>0</td>\n",
       "      <td>1</td>\n",
       "    </tr>\n",
       "    <tr>\n",
       "      <th>3</th>\n",
       "      <td>32990</td>\n",
       "      <td>2019</td>\n",
       "      <td>2</td>\n",
       "      <td>4</td>\n",
       "      <td>4</td>\n",
       "      <td>6897</td>\n",
       "      <td>0</td>\n",
       "      <td>2</td>\n",
       "      <td>0</td>\n",
       "      <td>8</td>\n",
       "      <td>1</td>\n",
       "      <td>38400</td>\n",
       "      <td>2</td>\n",
       "      <td>0</td>\n",
       "      <td>1</td>\n",
       "    </tr>\n",
       "    <tr>\n",
       "      <th>4</th>\n",
       "      <td>2100</td>\n",
       "      <td>2006</td>\n",
       "      <td>1</td>\n",
       "      <td>1</td>\n",
       "      <td>2</td>\n",
       "      <td>97000</td>\n",
       "      <td>0</td>\n",
       "      <td>0</td>\n",
       "      <td>0</td>\n",
       "      <td>4</td>\n",
       "      <td>1</td>\n",
       "      <td>21495</td>\n",
       "      <td>15</td>\n",
       "      <td>0</td>\n",
       "      <td>0</td>\n",
       "    </tr>\n",
       "  </tbody>\n",
       "</table>\n",
       "</div>"
      ],
      "text/plain": [
       "   price  year  condition  cylinders  fuel  odometer  title_status  \\\n",
       "0  22590  2010          2          4     2     71229             0   \n",
       "1   4500  1992          0          3     2    192000             0   \n",
       "2  14000  2012          0          3     2     95000             0   \n",
       "3  32990  2019          2          4     4      6897             0   \n",
       "4   2100  2006          1          1     2     97000             0   \n",
       "\n",
       "   transmission  drive  type  state   MSRP  car_age  is_vintage  \\\n",
       "0             2      0     8      1  46110       11           0   \n",
       "1             0      0     0      1  25695       29           0   \n",
       "2             0      1     5      1  37775        9           0   \n",
       "3             2      0     8      1  38400        2           0   \n",
       "4             0      0     4      1  21495       15           0   \n",
       "\n",
       "   is_color_neutral  \n",
       "0                 0  \n",
       "1                 0  \n",
       "2                 1  \n",
       "3                 1  \n",
       "4                 0  "
      ]
     },
     "execution_count": 107,
     "metadata": {},
     "output_type": "execute_result"
    }
   ],
   "source": [
    "df = pd.read_csv('/Users/yaoruofan/Downloads/clean_dataset2.csv')\n",
    "df.head()"
   ]
  },
  {
   "cell_type": "code",
   "execution_count": 108,
   "id": "130a1649-8332-4577-9f5c-339bbd38e1f1",
   "metadata": {},
   "outputs": [
    {
     "name": "stdout",
     "output_type": "stream",
     "text": [
      "<class 'pandas.core.frame.DataFrame'>\n",
      "RangeIndex: 120987 entries, 0 to 120986\n",
      "Data columns (total 15 columns):\n",
      " #   Column            Non-Null Count   Dtype\n",
      "---  ------            --------------   -----\n",
      " 0   price             120987 non-null  int64\n",
      " 1   year              120987 non-null  int64\n",
      " 2   condition         120987 non-null  int64\n",
      " 3   cylinders         120987 non-null  int64\n",
      " 4   fuel              120987 non-null  int64\n",
      " 5   odometer          120987 non-null  int64\n",
      " 6   title_status      120987 non-null  int64\n",
      " 7   transmission      120987 non-null  int64\n",
      " 8   drive             120987 non-null  int64\n",
      " 9   type              120987 non-null  int64\n",
      " 10  state             120987 non-null  int64\n",
      " 11  MSRP              120987 non-null  int64\n",
      " 12  car_age           120987 non-null  int64\n",
      " 13  is_vintage        120987 non-null  int64\n",
      " 14  is_color_neutral  120987 non-null  int64\n",
      "dtypes: int64(15)\n",
      "memory usage: 13.8 MB\n"
     ]
    }
   ],
   "source": [
    "df.info()"
   ]
  },
  {
   "cell_type": "code",
   "execution_count": 109,
   "id": "e8b7d93b-6e1f-4d5a-b1a0-fd354c1ba922",
   "metadata": {},
   "outputs": [],
   "source": [
    "X = df.drop('price',axis = 1)\n",
    "y = df['price']"
   ]
  },
  {
   "cell_type": "markdown",
   "id": "649d7c17-f7da-44eb-891d-ae87a27723df",
   "metadata": {},
   "source": [
    "### Random Forest"
   ]
  },
  {
   "cell_type": "code",
   "execution_count": 110,
   "id": "65d8a0dd-87dc-4d23-a54e-025d469801ef",
   "metadata": {},
   "outputs": [],
   "source": [
    "# Basic imports\n",
    "from sklearn.ensemble import RandomForestRegressor\n",
    "from sklearn.model_selection import train_test_split\n",
    "from sklearn.metrics import mean_squared_error as MSE\n",
    "# Set seed for reproducibility\n",
    "SEED = 85\n",
    "# Split dataset into 70% train and 30% test\n",
    "X_train, X_test, y_train, y_test = \\\n",
    "train_test_split(X, y,\n",
    "test_size=0.3,\n",
    "random_state=SEED)"
   ]
  },
  {
   "cell_type": "code",
   "execution_count": 111,
   "id": "ae3d1435-da14-4a5d-91ff-734a14940e37",
   "metadata": {},
   "outputs": [
    {
     "name": "stdout",
     "output_type": "stream",
     "text": [
      "Test set RMSE of rf: 3135.390\n"
     ]
    }
   ],
   "source": [
    "rf_reg = RandomForestRegressor(min_samples_leaf=25,n_estimators=100)\n",
    "rf_reg.fit(X_train, y_train)\n",
    "\n",
    "# Get predicted values on x_test\n",
    "y_pred = rf_reg.predict(X_test)\n",
    "\n",
    "#from sklearn.metrics import mean_squared_error as MSE\n",
    "\n",
    "# Compute MSE\n",
    "mse_test = MSE(y_test, y_pred)\n",
    "\n",
    "# Compute RMSE\n",
    "rmse_test = mse_test**(1/2)\n",
    "\n",
    "# Print RMSE\n",
    "print('Test set RMSE of rf: {:.3f}'.format(rmse_test))\n"
   ]
  },
  {
   "cell_type": "code",
   "execution_count": 112,
   "id": "0cb44e86-5e2d-4d9c-b9a9-4520f954c768",
   "metadata": {},
   "outputs": [
    {
     "data": {
      "text/plain": [
       "(0.9017594492747903, 0.8901043468186222)"
      ]
     },
     "execution_count": 112,
     "metadata": {},
     "output_type": "execute_result"
    }
   ],
   "source": [
    "rf_reg.score(X_train,y_train),rf_reg.score(X_test,y_test)"
   ]
  },
  {
   "cell_type": "code",
   "execution_count": 113,
   "id": "fdb5b642-8563-4bbb-a4c0-5aceebf5eaf1",
   "metadata": {},
   "outputs": [
    {
     "name": "stdout",
     "output_type": "stream",
     "text": [
      "Train set RMSE of rf train: 2971.656\n"
     ]
    }
   ],
   "source": [
    "y_pred_dftrain = rf_reg.predict(X_train)\n",
    "mse_test = MSE(y_train, y_pred_dftrain)\n",
    "\n",
    "# Compute RMSE\n",
    "rmse_test = mse_test**(1/2)\n",
    "\n",
    "# Print RMSE\n",
    "print('Train set RMSE of rf train: {:.3f}'.format(rmse_test))"
   ]
  },
  {
   "cell_type": "code",
   "execution_count": 114,
   "id": "c59848a2-2590-458e-8d1f-b9b92798be47",
   "metadata": {},
   "outputs": [
    {
     "name": "stdout",
     "output_type": "stream",
     "text": [
      "CV RMSE: 3215.39\n"
     ]
    }
   ],
   "source": [
    "# Compute the array containing the 10-folds CV MSEs\n",
    "from sklearn.model_selection import cross_val_score\n",
    "MSE_CV_scores = - cross_val_score(rf_reg, X_train, y_train, cv=10, \n",
    "                                  scoring='neg_mean_squared_error', \n",
    "                                  n_jobs=-1) \n",
    "\n",
    "# Compute the 10-folds CV RMSE\n",
    "RMSE_CV = (MSE_CV_scores.mean())**(1/2)\n",
    "\n",
    "# Print RMSE_CV\n",
    "print('CV RMSE: {:.2f}'.format(RMSE_CV))"
   ]
  },
  {
   "cell_type": "code",
   "execution_count": 115,
   "id": "fe9b4c90-1201-4042-8ba0-7eb8b9fad515",
   "metadata": {},
   "outputs": [
    {
     "name": "stdout",
     "output_type": "stream",
     "text": [
      "0.2504624\n"
     ]
    }
   ],
   "source": [
    "# Mean Absolute Proportion Error\n",
    "residual = y_test - y_pred\n",
    "ape = np.abs(residual) / y_test\n",
    "mape = np.mean(ape)\n",
    "print(round(mape,7))"
   ]
  },
  {
   "cell_type": "code",
   "execution_count": null,
   "id": "6e0032f2-3e62-4d46-9f04-a0391f29ae00",
   "metadata": {},
   "outputs": [],
   "source": [
    "# Bagging Regression\n",
    "# Meta-algorithm combining predictions from multiple-decision\n",
    "# trees through a majority voting mechanism\n",
    "\n",
    "bag_reg = BaggingRegressor()\n",
    "bag_reg.fit(X_train, y_train)\n",
    "\n",
    "# Get predicted values on x_test\n",
    "y_pred = bag_reg.predict(X_test)\n",
    "\n",
    "print(\"\\t------- Bagging Regression -------\")\n",
    "bag_acc = reg_metrics(bag_reg, y_pred, X_train, X_test, y_train, y_test)\n",
    "\n",
    "acc_df.loc['Bagging'] = bag_acc"
   ]
  },
  {
   "cell_type": "markdown",
   "id": "4df9bd74-a611-4d96-a8cf-ba4272922d48",
   "metadata": {},
   "source": [
    "### GradientBoosting"
   ]
  },
  {
   "cell_type": "code",
   "execution_count": 123,
   "id": "f16c9b21-821f-45ac-88de-07021396c54b",
   "metadata": {
    "tags": []
   },
   "outputs": [
    {
     "name": "stdout",
     "output_type": "stream",
     "text": [
      "Test set RMSE of gb: 3143.895\n"
     ]
    }
   ],
   "source": [
    "# Import GradientBoostingRegressor\n",
    "from sklearn.ensemble import GradientBoostingRegressor\n",
    "\n",
    "# Instantiate gb\n",
    "gb = GradientBoostingRegressor(max_depth=4,\n",
    "                               n_estimators=200,\n",
    "                               random_state=SEED)\n",
    "\n",
    "# Fit gb to the training set\n",
    "gb.fit(X_train, y_train)\n",
    "\n",
    "# Predict test set labels\n",
    "y_pred_Gboost = gb.predict(X_test)\n",
    "\n",
    "# Import mean_squared_error as MSE\n",
    "#from sklearn.metrics import mean_squared_error as MSE\n",
    "\n",
    "# Compute MSE\n",
    "mse_test = MSE(y_test, y_pred_Gboost)\n",
    "\n",
    "# Compute RMSE\n",
    "rmse_test = mse_test**(1/2)\n",
    "\n",
    "# Print RMSE\n",
    "print('Test set RMSE of gb: {:.3f}'.format(rmse_test))\n"
   ]
  },
  {
   "cell_type": "code",
   "execution_count": 124,
   "id": "fc9dc480-3e7a-42f2-8105-253428a51210",
   "metadata": {},
   "outputs": [
    {
     "name": "stdout",
     "output_type": "stream",
     "text": [
      "Train set RMSE of gb: 3111.858\n"
     ]
    }
   ],
   "source": [
    "y_pred_Gboost_train = gb.predict(X_train)\n",
    "# Compute MSE\n",
    "mse_test = MSE(y_train, y_pred_Gboost_train)\n",
    "\n",
    "# Compute RMSE\n",
    "rmse_test = mse_test**(1/2)\n",
    "\n",
    "# Print RMSE\n",
    "print('Train set RMSE of gb: {:.3f}'.format(rmse_test))"
   ]
  },
  {
   "cell_type": "code",
   "execution_count": 125,
   "id": "08ffce84-0a94-44ef-8d86-2afb3c538188",
   "metadata": {},
   "outputs": [
    {
     "name": "stdout",
     "output_type": "stream",
     "text": [
      "CV RMSE: 3179.89\n"
     ]
    }
   ],
   "source": [
    "# Compute the array containing the 10-folds CV MSEs\n",
    "from sklearn.model_selection import cross_val_score\n",
    "MSE_CV_scores = - cross_val_score(gb, X_train, y_train, cv=10, \n",
    "                                  scoring='neg_mean_squared_error', \n",
    "                                  n_jobs=-1) \n",
    "\n",
    "# Compute the 10-folds CV RMSE\n",
    "RMSE_CV = (MSE_CV_scores.mean())**(1/2)\n",
    "\n",
    "# Print RMSE_CV\n",
    "print('CV RMSE: {:.2f}'.format(RMSE_CV))"
   ]
  },
  {
   "cell_type": "code",
   "execution_count": 126,
   "id": "782848ef-59f4-494c-a06d-fdc028494e94",
   "metadata": {},
   "outputs": [
    {
     "data": {
      "text/plain": [
       "(0.8922708285486293, 0.8895073646294681)"
      ]
     },
     "execution_count": 126,
     "metadata": {},
     "output_type": "execute_result"
    }
   ],
   "source": [
    "gb.score(X_train,y_train),gb.score(X_test,y_test)"
   ]
  },
  {
   "cell_type": "code",
   "execution_count": 127,
   "id": "6bbe0c4b-85da-4382-824e-fdec6747a5a1",
   "metadata": {},
   "outputs": [
    {
     "name": "stdout",
     "output_type": "stream",
     "text": [
      "0.2526609\n"
     ]
    }
   ],
   "source": [
    "# Mean Absolute Proportion Error\n",
    "residual = y_test - y_pred_Gboost\n",
    "ape = np.abs(residual) / y_test\n",
    "mape = np.mean(ape)\n",
    "print(round(mape,7))"
   ]
  },
  {
   "cell_type": "markdown",
   "id": "0a20e39f-6e24-47e8-a2b0-9229a31c4aa8",
   "metadata": {},
   "source": [
    "## Overfitting!!!"
   ]
  },
  {
   "cell_type": "code",
   "execution_count": 15,
   "id": "473c84e7-9696-45b6-a506-b252bf1f164a",
   "metadata": {},
   "outputs": [
    {
     "name": "stdout",
     "output_type": "stream",
     "text": [
      "Fitting 5 folds for each of 144 candidates, totalling 720 fits\n",
      "Best parameters: {'colsample_bytree': 0.7, 'gamma': 0, 'learning_rate': 0.3, 'max_depth': 7, 'n_estimators': 200, 'subsample': 0.8}\n",
      "Lowest RMSE:  2547.382378977299\n"
     ]
    }
   ],
   "source": [
    "import xgboost as xgb\n",
    "from sklearn.model_selection import GridSearchCV\n",
    "params = { 'max_depth': [3,4,5,7],\n",
    "           'learning_rate': [0.05, 0.1, 0.3],\n",
    "           'n_estimators': [50,100,200],\n",
    "           'colsample_bytree': [0.5, 0.7],\n",
    "         'subsample':[0.8], 'gamma':[0,0.25]}\n",
    "xgbr = xgb.XGBRegressor(seed = 85)\n",
    "clf = GridSearchCV(estimator=xgbr, \n",
    "                   \n",
    "                   param_grid=params,\n",
    "                   scoring='neg_mean_squared_error', \n",
    "                   verbose=1)\n",
    "clf.fit(X_train, y_train)\n",
    "print(\"Best parameters:\", clf.best_params_)\n",
    "print(\"Lowest RMSE: \", (-clf.best_score_)**(1/2.0))"
   ]
  },
  {
   "cell_type": "code",
   "execution_count": 16,
   "id": "948ca676-2eb9-4814-967a-64e5a88a887b",
   "metadata": {},
   "outputs": [
    {
     "name": "stdout",
     "output_type": "stream",
     "text": [
      "Fitting 5 folds for each of 32 candidates, totalling 160 fits\n",
      "Best parameters: {'colsample_bytree': 0.8, 'learning_rate': 0.3, 'max_depth': 8, 'n_estimators': 500, 'subsample': 0.9}\n",
      "Lowest RMSE:  2397.5648226850567\n"
     ]
    }
   ],
   "source": [
    "params = { 'max_depth': [7,8],\n",
    "           'learning_rate': [0.3,0.5],\n",
    "           'n_estimators': [200,500],\n",
    "           'colsample_bytree': [0.7,0.8],\n",
    "         'subsample':[0.8,0.9]}\n",
    "xgbr = xgb.XGBRegressor(seed = 85)\n",
    "clf = GridSearchCV(estimator=xgbr, \n",
    "                   \n",
    "                   param_grid=params,\n",
    "                   scoring='neg_mean_squared_error', \n",
    "                   verbose=1)\n",
    "clf.fit(X_train, y_train)\n",
    "print(\"Best parameters:\", clf.best_params_)\n",
    "print(\"Lowest RMSE: \", (-clf.best_score_)**(1/2.0))"
   ]
  },
  {
   "cell_type": "code",
   "execution_count": 28,
   "id": "bb665433-398a-4f3a-8e79-8804fd02cfab",
   "metadata": {},
   "outputs": [
    {
     "data": {
      "text/plain": [
       "(0.9863474084079347, 0.9396890407481001)"
      ]
     },
     "execution_count": 28,
     "metadata": {},
     "output_type": "execute_result"
    }
   ],
   "source": [
    "xgbr = xgb.XGBRegressor(max_depth = 8,\n",
    "                        n_estimators = 500,\n",
    "                        colsample_bytree = 0.7,\n",
    "                        subsample = 0.9)\n",
    "xgbr.fit(X_train, y_train)\n",
    "pp = xgbr.predict(X_test)\n",
    "\n",
    "xgbr.score(X_train,y_train),xgbr.score(X_test,y_test)"
   ]
  },
  {
   "cell_type": "code",
   "execution_count": 30,
   "id": "1985bcec-e2dd-4674-9d11-e002b5d613d9",
   "metadata": {},
   "outputs": [
    {
     "name": "stdout",
     "output_type": "stream",
     "text": [
      "Test set RMSE of xgb: 2323.098\n"
     ]
    }
   ],
   "source": [
    "\n",
    "# Compute MSE\n",
    "mse_test = MSE(y_test, pp)\n",
    "\n",
    "# Compute RMSE\n",
    "rmse_test = mse_test**(1/2)\n",
    "\n",
    "# Print RMSE\n",
    "print('Test set RMSE of xgb: {:.3f}'.format(rmse_test))\n"
   ]
  },
  {
   "cell_type": "code",
   "execution_count": 36,
   "id": "7575adfb-cdb1-49ee-934f-990ab5e4056b",
   "metadata": {},
   "outputs": [
    {
     "name": "stdout",
     "output_type": "stream",
     "text": [
      "Test set RMSE of xgb train: 1110.249\n"
     ]
    }
   ],
   "source": [
    "pp_train = xgbr.predict(X_train)\n",
    "mse_test = MSE(y_train, pp_train)\n",
    "\n",
    "# Compute RMSE\n",
    "rmse_test = mse_test**(1/2)\n",
    "\n",
    "# Print RMSE\n",
    "print('Test set RMSE of xgb train: {:.3f}'.format(rmse_test))"
   ]
  },
  {
   "cell_type": "markdown",
   "id": "d821bbc2-8075-438e-9a2d-13997b27498b",
   "metadata": {},
   "source": [
    "**Train RMSE is much smaller than Test RESE**"
   ]
  },
  {
   "cell_type": "code",
   "execution_count": 34,
   "id": "cc8f3517-0875-40c4-a3ad-a78fbd138a6b",
   "metadata": {},
   "outputs": [
    {
     "name": "stdout",
     "output_type": "stream",
     "text": [
      "0.1721138\n"
     ]
    }
   ],
   "source": [
    "# Mean Absolute Proportion Error\n",
    "residual = y_test - pp\n",
    "ape = np.abs(residual) / y_test\n",
    "mape = np.mean(ape)\n",
    "print(round(mape,7))"
   ]
  },
  {
   "cell_type": "markdown",
   "id": "040a5306-cdf0-4579-8ed2-1ba295356f12",
   "metadata": {},
   "source": [
    "## Try new XGBoost!!! No overfitting"
   ]
  },
  {
   "cell_type": "code",
   "execution_count": 116,
   "id": "ad8945e7-2751-41cc-bca1-53bcacbd9a12",
   "metadata": {},
   "outputs": [
    {
     "data": {
      "text/plain": [
       "(0.9358781059910977, 0.9213748348105647)"
      ]
     },
     "execution_count": 116,
     "metadata": {},
     "output_type": "execute_result"
    }
   ],
   "source": [
    "import xgboost as xgb\n",
    "xgbr = xgb.XGBRegressor(max_depth = 4,\n",
    "                        n_estimators = 500,\n",
    "                        colsample_bytree = 0.7,\n",
    "                        subsample = 0.9)\n",
    "xgbr.fit(X_train, y_train)\n",
    "pp = xgbr.predict(X_test)\n",
    "\n",
    "xgbr.score(X_train,y_train),xgbr.score(X_test,y_test)"
   ]
  },
  {
   "cell_type": "code",
   "execution_count": 117,
   "id": "0a691bfd-870e-439d-b28d-3594a57da204",
   "metadata": {},
   "outputs": [
    {
     "name": "stdout",
     "output_type": "stream",
     "text": [
      "Train set RMSE of xgb train: 2400.801\n"
     ]
    }
   ],
   "source": [
    "pp_train = xgbr.predict(X_train)\n",
    "mse_test = MSE(y_train, pp_train)\n",
    "\n",
    "# Compute RMSE\n",
    "rmse_test = mse_test**(1/2)\n",
    "\n",
    "# Print RMSE\n",
    "print('Train set RMSE of xgb train: {:.3f}'.format(rmse_test))"
   ]
  },
  {
   "cell_type": "code",
   "execution_count": 118,
   "id": "8b5ec512-c5d7-4c3a-b6cb-78258b7d3321",
   "metadata": {},
   "outputs": [
    {
     "name": "stdout",
     "output_type": "stream",
     "text": [
      "CV RMSE: 2674.25\n"
     ]
    }
   ],
   "source": [
    "# Compute the array containing the 10-folds CV MSEs\n",
    "from sklearn.model_selection import cross_val_score\n",
    "MSE_CV_scores = - cross_val_score(xgbr, X_train, y_train, cv=10, \n",
    "                                  scoring='neg_mean_squared_error', \n",
    "                                  n_jobs=-1) \n",
    "\n",
    "# Compute the 10-folds CV RMSE\n",
    "RMSE_CV = (MSE_CV_scores.mean())**(1/2)\n",
    "\n",
    "# Print RMSE_CV\n",
    "print('CV RMSE: {:.2f}'.format(RMSE_CV))"
   ]
  },
  {
   "cell_type": "code",
   "execution_count": 120,
   "id": "96bb5fbc-9424-4c9c-a6c7-fd0dfbaa7835",
   "metadata": {},
   "outputs": [
    {
     "name": "stdout",
     "output_type": "stream",
     "text": [
      "Test set RMSE of xgb: 2652.052\n"
     ]
    }
   ],
   "source": [
    "# Compute MSE\n",
    "mse_test = MSE(y_test, pp)\n",
    "\n",
    "# Compute RMSE\n",
    "rmse_test = mse_test**(1/2)\n",
    "\n",
    "# Print RMSE\n",
    "print('Test set RMSE of xgb: {:.3f}'.format(rmse_test))\n"
   ]
  },
  {
   "cell_type": "code",
   "execution_count": 121,
   "id": "c6637fba-98c8-4357-a347-1f9f4bd5c0d8",
   "metadata": {},
   "outputs": [
    {
     "name": "stdout",
     "output_type": "stream",
     "text": [
      "0.2096238\n"
     ]
    }
   ],
   "source": [
    "# Mean Absolute Proportion Error\n",
    "residual = y_test - pp\n",
    "ape = np.abs(residual) / y_test\n",
    "mape = np.mean(ape)\n",
    "print(round(mape,7))"
   ]
  },
  {
   "cell_type": "markdown",
   "id": "871e0251-3253-4f4c-bc32-91cd8552c6e8",
   "metadata": {},
   "source": [
    "### Feature Importance"
   ]
  },
  {
   "cell_type": "code",
   "execution_count": 122,
   "id": "20cfeabc-79aa-44cd-9c78-bd705f36d4bc",
   "metadata": {},
   "outputs": [
    {
     "data": {
      "image/png": "[encoded data removed]",
      "text/plain": [
       "<Figure size 720x720 with 1 Axes>"
      ]
     },
     "metadata": {
      "needs_background": "light"
     },
     "output_type": "display_data"
    }
   ],
   "source": [
    "from xgboost import plot_importance\n",
    "plt.rcParams[\"figure.figsize\"] = (10,10)\n",
    "plt.show(plot_importance(xgbr))"
   ]
  },
  {
   "cell_type": "code",
   "execution_count": null,
   "id": "f65eb234-6974-400f-bf4e-24cac9047213",
   "metadata": {},
   "outputs": [],
   "source": []
  }
 ],
 "metadata": {
  "kernelspec": {
   "display_name": "Python 3 (ipykernel)",
   "language": "python",
   "name": "python3"
  },
  "language_info": {
   "codemirror_mode": {
    "name": "ipython",
    "version": 3
   },
   "file_extension": ".py",
   "mimetype": "text/x-python",
   "name": "python",
   "nbconvert_exporter": "python",
   "pygments_lexer": "ipython3",
   "version": "3.9.7"
  }
 },
 "nbformat": 4,
 "nbformat_minor": 5
}
