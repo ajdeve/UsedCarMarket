{
 "cells": [
  {
   "cell_type": "markdown",
   "id": "41913dc2",
   "metadata": {},
   "source": [
    "# Load Dataset"
   ]
  },
  {
   "cell_type": "code",
   "execution_count": 1,
   "id": "18f9365c",
   "metadata": {},
   "outputs": [],
   "source": [
    "import pandas as pd\n",
    "data = pd.read_csv('/Volumes/GoogleDrive/My Drive/MScA 2022 WINTER/MSCA 31008 5 Data Mining Principles/Project/vehicles.csv')\n",
    "msrp = pd.read_csv('/Users/akhirsyabani/Downloads/cars_model_matches_msrp.csv')"
   ]
  },
  {
   "cell_type": "code",
   "execution_count": 2,
   "id": "86d8316e",
   "metadata": {},
   "outputs": [
    {
     "name": "stdout",
     "output_type": "stream",
     "text": [
      "<class 'pandas.core.frame.DataFrame'>\n",
      "RangeIndex: 426880 entries, 0 to 426879\n",
      "Data columns (total 26 columns):\n",
      " #   Column        Non-Null Count   Dtype  \n",
      "---  ------        --------------   -----  \n",
      " 0   id            426880 non-null  int64  \n",
      " 1   url           426880 non-null  object \n",
      " 2   region        426880 non-null  object \n",
      " 3   region_url    426880 non-null  object \n",
      " 4   price         426880 non-null  int64  \n",
      " 5   year          425675 non-null  float64\n",
      " 6   manufacturer  409234 non-null  object \n",
      " 7   model         421603 non-null  object \n",
      " 8   condition     252776 non-null  object \n",
      " 9   cylinders     249202 non-null  object \n",
      " 10  fuel          423867 non-null  object \n",
      " 11  odometer      422480 non-null  float64\n",
      " 12  title_status  418638 non-null  object \n",
      " 13  transmission  424324 non-null  object \n",
      " 14  VIN           265838 non-null  object \n",
      " 15  drive         296313 non-null  object \n",
      " 16  size          120519 non-null  object \n",
      " 17  type          334022 non-null  object \n",
      " 18  paint_color   296677 non-null  object \n",
      " 19  image_url     426812 non-null  object \n",
      " 20  description   426810 non-null  object \n",
      " 21  county        0 non-null       float64\n",
      " 22  state         426880 non-null  object \n",
      " 23  lat           420331 non-null  float64\n",
      " 24  long          420331 non-null  float64\n",
      " 25  posting_date  426812 non-null  object \n",
      "dtypes: float64(5), int64(2), object(19)\n",
      "memory usage: 84.7+ MB\n"
     ]
    }
   ],
   "source": [
    "dfc = data.copy()\n",
    "dfc.info()"
   ]
  },
  {
   "cell_type": "code",
   "execution_count": 3,
   "id": "b549347b",
   "metadata": {},
   "outputs": [
    {
     "name": "stdout",
     "output_type": "stream",
     "text": [
      "17646\n",
      "17646\n"
     ]
    }
   ],
   "source": [
    "# msrp file doesn't include 'manufacturer' = null\n",
    "print(dfc[\"manufacturer\"].isnull().sum())\n",
    "print(len(dfc)-len(msrp))"
   ]
  },
  {
   "cell_type": "code",
   "execution_count": 4,
   "id": "30a4daba",
   "metadata": {},
   "outputs": [
    {
     "data": {
      "text/plain": [
       "0"
      ]
     },
     "execution_count": 4,
     "metadata": {},
     "output_type": "execute_result"
    }
   ],
   "source": [
    "# remove 'manufacturer' = null from dfc_cut\n",
    "dfc_cut = dfc[dfc[\"manufacturer\"].notnull()]\n",
    "# check length difference (should be 0)\n",
    "len(dfc_cut)-len(msrp)"
   ]
  },
  {
   "cell_type": "code",
   "execution_count": 5,
   "id": "b2fe6da1",
   "metadata": {},
   "outputs": [],
   "source": [
    "# reset both indexes as they are supposed to have same orders of rows already\n",
    "dfc_cut.reset_index(inplace=True)\n",
    "msrp.reset_index(inplace=True)"
   ]
  },
  {
   "cell_type": "code",
   "execution_count": 6,
   "id": "6a440d65",
   "metadata": {},
   "outputs": [
    {
     "data": {
      "text/html": [
       "<div>\n",
       "<style scoped>\n",
       "    .dataframe tbody tr th:only-of-type {\n",
       "        vertical-align: middle;\n",
       "    }\n",
       "\n",
       "    .dataframe tbody tr th {\n",
       "        vertical-align: top;\n",
       "    }\n",
       "\n",
       "    .dataframe thead th {\n",
       "        text-align: right;\n",
       "    }\n",
       "</style>\n",
       "<table border=\"1\" class=\"dataframe\">\n",
       "  <thead>\n",
       "    <tr style=\"text-align: right;\">\n",
       "      <th></th>\n",
       "      <th>index</th>\n",
       "      <th>id</th>\n",
       "      <th>url</th>\n",
       "      <th>region</th>\n",
       "      <th>region_url</th>\n",
       "      <th>price</th>\n",
       "      <th>year</th>\n",
       "      <th>manufacturer</th>\n",
       "      <th>model</th>\n",
       "      <th>condition</th>\n",
       "      <th>...</th>\n",
       "      <th>size</th>\n",
       "      <th>type</th>\n",
       "      <th>paint_color</th>\n",
       "      <th>image_url</th>\n",
       "      <th>description</th>\n",
       "      <th>county</th>\n",
       "      <th>state</th>\n",
       "      <th>lat</th>\n",
       "      <th>long</th>\n",
       "      <th>posting_date</th>\n",
       "    </tr>\n",
       "  </thead>\n",
       "  <tbody>\n",
       "    <tr>\n",
       "      <th>0</th>\n",
       "      <td>27</td>\n",
       "      <td>7316814884</td>\n",
       "      <td>https://auburn.craigslist.org/ctd/d/auburn-uni...</td>\n",
       "      <td>auburn</td>\n",
       "      <td>https://auburn.craigslist.org</td>\n",
       "      <td>33590</td>\n",
       "      <td>2014.0</td>\n",
       "      <td>gmc</td>\n",
       "      <td>sierra 1500 crew cab slt</td>\n",
       "      <td>good</td>\n",
       "      <td>...</td>\n",
       "      <td>NaN</td>\n",
       "      <td>pickup</td>\n",
       "      <td>white</td>\n",
       "      <td>https://images.craigslist.org/00R0R_lwWjXSEWNa...</td>\n",
       "      <td>Carvana is the safer way to buy a car During t...</td>\n",
       "      <td>NaN</td>\n",
       "      <td>al</td>\n",
       "      <td>32.59</td>\n",
       "      <td>-85.48</td>\n",
       "      <td>2021-05-04T12:31:18-0500</td>\n",
       "    </tr>\n",
       "    <tr>\n",
       "      <th>1</th>\n",
       "      <td>28</td>\n",
       "      <td>7316814758</td>\n",
       "      <td>https://auburn.craigslist.org/ctd/d/auburn-uni...</td>\n",
       "      <td>auburn</td>\n",
       "      <td>https://auburn.craigslist.org</td>\n",
       "      <td>22590</td>\n",
       "      <td>2010.0</td>\n",
       "      <td>chevrolet</td>\n",
       "      <td>silverado 1500</td>\n",
       "      <td>good</td>\n",
       "      <td>...</td>\n",
       "      <td>NaN</td>\n",
       "      <td>pickup</td>\n",
       "      <td>blue</td>\n",
       "      <td>https://images.craigslist.org/00R0R_lwWjXSEWNa...</td>\n",
       "      <td>Carvana is the safer way to buy a car During t...</td>\n",
       "      <td>NaN</td>\n",
       "      <td>al</td>\n",
       "      <td>32.59</td>\n",
       "      <td>-85.48</td>\n",
       "      <td>2021-05-04T12:31:08-0500</td>\n",
       "    </tr>\n",
       "  </tbody>\n",
       "</table>\n",
       "<p>2 rows × 27 columns</p>\n",
       "</div>"
      ],
      "text/plain": [
       "   index          id                                                url  \\\n",
       "0     27  7316814884  https://auburn.craigslist.org/ctd/d/auburn-uni...   \n",
       "1     28  7316814758  https://auburn.craigslist.org/ctd/d/auburn-uni...   \n",
       "\n",
       "   region                     region_url  price    year manufacturer  \\\n",
       "0  auburn  https://auburn.craigslist.org  33590  2014.0          gmc   \n",
       "1  auburn  https://auburn.craigslist.org  22590  2010.0    chevrolet   \n",
       "\n",
       "                      model condition  ... size    type  paint_color  \\\n",
       "0  sierra 1500 crew cab slt      good  ...  NaN  pickup        white   \n",
       "1            silverado 1500      good  ...  NaN  pickup         blue   \n",
       "\n",
       "                                           image_url  \\\n",
       "0  https://images.craigslist.org/00R0R_lwWjXSEWNa...   \n",
       "1  https://images.craigslist.org/00R0R_lwWjXSEWNa...   \n",
       "\n",
       "                                         description county state    lat  \\\n",
       "0  Carvana is the safer way to buy a car During t...    NaN    al  32.59   \n",
       "1  Carvana is the safer way to buy a car During t...    NaN    al  32.59   \n",
       "\n",
       "    long              posting_date  \n",
       "0 -85.48  2021-05-04T12:31:18-0500  \n",
       "1 -85.48  2021-05-04T12:31:08-0500  \n",
       "\n",
       "[2 rows x 27 columns]"
      ]
     },
     "execution_count": 6,
     "metadata": {},
     "output_type": "execute_result"
    }
   ],
   "source": [
    "# check header match before merging (same)\n",
    "dfc_cut.head(2)"
   ]
  },
  {
   "cell_type": "code",
   "execution_count": 7,
   "id": "16eccf5c",
   "metadata": {},
   "outputs": [
    {
     "data": {
      "text/html": [
       "<div>\n",
       "<style scoped>\n",
       "    .dataframe tbody tr th:only-of-type {\n",
       "        vertical-align: middle;\n",
       "    }\n",
       "\n",
       "    .dataframe tbody tr th {\n",
       "        vertical-align: top;\n",
       "    }\n",
       "\n",
       "    .dataframe thead th {\n",
       "        text-align: right;\n",
       "    }\n",
       "</style>\n",
       "<table border=\"1\" class=\"dataframe\">\n",
       "  <thead>\n",
       "    <tr style=\"text-align: right;\">\n",
       "      <th></th>\n",
       "      <th>index</th>\n",
       "      <th>Unnamed: 0</th>\n",
       "      <th>matched_model</th>\n",
       "      <th>match_score</th>\n",
       "      <th>Make</th>\n",
       "      <th>Model</th>\n",
       "      <th>Year</th>\n",
       "      <th>Engine Cylinders</th>\n",
       "      <th>Vehicle Style</th>\n",
       "      <th>MSRP</th>\n",
       "      <th>Drive Wheels</th>\n",
       "      <th>Transmission Type</th>\n",
       "      <th>combined name</th>\n",
       "    </tr>\n",
       "  </thead>\n",
       "  <tbody>\n",
       "    <tr>\n",
       "      <th>0</th>\n",
       "      <td>0</td>\n",
       "      <td>0</td>\n",
       "      <td>Gmc Sierra 3500Hd Cc</td>\n",
       "      <td>0.708333</td>\n",
       "      <td>NaN</td>\n",
       "      <td>NaN</td>\n",
       "      <td>NaN</td>\n",
       "      <td>NaN</td>\n",
       "      <td>NaN</td>\n",
       "      <td>NaN</td>\n",
       "      <td>NaN</td>\n",
       "      <td>NaN</td>\n",
       "      <td>NaN</td>\n",
       "    </tr>\n",
       "    <tr>\n",
       "      <th>1</th>\n",
       "      <td>1</td>\n",
       "      <td>1</td>\n",
       "      <td>Chevrolet Silverado 1500</td>\n",
       "      <td>1.000000</td>\n",
       "      <td>Chevrolet</td>\n",
       "      <td>Silverado 1500</td>\n",
       "      <td>2015.0</td>\n",
       "      <td>8.0</td>\n",
       "      <td>Crew Cab Pickup</td>\n",
       "      <td>46110.0</td>\n",
       "      <td>4WD</td>\n",
       "      <td>AUTOMATIC</td>\n",
       "      <td>Chevrolet Silverado 1500</td>\n",
       "    </tr>\n",
       "  </tbody>\n",
       "</table>\n",
       "</div>"
      ],
      "text/plain": [
       "   index  Unnamed: 0             matched_model  match_score       Make  \\\n",
       "0      0           0      Gmc Sierra 3500Hd Cc     0.708333        NaN   \n",
       "1      1           1  Chevrolet Silverado 1500     1.000000  Chevrolet   \n",
       "\n",
       "            Model    Year  Engine Cylinders    Vehicle Style     MSRP  \\\n",
       "0             NaN     NaN               NaN              NaN      NaN   \n",
       "1  Silverado 1500  2015.0               8.0  Crew Cab Pickup  46110.0   \n",
       "\n",
       "  Drive Wheels Transmission Type             combined name  \n",
       "0          NaN               NaN                       NaN  \n",
       "1          4WD         AUTOMATIC  Chevrolet Silverado 1500  "
      ]
     },
     "execution_count": 7,
     "metadata": {},
     "output_type": "execute_result"
    }
   ],
   "source": [
    "# check header match before merging (same)\n",
    "msrp.head(2)"
   ]
  },
  {
   "cell_type": "code",
   "execution_count": 8,
   "id": "43925450",
   "metadata": {},
   "outputs": [],
   "source": [
    "# perform merging dfc_cut & msrp -> dfcar\n",
    "dfcar = dfc_cut.merge(msrp, left_index=True, right_on=\"index\")"
   ]
  },
  {
   "cell_type": "code",
   "execution_count": 9,
   "id": "0df54b08",
   "metadata": {},
   "outputs": [
    {
     "data": {
      "text/html": [
       "<div>\n",
       "<style scoped>\n",
       "    .dataframe tbody tr th:only-of-type {\n",
       "        vertical-align: middle;\n",
       "    }\n",
       "\n",
       "    .dataframe tbody tr th {\n",
       "        vertical-align: top;\n",
       "    }\n",
       "\n",
       "    .dataframe thead th {\n",
       "        text-align: right;\n",
       "    }\n",
       "</style>\n",
       "<table border=\"1\" class=\"dataframe\">\n",
       "  <thead>\n",
       "    <tr style=\"text-align: right;\">\n",
       "      <th></th>\n",
       "      <th>manufacturer</th>\n",
       "      <th>model</th>\n",
       "      <th>matched_model</th>\n",
       "      <th>Make</th>\n",
       "      <th>Model</th>\n",
       "      <th>match_score</th>\n",
       "    </tr>\n",
       "  </thead>\n",
       "  <tbody>\n",
       "    <tr>\n",
       "      <th>0</th>\n",
       "      <td>gmc</td>\n",
       "      <td>sierra 1500 crew cab slt</td>\n",
       "      <td>Gmc Sierra 3500Hd Cc</td>\n",
       "      <td>NaN</td>\n",
       "      <td>NaN</td>\n",
       "      <td>0.708333</td>\n",
       "    </tr>\n",
       "    <tr>\n",
       "      <th>1</th>\n",
       "      <td>chevrolet</td>\n",
       "      <td>silverado 1500</td>\n",
       "      <td>Chevrolet Silverado 1500</td>\n",
       "      <td>Chevrolet</td>\n",
       "      <td>Silverado 1500</td>\n",
       "      <td>1.000000</td>\n",
       "    </tr>\n",
       "    <tr>\n",
       "      <th>2</th>\n",
       "      <td>chevrolet</td>\n",
       "      <td>silverado 1500 crew</td>\n",
       "      <td>Chevrolet Silverado 1500</td>\n",
       "      <td>Chevrolet</td>\n",
       "      <td>Silverado 1500</td>\n",
       "      <td>0.905660</td>\n",
       "    </tr>\n",
       "    <tr>\n",
       "      <th>3</th>\n",
       "      <td>toyota</td>\n",
       "      <td>tundra double cab sr</td>\n",
       "      <td>Chevrolet Beretta</td>\n",
       "      <td>Chevrolet</td>\n",
       "      <td>Beretta</td>\n",
       "      <td>0.454545</td>\n",
       "    </tr>\n",
       "    <tr>\n",
       "      <th>4</th>\n",
       "      <td>ford</td>\n",
       "      <td>f-150 xlt</td>\n",
       "      <td>Ford F-150 Heritage</td>\n",
       "      <td>Ford</td>\n",
       "      <td>F-150 Heritage</td>\n",
       "      <td>0.424242</td>\n",
       "    </tr>\n",
       "  </tbody>\n",
       "</table>\n",
       "</div>"
      ],
      "text/plain": [
       "  manufacturer                     model             matched_model       Make  \\\n",
       "0          gmc  sierra 1500 crew cab slt      Gmc Sierra 3500Hd Cc        NaN   \n",
       "1    chevrolet            silverado 1500  Chevrolet Silverado 1500  Chevrolet   \n",
       "2    chevrolet       silverado 1500 crew  Chevrolet Silverado 1500  Chevrolet   \n",
       "3       toyota      tundra double cab sr         Chevrolet Beretta  Chevrolet   \n",
       "4         ford                 f-150 xlt       Ford F-150 Heritage       Ford   \n",
       "\n",
       "            Model  match_score  \n",
       "0             NaN     0.708333  \n",
       "1  Silverado 1500     1.000000  \n",
       "2  Silverado 1500     0.905660  \n",
       "3         Beretta     0.454545  \n",
       "4  F-150 Heritage     0.424242  "
      ]
     },
     "execution_count": 9,
     "metadata": {},
     "output_type": "execute_result"
    }
   ],
   "source": [
    "# check header (should be mostly matched, though may not be perfect)\n",
    "dfcar[['manufacturer','model','matched_model','Make','Model','match_score']].head()"
   ]
  },
  {
   "cell_type": "code",
   "execution_count": 10,
   "id": "1800d1e1",
   "metadata": {},
   "outputs": [
    {
     "data": {
      "text/html": [
       "<div>\n",
       "<style scoped>\n",
       "    .dataframe tbody tr th:only-of-type {\n",
       "        vertical-align: middle;\n",
       "    }\n",
       "\n",
       "    .dataframe tbody tr th {\n",
       "        vertical-align: top;\n",
       "    }\n",
       "\n",
       "    .dataframe thead th {\n",
       "        text-align: right;\n",
       "    }\n",
       "</style>\n",
       "<table border=\"1\" class=\"dataframe\">\n",
       "  <thead>\n",
       "    <tr style=\"text-align: right;\">\n",
       "      <th></th>\n",
       "      <th>manufacturer</th>\n",
       "      <th>model</th>\n",
       "      <th>matched_model</th>\n",
       "      <th>Make</th>\n",
       "      <th>Model</th>\n",
       "      <th>match_score</th>\n",
       "    </tr>\n",
       "  </thead>\n",
       "  <tbody>\n",
       "    <tr>\n",
       "      <th>409229</th>\n",
       "      <td>nissan</td>\n",
       "      <td>maxima s sedan 4d</td>\n",
       "      <td>Mazda Millenia</td>\n",
       "      <td>Mazda</td>\n",
       "      <td>Millenia</td>\n",
       "      <td>0.421053</td>\n",
       "    </tr>\n",
       "    <tr>\n",
       "      <th>409230</th>\n",
       "      <td>volvo</td>\n",
       "      <td>s60 t5 momentum sedan 4d</td>\n",
       "      <td>Alfa Romeo Stelvio</td>\n",
       "      <td>Alfa Romeo</td>\n",
       "      <td>Stelvio</td>\n",
       "      <td>0.416667</td>\n",
       "    </tr>\n",
       "    <tr>\n",
       "      <th>409231</th>\n",
       "      <td>cadillac</td>\n",
       "      <td>xt4 sport suv 4d</td>\n",
       "      <td>Cadillac SRX</td>\n",
       "      <td>Cadillac</td>\n",
       "      <td>SRX</td>\n",
       "      <td>0.432432</td>\n",
       "    </tr>\n",
       "    <tr>\n",
       "      <th>409232</th>\n",
       "      <td>lexus</td>\n",
       "      <td>es 350 sedan 4d</td>\n",
       "      <td>Nissan Leaf</td>\n",
       "      <td>Nissan</td>\n",
       "      <td>Leaf</td>\n",
       "      <td>0.437500</td>\n",
       "    </tr>\n",
       "    <tr>\n",
       "      <th>409233</th>\n",
       "      <td>bmw</td>\n",
       "      <td>4 series 430i gran coupe</td>\n",
       "      <td>BMW 4 Series Gran Coupe</td>\n",
       "      <td>BMW</td>\n",
       "      <td>4 Series Gran Coupe</td>\n",
       "      <td>0.901961</td>\n",
       "    </tr>\n",
       "  </tbody>\n",
       "</table>\n",
       "</div>"
      ],
      "text/plain": [
       "       manufacturer                     model            matched_model  \\\n",
       "409229       nissan         maxima s sedan 4d           Mazda Millenia   \n",
       "409230        volvo  s60 t5 momentum sedan 4d       Alfa Romeo Stelvio   \n",
       "409231     cadillac          xt4 sport suv 4d             Cadillac SRX   \n",
       "409232        lexus           es 350 sedan 4d              Nissan Leaf   \n",
       "409233          bmw  4 series 430i gran coupe  BMW 4 Series Gran Coupe   \n",
       "\n",
       "              Make                Model  match_score  \n",
       "409229       Mazda             Millenia     0.421053  \n",
       "409230  Alfa Romeo              Stelvio     0.416667  \n",
       "409231    Cadillac                  SRX     0.432432  \n",
       "409232      Nissan                 Leaf     0.437500  \n",
       "409233         BMW  4 Series Gran Coupe     0.901961  "
      ]
     },
     "execution_count": 10,
     "metadata": {},
     "output_type": "execute_result"
    }
   ],
   "source": [
    "# check tail (should be mostly matched, though may not be perfect)\n",
    "dfcar[['manufacturer','model','matched_model','Make','Model','match_score']].tail()"
   ]
  },
  {
   "cell_type": "code",
   "execution_count": 11,
   "id": "ff8ba054",
   "metadata": {},
   "outputs": [],
   "source": [
    "dfcar.to_csv('dfcar.csv')"
   ]
  },
  {
   "cell_type": "code",
   "execution_count": 12,
   "id": "f6763178",
   "metadata": {},
   "outputs": [
    {
     "data": {
      "text/plain": [
       "187880"
      ]
     },
     "execution_count": 12,
     "metadata": {},
     "output_type": "execute_result"
    }
   ],
   "source": [
    "# remove rows with 'match_score' less than threshold\n",
    "dfcar1 = dfcar[dfcar['match_score']>0.99]\n",
    "len(dfcar1)"
   ]
  },
  {
   "cell_type": "code",
   "execution_count": 13,
   "id": "91712765",
   "metadata": {},
   "outputs": [
    {
     "data": {
      "text/plain": [
       "Index(['index', 'index_x', 'id', 'url', 'region', 'region_url', 'price',\n",
       "       'year', 'manufacturer', 'model', 'condition', 'cylinders', 'fuel',\n",
       "       'odometer', 'title_status', 'transmission', 'VIN', 'drive', 'size',\n",
       "       'type', 'paint_color', 'image_url', 'description', 'county', 'state',\n",
       "       'lat', 'long', 'posting_date', 'index_y', 'Unnamed: 0', 'matched_model',\n",
       "       'match_score', 'Make', 'Model', 'Year', 'Engine Cylinders',\n",
       "       'Vehicle Style', 'MSRP', 'Drive Wheels', 'Transmission Type',\n",
       "       'combined name'],\n",
       "      dtype='object')"
      ]
     },
     "execution_count": 13,
     "metadata": {},
     "output_type": "execute_result"
    }
   ],
   "source": [
    "# check all column names\n",
    "dfcar1.columns"
   ]
  },
  {
   "cell_type": "code",
   "execution_count": 14,
   "id": "45b6a2d9",
   "metadata": {},
   "outputs": [
    {
     "data": {
      "text/html": [
       "<div>\n",
       "<style scoped>\n",
       "    .dataframe tbody tr th:only-of-type {\n",
       "        vertical-align: middle;\n",
       "    }\n",
       "\n",
       "    .dataframe tbody tr th {\n",
       "        vertical-align: top;\n",
       "    }\n",
       "\n",
       "    .dataframe thead th {\n",
       "        text-align: right;\n",
       "    }\n",
       "</style>\n",
       "<table border=\"1\" class=\"dataframe\">\n",
       "  <thead>\n",
       "    <tr style=\"text-align: right;\">\n",
       "      <th></th>\n",
       "      <th>index</th>\n",
       "      <th>index_x</th>\n",
       "      <th>id</th>\n",
       "      <th>url</th>\n",
       "      <th>region</th>\n",
       "      <th>region_url</th>\n",
       "      <th>price</th>\n",
       "      <th>year</th>\n",
       "      <th>manufacturer</th>\n",
       "      <th>model</th>\n",
       "      <th>...</th>\n",
       "      <th>match_score</th>\n",
       "      <th>Make</th>\n",
       "      <th>Model</th>\n",
       "      <th>Year</th>\n",
       "      <th>Engine Cylinders</th>\n",
       "      <th>Vehicle Style</th>\n",
       "      <th>MSRP</th>\n",
       "      <th>Drive Wheels</th>\n",
       "      <th>Transmission Type</th>\n",
       "      <th>combined name</th>\n",
       "    </tr>\n",
       "  </thead>\n",
       "  <tbody>\n",
       "    <tr>\n",
       "      <th>1</th>\n",
       "      <td>1</td>\n",
       "      <td>28</td>\n",
       "      <td>7316814758</td>\n",
       "      <td>https://auburn.craigslist.org/ctd/d/auburn-uni...</td>\n",
       "      <td>auburn</td>\n",
       "      <td>https://auburn.craigslist.org</td>\n",
       "      <td>22590</td>\n",
       "      <td>2010.0</td>\n",
       "      <td>chevrolet</td>\n",
       "      <td>silverado 1500</td>\n",
       "      <td>...</td>\n",
       "      <td>1.0</td>\n",
       "      <td>Chevrolet</td>\n",
       "      <td>Silverado 1500</td>\n",
       "      <td>2015.0</td>\n",
       "      <td>8.0</td>\n",
       "      <td>Crew Cab Pickup</td>\n",
       "      <td>46110.0</td>\n",
       "      <td>4WD</td>\n",
       "      <td>AUTOMATIC</td>\n",
       "      <td>Chevrolet Silverado 1500</td>\n",
       "    </tr>\n",
       "    <tr>\n",
       "      <th>7</th>\n",
       "      <td>7</td>\n",
       "      <td>34</td>\n",
       "      <td>7316285779</td>\n",
       "      <td>https://auburn.craigslist.org/cto/d/auburn-201...</td>\n",
       "      <td>auburn</td>\n",
       "      <td>https://auburn.craigslist.org</td>\n",
       "      <td>35000</td>\n",
       "      <td>2019.0</td>\n",
       "      <td>toyota</td>\n",
       "      <td>tacoma</td>\n",
       "      <td>...</td>\n",
       "      <td>2.0</td>\n",
       "      <td>Toyota</td>\n",
       "      <td>Tacoma</td>\n",
       "      <td>2015.0</td>\n",
       "      <td>6.0</td>\n",
       "      <td>Crew Cab Pickup</td>\n",
       "      <td>27355.0</td>\n",
       "      <td>4WD</td>\n",
       "      <td>MANUAL</td>\n",
       "      <td>Toyota Tacoma</td>\n",
       "    </tr>\n",
       "    <tr>\n",
       "      <th>10</th>\n",
       "      <td>10</td>\n",
       "      <td>37</td>\n",
       "      <td>7316130053</td>\n",
       "      <td>https://auburn.craigslist.org/cto/d/opelika-19...</td>\n",
       "      <td>auburn</td>\n",
       "      <td>https://auburn.craigslist.org</td>\n",
       "      <td>4500</td>\n",
       "      <td>1992.0</td>\n",
       "      <td>jeep</td>\n",
       "      <td>cherokee</td>\n",
       "      <td>...</td>\n",
       "      <td>1.0</td>\n",
       "      <td>Jeep</td>\n",
       "      <td>Cherokee</td>\n",
       "      <td>2017.0</td>\n",
       "      <td>4.0</td>\n",
       "      <td>SUV</td>\n",
       "      <td>25695.0</td>\n",
       "      <td>4WD</td>\n",
       "      <td>NaN</td>\n",
       "      <td>Jeep Cherokee</td>\n",
       "    </tr>\n",
       "  </tbody>\n",
       "</table>\n",
       "<p>3 rows × 41 columns</p>\n",
       "</div>"
      ],
      "text/plain": [
       "    index  index_x          id  \\\n",
       "1       1       28  7316814758   \n",
       "7       7       34  7316285779   \n",
       "10     10       37  7316130053   \n",
       "\n",
       "                                                  url  region  \\\n",
       "1   https://auburn.craigslist.org/ctd/d/auburn-uni...  auburn   \n",
       "7   https://auburn.craigslist.org/cto/d/auburn-201...  auburn   \n",
       "10  https://auburn.craigslist.org/cto/d/opelika-19...  auburn   \n",
       "\n",
       "                       region_url  price    year manufacturer           model  \\\n",
       "1   https://auburn.craigslist.org  22590  2010.0    chevrolet  silverado 1500   \n",
       "7   https://auburn.craigslist.org  35000  2019.0       toyota          tacoma   \n",
       "10  https://auburn.craigslist.org   4500  1992.0         jeep        cherokee   \n",
       "\n",
       "    ... match_score       Make           Model    Year Engine Cylinders  \\\n",
       "1   ...         1.0  Chevrolet  Silverado 1500  2015.0              8.0   \n",
       "7   ...         2.0     Toyota          Tacoma  2015.0              6.0   \n",
       "10  ...         1.0       Jeep        Cherokee  2017.0              4.0   \n",
       "\n",
       "      Vehicle Style     MSRP Drive Wheels Transmission Type  \\\n",
       "1   Crew Cab Pickup  46110.0          4WD         AUTOMATIC   \n",
       "7   Crew Cab Pickup  27355.0          4WD            MANUAL   \n",
       "10              SUV  25695.0          4WD               NaN   \n",
       "\n",
       "               combined name  \n",
       "1   Chevrolet Silverado 1500  \n",
       "7              Toyota Tacoma  \n",
       "10             Jeep Cherokee  \n",
       "\n",
       "[3 rows x 41 columns]"
      ]
     },
     "execution_count": 14,
     "metadata": {},
     "output_type": "execute_result"
    }
   ],
   "source": [
    "dfcar1.head(3)"
   ]
  },
  {
   "cell_type": "code",
   "execution_count": 15,
   "id": "57abd3fb",
   "metadata": {},
   "outputs": [],
   "source": [
    "# drop columns from dfcar that we 100% will not use for regression\n",
    "dfcar1 = dfcar1.drop([\n",
    "            # unnecessary indexes\n",
    "            'index','index_x','index_y','Unnamed: 0',\n",
    "            # unused columns from dfcar\n",
    "            'id','url','region','region_url','manufacturer','model','VIN','image_url',\n",
    "            'size','county','lat','long',\n",
    "            # unused columns from msrp\n",
    "            'combined name'\n",
    "            ],axis=1)"
   ]
  },
  {
   "cell_type": "code",
   "execution_count": 16,
   "id": "dacade20",
   "metadata": {},
   "outputs": [
    {
     "data": {
      "text/plain": [
       "Index(['price', 'year', 'condition', 'cylinders', 'fuel', 'odometer',\n",
       "       'title_status', 'transmission', 'drive', 'type', 'paint_color',\n",
       "       'description', 'state', 'posting_date', 'matched_model', 'match_score',\n",
       "       'Make', 'Model', 'Year', 'Engine Cylinders', 'Vehicle Style', 'MSRP',\n",
       "       'Drive Wheels', 'Transmission Type'],\n",
       "      dtype='object')"
      ]
     },
     "execution_count": 16,
     "metadata": {},
     "output_type": "execute_result"
    }
   ],
   "source": [
    "dfcar1.columns"
   ]
  },
  {
   "cell_type": "code",
   "execution_count": 17,
   "id": "93a94da1",
   "metadata": {},
   "outputs": [],
   "source": [
    "# maintain and rename selected msrp columns\n",
    "dfcar1.rename(columns={\"Make\":\"manufacturer_msrp\", \"Model\":\"model_msrp\", \"Year\":\"year_msrp\",\n",
    "                      \"Engine Cylinders\":\"cylinders_msrp\", \"Vehicle Style\":\"vstyle_msrp\",\n",
    "                      \"Drive Wheels\":\"wd_msrp\",\"Transmission Type\":\"trans_msrp\"},inplace=True)"
   ]
  },
  {
   "cell_type": "code",
   "execution_count": 18,
   "id": "f1a1ed6f",
   "metadata": {},
   "outputs": [
    {
     "data": {
      "text/plain": [
       "Index(['price', 'year', 'condition', 'cylinders', 'fuel', 'odometer',\n",
       "       'title_status', 'transmission', 'drive', 'type', 'paint_color',\n",
       "       'description', 'state', 'posting_date', 'matched_model', 'match_score',\n",
       "       'manufacturer_msrp', 'model_msrp', 'year_msrp', 'cylinders_msrp',\n",
       "       'vstyle_msrp', 'MSRP', 'wd_msrp', 'trans_msrp'],\n",
       "      dtype='object')"
      ]
     },
     "execution_count": 18,
     "metadata": {},
     "output_type": "execute_result"
    }
   ],
   "source": [
    "dfcar1.columns"
   ]
  },
  {
   "cell_type": "code",
   "execution_count": 19,
   "id": "9ecb7b27",
   "metadata": {},
   "outputs": [
    {
     "name": "stdout",
     "output_type": "stream",
     "text": [
      "<class 'pandas.core.frame.DataFrame'>\n",
      "Int64Index: 187880 entries, 1 to 409223\n",
      "Data columns (total 24 columns):\n",
      " #   Column             Non-Null Count   Dtype  \n",
      "---  ------             --------------   -----  \n",
      " 0   price              187880 non-null  int64  \n",
      " 1   year               187880 non-null  float64\n",
      " 2   condition          87140 non-null   object \n",
      " 3   cylinders          107251 non-null  object \n",
      " 4   fuel               187038 non-null  object \n",
      " 5   odometer           185063 non-null  float64\n",
      " 6   title_status       186328 non-null  object \n",
      " 7   transmission       186146 non-null  object \n",
      " 8   drive              136216 non-null  object \n",
      " 9   type               142745 non-null  object \n",
      " 10  paint_color        130829 non-null  object \n",
      " 11  description        187879 non-null  object \n",
      " 12  state              187880 non-null  object \n",
      " 13  posting_date       187880 non-null  object \n",
      " 14  matched_model      187880 non-null  object \n",
      " 15  match_score        187880 non-null  float64\n",
      " 16  manufacturer_msrp  181393 non-null  object \n",
      " 17  model_msrp         181393 non-null  object \n",
      " 18  year_msrp          181393 non-null  float64\n",
      " 19  cylinders_msrp     181280 non-null  float64\n",
      " 20  vstyle_msrp        181393 non-null  object \n",
      " 21  MSRP               181393 non-null  float64\n",
      " 22  wd_msrp            181393 non-null  object \n",
      " 23  trans_msrp         158642 non-null  object \n",
      "dtypes: float64(6), int64(1), object(17)\n",
      "memory usage: 35.8+ MB\n"
     ]
    }
   ],
   "source": [
    "# check before further clean up\n",
    "dfcar1.info()"
   ]
  },
  {
   "cell_type": "code",
   "execution_count": 20,
   "id": "acdf61e2",
   "metadata": {},
   "outputs": [],
   "source": [
    "dfcar1.to_csv('dfcar1.csv')"
   ]
  },
  {
   "cell_type": "markdown",
   "id": "03a9a39d",
   "metadata": {},
   "source": [
    "## Price: drop nulls"
   ]
  },
  {
   "cell_type": "code",
   "execution_count": 21,
   "id": "1c4c6dc4",
   "metadata": {},
   "outputs": [],
   "source": [
    "dfcar2 = dfcar1[dfcar1['price'].notnull()]"
   ]
  },
  {
   "cell_type": "code",
   "execution_count": 22,
   "id": "6fd04fca",
   "metadata": {},
   "outputs": [
    {
     "data": {
      "text/plain": [
       "0"
      ]
     },
     "execution_count": 22,
     "metadata": {},
     "output_type": "execute_result"
    }
   ],
   "source": [
    "dfcar2['price'].isnull().sum()"
   ]
  },
  {
   "cell_type": "code",
   "execution_count": 23,
   "id": "68c006df",
   "metadata": {},
   "outputs": [
    {
     "data": {
      "text/plain": [
       "187880"
      ]
     },
     "execution_count": 23,
     "metadata": {},
     "output_type": "execute_result"
    }
   ],
   "source": [
    "len(dfcar2)"
   ]
  },
  {
   "cell_type": "markdown",
   "id": "4d83a0a9",
   "metadata": {},
   "source": [
    "## Year: as-is"
   ]
  },
  {
   "cell_type": "markdown",
   "id": "ae70edf2",
   "metadata": {},
   "source": [
    "## Odometer: modify\n",
    "Remove extreme values as the data is very skewed by outliers <br>\n",
    "Remove values > mean + 7*stdev"
   ]
  },
  {
   "cell_type": "code",
   "execution_count": 24,
   "id": "ed8a797f",
   "metadata": {},
   "outputs": [
    {
     "data": {
      "text/plain": [
       "<seaborn.axisgrid.FacetGrid at 0x7fb59230cd90>"
      ]
     },
     "execution_count": 24,
     "metadata": {},
     "output_type": "execute_result"
    },
    {
     "data": {
      "image/png": "[encoded data removed]",
      "text/plain": [
       "<Figure size 360x360 with 1 Axes>"
      ]
     },
     "metadata": {
      "needs_background": "light"
     },
     "output_type": "display_data"
    }
   ],
   "source": [
    "# visualize skewed original distribution\n",
    "import seaborn as sns\n",
    "sns.displot(dfcar2['odometer'].dropna())"
   ]
  },
  {
   "cell_type": "code",
   "execution_count": 25,
   "id": "76e63e1f",
   "metadata": {},
   "outputs": [
    {
     "name": "stdout",
     "output_type": "stream",
     "text": [
      "1370072.5037961162\n",
      "-435595.2291613914\n"
     ]
    }
   ],
   "source": [
    "odo_mean = (dfcar2['odometer'].dropna()).mean()\n",
    "odo_std = (dfcar2['odometer'].dropna()).std()\n",
    "outliers_upper_threshold = odo_mean + 7*odo_std\n",
    "outliers_lower_threshold = odo_mean - 3*odo_std\n",
    "print(outliers_upper_threshold)\n",
    "print(outliers_lower_threshold)"
   ]
  },
  {
   "cell_type": "code",
   "execution_count": 26,
   "id": "c7416e9e",
   "metadata": {},
   "outputs": [],
   "source": [
    "dfcar2 = dfcar2[dfcar2['odometer']<outliers_upper_threshold]"
   ]
  },
  {
   "cell_type": "code",
   "execution_count": 27,
   "id": "b1d2e4c3",
   "metadata": {},
   "outputs": [
    {
     "data": {
      "text/plain": [
       "184951"
      ]
     },
     "execution_count": 27,
     "metadata": {},
     "output_type": "execute_result"
    }
   ],
   "source": [
    "len(dfcar2)"
   ]
  },
  {
   "cell_type": "markdown",
   "id": "dfdc9f6e",
   "metadata": {},
   "source": [
    "## Condition: modify\n",
    "Fill nulls based on odometer:\n",
    "1. NaN = Fair\n",
    "2. Quantile <25% = Excellent\n",
    "3. Quantile >50%  = Fair\n",
    "4. Quantile 25%-50% = Good"
   ]
  },
  {
   "cell_type": "code",
   "execution_count": 28,
   "id": "3ba61418",
   "metadata": {},
   "outputs": [
    {
     "data": {
      "text/plain": [
       "99121"
      ]
     },
     "execution_count": 28,
     "metadata": {},
     "output_type": "execute_result"
    }
   ],
   "source": [
    "dfcar2['condition'].isnull().sum()"
   ]
  },
  {
   "cell_type": "code",
   "execution_count": 29,
   "id": "ed50df61",
   "metadata": {},
   "outputs": [
    {
     "data": {
      "text/plain": [
       "count    1.849510e+05\n",
       "mean     1.025936e+05\n",
       "std      6.592825e+04\n",
       "min      0.000000e+00\n",
       "25%      5.577300e+04\n",
       "50%      9.900000e+04\n",
       "75%      1.403930e+05\n",
       "max      1.365000e+06\n",
       "Name: odometer, dtype: float64"
      ]
     },
     "execution_count": 29,
     "metadata": {},
     "output_type": "execute_result"
    }
   ],
   "source": [
    "dfcar2['odometer'].describe()"
   ]
  },
  {
   "cell_type": "code",
   "execution_count": 30,
   "id": "c7571994",
   "metadata": {},
   "outputs": [],
   "source": [
    "dfcar2['condition'].fillna(dfcar2.query('condition != condition')['odometer'].apply(\n",
    "                            lambda x: 'excellent' if x<(5.577300 * 10000) else ('good' if x <(9.900000 * 10000)\n",
    "                                                        else 'fair')),inplace=True)"
   ]
  },
  {
   "cell_type": "code",
   "execution_count": 31,
   "id": "53673b88",
   "metadata": {},
   "outputs": [
    {
     "data": {
      "text/plain": [
       "0"
      ]
     },
     "execution_count": 31,
     "metadata": {},
     "output_type": "execute_result"
    }
   ],
   "source": [
    "dfcar2['condition'].isnull().sum()"
   ]
  },
  {
   "cell_type": "code",
   "execution_count": 32,
   "id": "d56f12bf",
   "metadata": {},
   "outputs": [
    {
     "data": {
      "text/plain": [
       "excellent    78728\n",
       "good         51841\n",
       "fair         45047\n",
       "like new      8498\n",
       "new            537\n",
       "salvage        300\n",
       "Name: condition, dtype: int64"
      ]
     },
     "execution_count": 32,
     "metadata": {},
     "output_type": "execute_result"
    }
   ],
   "source": [
    "dfcar2['condition'].value_counts()"
   ]
  },
  {
   "cell_type": "code",
   "execution_count": 33,
   "id": "ed97ba51",
   "metadata": {},
   "outputs": [
    {
     "data": {
      "text/plain": [
       "184951"
      ]
     },
     "execution_count": 33,
     "metadata": {},
     "output_type": "execute_result"
    }
   ],
   "source": [
    "len(dfcar2)"
   ]
  },
  {
   "cell_type": "markdown",
   "id": "ae974bd9",
   "metadata": {},
   "source": [
    "## Cylinders: modify\n",
    "1. Fill NA with the most common types based on matched_model and manufacturer\n",
    "2. Fill the rest of NA with most common types"
   ]
  },
  {
   "cell_type": "code",
   "execution_count": 34,
   "id": "ecc7368a",
   "metadata": {},
   "outputs": [
    {
     "data": {
      "text/plain": [
       "4 cylinders     42233\n",
       "6 cylinders     37373\n",
       "8 cylinders     25055\n",
       "5 cylinders       918\n",
       "other             321\n",
       "10 cylinders      307\n",
       "3 cylinders       231\n",
       "12 cylinders       19\n",
       "Name: cylinders, dtype: int64"
      ]
     },
     "execution_count": 34,
     "metadata": {},
     "output_type": "execute_result"
    }
   ],
   "source": [
    "dfcar2['cylinders'].value_counts()"
   ]
  },
  {
   "cell_type": "code",
   "execution_count": 35,
   "id": "e6f28358",
   "metadata": {},
   "outputs": [],
   "source": [
    "import numpy as np\n",
    "dfcar2['cylinders'].replace('cylinders','', regex=True, inplace=True)\n",
    "dfcar2['cylinders'].replace('other',np.nan, regex=True, inplace=True)"
   ]
  },
  {
   "cell_type": "code",
   "execution_count": 36,
   "id": "d3a788a3",
   "metadata": {},
   "outputs": [
    {
     "data": {
      "text/plain": [
       "4      42233\n",
       "6      37373\n",
       "8      25055\n",
       "5        918\n",
       "10       307\n",
       "3        231\n",
       "12        19\n",
       "Name: cylinders, dtype: int64"
      ]
     },
     "execution_count": 36,
     "metadata": {},
     "output_type": "execute_result"
    }
   ],
   "source": [
    "dfcar2['cylinders'].value_counts()"
   ]
  },
  {
   "cell_type": "code",
   "execution_count": 37,
   "id": "ff86ea0d",
   "metadata": {},
   "outputs": [
    {
     "data": {
      "text/plain": [
       "78815"
      ]
     },
     "execution_count": 37,
     "metadata": {},
     "output_type": "execute_result"
    }
   ],
   "source": [
    "dfcar2['cylinders'].isnull().sum()"
   ]
  },
  {
   "cell_type": "code",
   "execution_count": 38,
   "id": "0f9e0af9",
   "metadata": {},
   "outputs": [
    {
     "data": {
      "text/plain": [
       "6499"
      ]
     },
     "execution_count": 38,
     "metadata": {},
     "output_type": "execute_result"
    }
   ],
   "source": [
    "# check cylinders_msrp\n",
    "dfcar2['cylinders_msrp'].isnull().sum()"
   ]
  },
  {
   "cell_type": "code",
   "execution_count": 39,
   "id": "e0462074",
   "metadata": {},
   "outputs": [
    {
     "data": {
      "text/plain": [
       "4.0     75271\n",
       "6.0     67860\n",
       "8.0     33644\n",
       "5.0       670\n",
       "3.0       651\n",
       "0.0       328\n",
       "12.0       16\n",
       "10.0       12\n",
       "Name: cylinders_msrp, dtype: int64"
      ]
     },
     "execution_count": 39,
     "metadata": {},
     "output_type": "execute_result"
    }
   ],
   "source": [
    "dfcar2['cylinders_msrp'].value_counts()"
   ]
  },
  {
   "cell_type": "code",
   "execution_count": 40,
   "id": "d06e264d",
   "metadata": {},
   "outputs": [
    {
     "data": {
      "text/plain": [
       "6827"
      ]
     },
     "execution_count": 40,
     "metadata": {},
     "output_type": "execute_result"
    }
   ],
   "source": [
    "dfcar2['cylinders_msrp'].replace(0,np.nan, regex=True, inplace=True)\n",
    "dfcar2['cylinders_msrp'].isnull().sum()"
   ]
  },
  {
   "cell_type": "code",
   "execution_count": 41,
   "id": "b011f07e",
   "metadata": {
    "scrolled": false
   },
   "outputs": [],
   "source": [
    "# create a lookup dictionary to fill up nulls\n",
    "dict_cyl = dict(zip(dfcar2.matched_model, dfcar2.cylinders_msrp))"
   ]
  },
  {
   "cell_type": "code",
   "execution_count": 42,
   "id": "10920370",
   "metadata": {},
   "outputs": [],
   "source": [
    "dfcar2['cylinders'].fillna(dfcar2['matched_model'].replace(dict_cyl),inplace=True)\n",
    "dfcar2['cylinders_msrp'].fillna(dfcar2['matched_model'].replace(dict_cyl),inplace=True)"
   ]
  },
  {
   "cell_type": "code",
   "execution_count": 43,
   "id": "33f7b697",
   "metadata": {},
   "outputs": [
    {
     "name": "stdout",
     "output_type": "stream",
     "text": [
      "2988\n",
      "6827\n"
     ]
    }
   ],
   "source": [
    "print(dfcar2['cylinders'].isnull().sum())\n",
    "print(dfcar2['cylinders_msrp'].isnull().sum())"
   ]
  },
  {
   "cell_type": "code",
   "execution_count": 44,
   "id": "581d6a4a",
   "metadata": {},
   "outputs": [],
   "source": [
    "# create a second lookup dictionary to fill up nulls\n",
    "dict_cyl2 = dict(zip(dfcar2.manufacturer_msrp, dfcar2.cylinders_msrp))"
   ]
  },
  {
   "cell_type": "code",
   "execution_count": 45,
   "id": "572447d2",
   "metadata": {},
   "outputs": [],
   "source": [
    "dfcar2['cylinders'].fillna(dfcar2['manufacturer_msrp'].replace(dict_cyl2),inplace=True)\n",
    "dfcar2['cylinders_msrp'].fillna(dfcar2['manufacturer_msrp'].replace(dict_cyl2),inplace=True)"
   ]
  },
  {
   "cell_type": "code",
   "execution_count": 46,
   "id": "34771131",
   "metadata": {},
   "outputs": [
    {
     "name": "stdout",
     "output_type": "stream",
     "text": [
      "2678\n",
      "6494\n"
     ]
    }
   ],
   "source": [
    "print(dfcar2['cylinders'].isnull().sum())\n",
    "print(dfcar2['cylinders_msrp'].isnull().sum())"
   ]
  },
  {
   "cell_type": "code",
   "execution_count": 47,
   "id": "2231a735",
   "metadata": {},
   "outputs": [],
   "source": [
    "dfcar2['cylinders'] = dfcar2['cylinders'].astype('float64')"
   ]
  },
  {
   "cell_type": "code",
   "execution_count": 48,
   "id": "f9822ccf",
   "metadata": {},
   "outputs": [
    {
     "data": {
      "text/plain": [
       "4.0     74973\n",
       "6.0     66187\n",
       "8.0     39146\n",
       "5.0      1150\n",
       "3.0       477\n",
       "10.0      313\n",
       "12.0       27\n",
       "Name: cylinders, dtype: int64"
      ]
     },
     "execution_count": 48,
     "metadata": {},
     "output_type": "execute_result"
    }
   ],
   "source": [
    "dfcar2['cylinders'].value_counts()"
   ]
  },
  {
   "cell_type": "code",
   "execution_count": 49,
   "id": "d3b8b6e8",
   "metadata": {},
   "outputs": [],
   "source": [
    "# fill up the rest with most common = 4.0\n",
    "dfcar2['cylinders'].fillna(4,inplace=True)"
   ]
  },
  {
   "cell_type": "code",
   "execution_count": 50,
   "id": "66acac2d",
   "metadata": {},
   "outputs": [
    {
     "data": {
      "text/plain": [
       "4.0     75419\n",
       "6.0     68045\n",
       "8.0     33644\n",
       "5.0       670\n",
       "3.0       651\n",
       "12.0       16\n",
       "10.0       12\n",
       "Name: cylinders_msrp, dtype: int64"
      ]
     },
     "execution_count": 50,
     "metadata": {},
     "output_type": "execute_result"
    }
   ],
   "source": [
    "dfcar2['cylinders_msrp'].value_counts()"
   ]
  },
  {
   "cell_type": "code",
   "execution_count": 51,
   "id": "09ad3641",
   "metadata": {},
   "outputs": [],
   "source": [
    "# fill up the rest with most common = 4.0\n",
    "dfcar2['cylinders_msrp'].fillna(4,inplace=True)"
   ]
  },
  {
   "cell_type": "code",
   "execution_count": 115,
   "id": "e06a0f5c",
   "metadata": {},
   "outputs": [
    {
     "name": "stdout",
     "output_type": "stream",
     "text": [
      "0\n",
      "0\n"
     ]
    }
   ],
   "source": [
    "print(dfcar2['cylinders'].isnull().sum())\n",
    "print(dfcar2['cylinders_msrp'].isnull().sum())"
   ]
  },
  {
   "cell_type": "code",
   "execution_count": 52,
   "id": "4baa01ec",
   "metadata": {},
   "outputs": [
    {
     "data": {
      "text/plain": [
       "184951"
      ]
     },
     "execution_count": 52,
     "metadata": {},
     "output_type": "execute_result"
    }
   ],
   "source": [
    "len(dfcar2)"
   ]
  },
  {
   "cell_type": "markdown",
   "id": "94b7f5a2",
   "metadata": {},
   "source": [
    "## Fuel: modify\n",
    "1. If matched with the model, take the most common type, fill it in \n",
    "2. If unsure, fill in gas \n",
    "3. Suggestion: two buckets, fossil_fuel vs non_fossil_fuel"
   ]
  },
  {
   "cell_type": "code",
   "execution_count": 53,
   "id": "e33c026c",
   "metadata": {},
   "outputs": [
    {
     "data": {
      "text/plain": [
       "gas         172282\n",
       "other         5173\n",
       "diesel        4191\n",
       "hybrid        2532\n",
       "electric       434\n",
       "Name: fuel, dtype: int64"
      ]
     },
     "execution_count": 53,
     "metadata": {},
     "output_type": "execute_result"
    }
   ],
   "source": [
    "dfcar2['fuel'].value_counts()"
   ]
  },
  {
   "cell_type": "code",
   "execution_count": 54,
   "id": "8c31a0bb",
   "metadata": {},
   "outputs": [
    {
     "data": {
      "text/plain": [
       "339"
      ]
     },
     "execution_count": 54,
     "metadata": {},
     "output_type": "execute_result"
    }
   ],
   "source": [
    "dfcar2['fuel'].isnull().sum()"
   ]
  },
  {
   "cell_type": "code",
   "execution_count": 55,
   "id": "fa8a135e",
   "metadata": {},
   "outputs": [],
   "source": [
    "# create a lookup dictionary to fill up nulls\n",
    "dict_fuel = dict(zip(dfcar2.matched_model, dfcar2.fuel))"
   ]
  },
  {
   "cell_type": "code",
   "execution_count": 56,
   "id": "3ffc1563",
   "metadata": {},
   "outputs": [
    {
     "name": "stdout",
     "output_type": "stream",
     "text": [
      "6\n"
     ]
    }
   ],
   "source": [
    "dfcar2['fuel'].fillna(dfcar2['matched_model'].replace(dict_fuel),inplace=True)\n",
    "print(dfcar2['fuel'].isnull().sum())"
   ]
  },
  {
   "cell_type": "code",
   "execution_count": 57,
   "id": "e1ae18fe",
   "metadata": {},
   "outputs": [
    {
     "name": "stdout",
     "output_type": "stream",
     "text": [
      "0\n"
     ]
    }
   ],
   "source": [
    "# fill up the remaining with 'gas'\n",
    "dfcar2['fuel'].fillna('gas',inplace=True)\n",
    "print(dfcar2['fuel'].isnull().sum())"
   ]
  },
  {
   "cell_type": "code",
   "execution_count": 58,
   "id": "89ab84df",
   "metadata": {},
   "outputs": [
    {
     "data": {
      "text/plain": [
       "gas         172605\n",
       "other         5173\n",
       "diesel        4195\n",
       "hybrid        2544\n",
       "electric       434\n",
       "Name: fuel, dtype: int64"
      ]
     },
     "execution_count": 58,
     "metadata": {},
     "output_type": "execute_result"
    }
   ],
   "source": [
    "dfcar2['fuel'].value_counts()"
   ]
  },
  {
   "cell_type": "code",
   "execution_count": 59,
   "id": "76fc66aa",
   "metadata": {},
   "outputs": [
    {
     "data": {
      "text/plain": [
       "184951"
      ]
     },
     "execution_count": 59,
     "metadata": {},
     "output_type": "execute_result"
    }
   ],
   "source": [
    "len(dfcar2)"
   ]
  },
  {
   "cell_type": "markdown",
   "id": "0f3ba0dc",
   "metadata": {},
   "source": [
    "## Title Status: modify\n",
    "Fill with mode"
   ]
  },
  {
   "cell_type": "code",
   "execution_count": 60,
   "id": "7d32c517",
   "metadata": {},
   "outputs": [
    {
     "data": {
      "text/plain": [
       "clean         177579\n",
       "rebuilt         3435\n",
       "salvage         2028\n",
       "lien             598\n",
       "missing          198\n",
       "parts only        67\n",
       "Name: title_status, dtype: int64"
      ]
     },
     "execution_count": 60,
     "metadata": {},
     "output_type": "execute_result"
    }
   ],
   "source": [
    "dfcar2['title_status'].value_counts()"
   ]
  },
  {
   "cell_type": "code",
   "execution_count": 61,
   "id": "5b1c4ae3",
   "metadata": {},
   "outputs": [],
   "source": [
    "dfcar2['title_status'].fillna('clean',inplace=True)"
   ]
  },
  {
   "cell_type": "code",
   "execution_count": 62,
   "id": "ce1f3eed",
   "metadata": {},
   "outputs": [
    {
     "data": {
      "text/plain": [
       "clean         178625\n",
       "rebuilt         3435\n",
       "salvage         2028\n",
       "lien             598\n",
       "missing          198\n",
       "parts only        67\n",
       "Name: title_status, dtype: int64"
      ]
     },
     "execution_count": 62,
     "metadata": {},
     "output_type": "execute_result"
    }
   ],
   "source": [
    "dfcar2['title_status'].value_counts()"
   ]
  },
  {
   "cell_type": "code",
   "execution_count": 63,
   "id": "a515a91d",
   "metadata": {},
   "outputs": [
    {
     "data": {
      "text/plain": [
       "0"
      ]
     },
     "execution_count": 63,
     "metadata": {},
     "output_type": "execute_result"
    }
   ],
   "source": [
    "dfcar2['title_status'].isnull().sum()"
   ]
  },
  {
   "cell_type": "code",
   "execution_count": 64,
   "id": "b17b8b4d",
   "metadata": {},
   "outputs": [
    {
     "data": {
      "text/plain": [
       "184951"
      ]
     },
     "execution_count": 64,
     "metadata": {},
     "output_type": "execute_result"
    }
   ],
   "source": [
    "len(dfcar2)"
   ]
  },
  {
   "cell_type": "markdown",
   "id": "81423127",
   "metadata": {},
   "source": [
    "## Transmission: drop nulls"
   ]
  },
  {
   "cell_type": "code",
   "execution_count": 65,
   "id": "263480b9",
   "metadata": {},
   "outputs": [
    {
     "data": {
      "text/plain": [
       "automatic    169848\n",
       "manual        10332\n",
       "other          3603\n",
       "Name: transmission, dtype: int64"
      ]
     },
     "execution_count": 65,
     "metadata": {},
     "output_type": "execute_result"
    }
   ],
   "source": [
    "dfcar2['transmission'].value_counts()"
   ]
  },
  {
   "cell_type": "code",
   "execution_count": 66,
   "id": "2339b3ba",
   "metadata": {},
   "outputs": [
    {
     "data": {
      "text/plain": [
       "1168"
      ]
     },
     "execution_count": 66,
     "metadata": {},
     "output_type": "execute_result"
    }
   ],
   "source": [
    "dfcar2['transmission'].isnull().sum()"
   ]
  },
  {
   "cell_type": "code",
   "execution_count": 67,
   "id": "874ce399",
   "metadata": {},
   "outputs": [],
   "source": [
    "dfcar2 = dfcar2[dfcar2['transmission'].notnull()]"
   ]
  },
  {
   "cell_type": "code",
   "execution_count": 68,
   "id": "d75dc060",
   "metadata": {},
   "outputs": [
    {
     "data": {
      "text/plain": [
       "183783"
      ]
     },
     "execution_count": 68,
     "metadata": {},
     "output_type": "execute_result"
    }
   ],
   "source": [
    "len(dfcar2)"
   ]
  },
  {
   "cell_type": "markdown",
   "id": "121dcd84",
   "metadata": {},
   "source": [
    "## Drive: modify\n",
    "If matched with the model, take the most common type, fill it in "
   ]
  },
  {
   "cell_type": "code",
   "execution_count": 69,
   "id": "ae854765",
   "metadata": {},
   "outputs": [
    {
     "data": {
      "text/plain": [
       "4wd    59356\n",
       "fwd    53951\n",
       "rwd    20425\n",
       "Name: drive, dtype: int64"
      ]
     },
     "execution_count": 69,
     "metadata": {},
     "output_type": "execute_result"
    }
   ],
   "source": [
    "dfcar2['drive'].value_counts()"
   ]
  },
  {
   "cell_type": "code",
   "execution_count": 70,
   "id": "676bce7f",
   "metadata": {},
   "outputs": [
    {
     "data": {
      "text/plain": [
       "50051"
      ]
     },
     "execution_count": 70,
     "metadata": {},
     "output_type": "execute_result"
    }
   ],
   "source": [
    "dfcar2['drive'].isnull().sum()"
   ]
  },
  {
   "cell_type": "code",
   "execution_count": 71,
   "id": "b1ad5dbb",
   "metadata": {},
   "outputs": [],
   "source": [
    "# create a lookup dictionary to fill up nulls\n",
    "dict_drive = dict(zip(dfcar2.matched_model, dfcar2.drive))"
   ]
  },
  {
   "cell_type": "code",
   "execution_count": 72,
   "id": "ee13a49c",
   "metadata": {},
   "outputs": [
    {
     "name": "stdout",
     "output_type": "stream",
     "text": [
      "17392\n"
     ]
    }
   ],
   "source": [
    "dfcar2['drive'].fillna(dfcar2['matched_model'].replace(dict_drive),inplace=True)\n",
    "print(dfcar2['drive'].isnull().sum())"
   ]
  },
  {
   "cell_type": "code",
   "execution_count": 73,
   "id": "7b64c0f2",
   "metadata": {},
   "outputs": [],
   "source": [
    "# create a second lookup dictionary to fill up nulls\n",
    "dict_drive2 = dict(zip(dfcar2.manufacturer_msrp, dfcar2.drive))"
   ]
  },
  {
   "cell_type": "code",
   "execution_count": 74,
   "id": "3b65c61d",
   "metadata": {},
   "outputs": [
    {
     "name": "stdout",
     "output_type": "stream",
     "text": [
      "10576\n"
     ]
    }
   ],
   "source": [
    "dfcar2['drive'].fillna(dfcar2['manufacturer_msrp'].replace(dict_drive2),inplace=True)\n",
    "print(dfcar2['drive'].isnull().sum())"
   ]
  },
  {
   "cell_type": "code",
   "execution_count": 75,
   "id": "d19ad7b1",
   "metadata": {},
   "outputs": [
    {
     "data": {
      "text/plain": [
       "4wd    82602\n",
       "fwd    66774\n",
       "rwd    23831\n",
       "Name: drive, dtype: int64"
      ]
     },
     "execution_count": 75,
     "metadata": {},
     "output_type": "execute_result"
    }
   ],
   "source": [
    "dfcar2['drive'].value_counts()"
   ]
  },
  {
   "cell_type": "code",
   "execution_count": 76,
   "id": "8d0a6e30",
   "metadata": {},
   "outputs": [
    {
     "name": "stdout",
     "output_type": "stream",
     "text": [
      "0\n"
     ]
    }
   ],
   "source": [
    "# fill the rest of NA with the most common types\n",
    "dfcar2['drive'].fillna('4wd',inplace=True)\n",
    "print(dfcar2['drive'].isnull().sum())"
   ]
  },
  {
   "cell_type": "code",
   "execution_count": 77,
   "id": "e8a0d7d3",
   "metadata": {},
   "outputs": [
    {
     "data": {
      "text/plain": [
       "183783"
      ]
     },
     "execution_count": 77,
     "metadata": {},
     "output_type": "execute_result"
    }
   ],
   "source": [
    "len(dfcar2)"
   ]
  },
  {
   "cell_type": "markdown",
   "id": "c12ccf27",
   "metadata": {},
   "source": [
    "## Type: modify\n",
    "If matched with the model, take the most common type, fill it in "
   ]
  },
  {
   "cell_type": "code",
   "execution_count": 78,
   "id": "6520e99e",
   "metadata": {},
   "outputs": [
    {
     "data": {
      "text/plain": [
       "SUV            41683\n",
       "sedan          41427\n",
       "pickup         13714\n",
       "truck          13244\n",
       "coupe           6680\n",
       "wagon           5642\n",
       "hatchback       5094\n",
       "other           3901\n",
       "convertible     2762\n",
       "mini-van        2515\n",
       "van             2471\n",
       "offroad          246\n",
       "bus               36\n",
       "Name: type, dtype: int64"
      ]
     },
     "execution_count": 78,
     "metadata": {},
     "output_type": "execute_result"
    }
   ],
   "source": [
    "dfcar2['type'].value_counts()"
   ]
  },
  {
   "cell_type": "code",
   "execution_count": 79,
   "id": "31c2c824",
   "metadata": {},
   "outputs": [
    {
     "data": {
      "text/plain": [
       "44368"
      ]
     },
     "execution_count": 79,
     "metadata": {},
     "output_type": "execute_result"
    }
   ],
   "source": [
    "dfcar2['type'].isnull().sum()"
   ]
  },
  {
   "cell_type": "code",
   "execution_count": 80,
   "id": "5b16341c",
   "metadata": {},
   "outputs": [],
   "source": [
    "# create a lookup dictionary to fill up nulls\n",
    "dict_type = dict(zip(dfcar2.matched_model, dfcar2.type))"
   ]
  },
  {
   "cell_type": "code",
   "execution_count": 81,
   "id": "7eca68b9",
   "metadata": {},
   "outputs": [
    {
     "name": "stdout",
     "output_type": "stream",
     "text": [
      "10755\n"
     ]
    }
   ],
   "source": [
    "dfcar2['type'].fillna(dfcar2['matched_model'].replace(dict_type),inplace=True)\n",
    "print(dfcar2['type'].isnull().sum())"
   ]
  },
  {
   "cell_type": "code",
   "execution_count": 82,
   "id": "fec3dfb4",
   "metadata": {},
   "outputs": [],
   "source": [
    "# create a second lookup dictionary to fill up nulls\n",
    "dict_type2 = dict(zip(dfcar2.manufacturer_msrp, dfcar2.type))"
   ]
  },
  {
   "cell_type": "code",
   "execution_count": 83,
   "id": "779ef9da",
   "metadata": {},
   "outputs": [
    {
     "name": "stdout",
     "output_type": "stream",
     "text": [
      "4251\n"
     ]
    }
   ],
   "source": [
    "dfcar2['type'].fillna(dfcar2['manufacturer_msrp'].replace(dict_type2),inplace=True)\n",
    "print(dfcar2['type'].isnull().sum())"
   ]
  },
  {
   "cell_type": "code",
   "execution_count": 84,
   "id": "861d8c57",
   "metadata": {},
   "outputs": [
    {
     "data": {
      "text/plain": [
       "SUV            55918\n",
       "sedan          55213\n",
       "pickup         17765\n",
       "truck          15231\n",
       "coupe           8865\n",
       "wagon           6711\n",
       "hatchback       6036\n",
       "other           4053\n",
       "van             3755\n",
       "convertible     2928\n",
       "mini-van        2775\n",
       "offroad          246\n",
       "bus               36\n",
       "Name: type, dtype: int64"
      ]
     },
     "execution_count": 84,
     "metadata": {},
     "output_type": "execute_result"
    }
   ],
   "source": [
    "dfcar2['type'].value_counts()"
   ]
  },
  {
   "cell_type": "code",
   "execution_count": 85,
   "id": "bebbccd4",
   "metadata": {},
   "outputs": [
    {
     "name": "stdout",
     "output_type": "stream",
     "text": [
      "0\n"
     ]
    }
   ],
   "source": [
    "# fill the rest of NA with the most common types\n",
    "dfcar2['type'].fillna('SUV',inplace=True)\n",
    "print(dfcar2['type'].isnull().sum())"
   ]
  },
  {
   "cell_type": "code",
   "execution_count": 86,
   "id": "f4d3bffb",
   "metadata": {},
   "outputs": [
    {
     "data": {
      "text/plain": [
       "183783"
      ]
     },
     "execution_count": 86,
     "metadata": {},
     "output_type": "execute_result"
    }
   ],
   "source": [
    "len(dfcar2)"
   ]
  },
  {
   "cell_type": "markdown",
   "id": "b0be749e",
   "metadata": {},
   "source": [
    "## Paint_Color: as-is"
   ]
  },
  {
   "cell_type": "markdown",
   "id": "04d79201",
   "metadata": {},
   "source": [
    "## Description: topic modeling with Top2Vec"
   ]
  },
  {
   "cell_type": "markdown",
   "id": "3e07e416",
   "metadata": {},
   "source": [
    "## State: as-is"
   ]
  },
  {
   "cell_type": "code",
   "execution_count": 87,
   "id": "b16b4334",
   "metadata": {},
   "outputs": [
    {
     "data": {
      "text/plain": [
       "0"
      ]
     },
     "execution_count": 87,
     "metadata": {},
     "output_type": "execute_result"
    }
   ],
   "source": [
    "dfcar2['state'].isnull().sum()"
   ]
  },
  {
   "cell_type": "code",
   "execution_count": 88,
   "id": "fdeaf3ef",
   "metadata": {},
   "outputs": [
    {
     "data": {
      "text/plain": [
       "183783"
      ]
     },
     "execution_count": 88,
     "metadata": {},
     "output_type": "execute_result"
    }
   ],
   "source": [
    "len(dfcar2)"
   ]
  },
  {
   "cell_type": "markdown",
   "id": "260d244a",
   "metadata": {},
   "source": [
    "## Posting Date: modify\n",
    "Change to quarters (create separate columns)"
   ]
  },
  {
   "cell_type": "code",
   "execution_count": 89,
   "id": "20d34a27",
   "metadata": {},
   "outputs": [
    {
     "data": {
      "text/plain": [
       "2021-04-13T13:19:15-0500    11\n",
       "2021-04-22T20:32:05-0400     9\n",
       "2021-04-14T22:44:45-0400     8\n",
       "2021-04-05T16:35:08-0400     8\n",
       "2021-04-22T14:25:35-0400     8\n",
       "                            ..\n",
       "2021-05-04T09:20:38-0500     1\n",
       "2021-04-28T12:23:07-1000     1\n",
       "2021-04-17T15:10:31-0500     1\n",
       "2021-04-26T13:54:53-0600     1\n",
       "2021-04-30T17:07:26-0500     1\n",
       "Name: posting_date, Length: 175095, dtype: int64"
      ]
     },
     "execution_count": 89,
     "metadata": {},
     "output_type": "execute_result"
    }
   ],
   "source": [
    "dfcar2['posting_date'].value_counts()"
   ]
  },
  {
   "cell_type": "code",
   "execution_count": 90,
   "id": "740b60ca",
   "metadata": {},
   "outputs": [],
   "source": [
    "# change posting date to datetime\n",
    "dfcar2['posting_date'] = pd.to_datetime(dfcar2['posting_date'],yearfirst=True,utc=True)"
   ]
  },
  {
   "cell_type": "code",
   "execution_count": 91,
   "id": "094b4d83",
   "metadata": {},
   "outputs": [
    {
     "data": {
      "text/plain": [
       "datetime64[ns, UTC]"
      ]
     },
     "execution_count": 91,
     "metadata": {},
     "output_type": "execute_result"
    }
   ],
   "source": [
    "dfcar2['posting_date'].dtypes"
   ]
  },
  {
   "cell_type": "code",
   "execution_count": 92,
   "id": "758efc9f",
   "metadata": {},
   "outputs": [
    {
     "data": {
      "text/plain": [
       "Int64Index([5, 5, 5, 4, 4, 4, 4, 4, 4, 4,\n",
       "            ...\n",
       "            4, 4, 4, 4, 4, 4, 4, 4, 4, 4],\n",
       "           dtype='int64', name='posting_date', length=183783)"
      ]
     },
     "execution_count": 92,
     "metadata": {},
     "output_type": "execute_result"
    }
   ],
   "source": [
    "pd.DatetimeIndex(dfcar2['posting_date']).month"
   ]
  },
  {
   "cell_type": "code",
   "execution_count": 93,
   "id": "a4bce958",
   "metadata": {},
   "outputs": [],
   "source": [
    "dict_q = {1:'Q1',2:'Q1',3:'Q1',\n",
    "          4:'Q2',5:'Q2',6:'Q2',\n",
    "          7:'Q3',8:'Q3',9:'Q4',\n",
    "         10:'Q4',11:'Q4',12:'Q4'}"
   ]
  },
  {
   "cell_type": "code",
   "execution_count": 94,
   "id": "2f2f72b6",
   "metadata": {},
   "outputs": [],
   "source": [
    "dfcar2['quarter']=pd.DatetimeIndex(dfcar2['posting_date']).month.map(dict_q)"
   ]
  },
  {
   "cell_type": "code",
   "execution_count": 95,
   "id": "17e83289",
   "metadata": {},
   "outputs": [
    {
     "data": {
      "text/html": [
       "<div>\n",
       "<style scoped>\n",
       "    .dataframe tbody tr th:only-of-type {\n",
       "        vertical-align: middle;\n",
       "    }\n",
       "\n",
       "    .dataframe tbody tr th {\n",
       "        vertical-align: top;\n",
       "    }\n",
       "\n",
       "    .dataframe thead th {\n",
       "        text-align: right;\n",
       "    }\n",
       "</style>\n",
       "<table border=\"1\" class=\"dataframe\">\n",
       "  <thead>\n",
       "    <tr style=\"text-align: right;\">\n",
       "      <th></th>\n",
       "      <th>posting_date</th>\n",
       "      <th>quarter</th>\n",
       "    </tr>\n",
       "  </thead>\n",
       "  <tbody>\n",
       "    <tr>\n",
       "      <th>1</th>\n",
       "      <td>2021-05-04 17:31:08+00:00</td>\n",
       "      <td>Q2</td>\n",
       "    </tr>\n",
       "    <tr>\n",
       "      <th>7</th>\n",
       "      <td>2021-05-03 17:12:59+00:00</td>\n",
       "      <td>Q2</td>\n",
       "    </tr>\n",
       "    <tr>\n",
       "      <th>10</th>\n",
       "      <td>2021-05-03 12:38:05+00:00</td>\n",
       "      <td>Q2</td>\n",
       "    </tr>\n",
       "    <tr>\n",
       "      <th>19</th>\n",
       "      <td>2021-04-30 21:35:11+00:00</td>\n",
       "      <td>Q2</td>\n",
       "    </tr>\n",
       "    <tr>\n",
       "      <th>32</th>\n",
       "      <td>2021-04-27 17:20:01+00:00</td>\n",
       "      <td>Q2</td>\n",
       "    </tr>\n",
       "    <tr>\n",
       "      <th>...</th>\n",
       "      <td>...</td>\n",
       "      <td>...</td>\n",
       "    </tr>\n",
       "    <tr>\n",
       "      <th>409210</th>\n",
       "      <td>2021-04-05 16:14:57+00:00</td>\n",
       "      <td>Q2</td>\n",
       "    </tr>\n",
       "    <tr>\n",
       "      <th>409211</th>\n",
       "      <td>2021-04-05 16:12:43+00:00</td>\n",
       "      <td>Q2</td>\n",
       "    </tr>\n",
       "    <tr>\n",
       "      <th>409212</th>\n",
       "      <td>2021-04-05 16:09:12+00:00</td>\n",
       "      <td>Q2</td>\n",
       "    </tr>\n",
       "    <tr>\n",
       "      <th>409213</th>\n",
       "      <td>2021-04-05 16:07:34+00:00</td>\n",
       "      <td>Q2</td>\n",
       "    </tr>\n",
       "    <tr>\n",
       "      <th>409223</th>\n",
       "      <td>2021-04-04 23:00:48+00:00</td>\n",
       "      <td>Q2</td>\n",
       "    </tr>\n",
       "  </tbody>\n",
       "</table>\n",
       "<p>183783 rows × 2 columns</p>\n",
       "</div>"
      ],
      "text/plain": [
       "                    posting_date quarter\n",
       "1      2021-05-04 17:31:08+00:00      Q2\n",
       "7      2021-05-03 17:12:59+00:00      Q2\n",
       "10     2021-05-03 12:38:05+00:00      Q2\n",
       "19     2021-04-30 21:35:11+00:00      Q2\n",
       "32     2021-04-27 17:20:01+00:00      Q2\n",
       "...                          ...     ...\n",
       "409210 2021-04-05 16:14:57+00:00      Q2\n",
       "409211 2021-04-05 16:12:43+00:00      Q2\n",
       "409212 2021-04-05 16:09:12+00:00      Q2\n",
       "409213 2021-04-05 16:07:34+00:00      Q2\n",
       "409223 2021-04-04 23:00:48+00:00      Q2\n",
       "\n",
       "[183783 rows x 2 columns]"
      ]
     },
     "execution_count": 95,
     "metadata": {},
     "output_type": "execute_result"
    }
   ],
   "source": [
    "dfcar2[['posting_date','quarter']]"
   ]
  },
  {
   "cell_type": "code",
   "execution_count": 96,
   "id": "afcfb572",
   "metadata": {},
   "outputs": [
    {
     "name": "stdout",
     "output_type": "stream",
     "text": [
      "0\n",
      "0\n"
     ]
    }
   ],
   "source": [
    "print(dfcar2['posting_date'].isnull().sum())\n",
    "print(dfcar2['quarter'].isnull().sum())"
   ]
  },
  {
   "cell_type": "code",
   "execution_count": 97,
   "id": "b8720f6d",
   "metadata": {},
   "outputs": [
    {
     "data": {
      "text/plain": [
       "183783"
      ]
     },
     "execution_count": 97,
     "metadata": {},
     "output_type": "execute_result"
    }
   ],
   "source": [
    "len(dfcar2)"
   ]
  },
  {
   "cell_type": "code",
   "execution_count": 98,
   "id": "829c9d7c",
   "metadata": {},
   "outputs": [],
   "source": [
    "dfcar2.to_csv('dfcar2.csv')"
   ]
  }
 ],
 "metadata": {
  "kernelspec": {
   "display_name": "Python 3",
   "language": "python",
   "name": "python3"
  },
  "language_info": {
   "codemirror_mode": {
    "name": "ipython",
    "version": 3
   },
   "file_extension": ".py",
   "mimetype": "text/x-python",
   "name": "python",
   "nbconvert_exporter": "python",
   "pygments_lexer": "ipython3",
   "version": "3.8.8"
  }
 },
 "nbformat": 4,
 "nbformat_minor": 5
}
