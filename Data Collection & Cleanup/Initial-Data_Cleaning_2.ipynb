{
 "cells": [
  {
   "cell_type": "markdown",
   "id": "a60e9f68",
   "metadata": {},
   "source": [
    "# Feature Creation & Final Cleanup On Unnecessary Columns & Label Encoding Categorical Variables"
   ]
  },
  {
   "cell_type": "code",
   "execution_count": 102,
   "id": "1fafeffe-3f3c-478e-91d8-6b4f67d0c8cb",
   "metadata": {},
   "outputs": [],
   "source": [
    "import pandas as pd\n",
    "import numpy as np\n",
    "import seaborn as sns"
   ]
  },
  {
   "cell_type": "markdown",
   "id": "3ea55186-3692-41a4-80e1-8c874a4ebf2d",
   "metadata": {},
   "source": [
    "### Initial Discussion Around Dummies\n",
    "\n",
    "Dumify condition, cylinders, fuel, title-status, transmission, drive, type, state, car_age  = (posting date - year) and drop year and posting date, vintage (yes or no) \n",
    "\n",
    "Create features\n",
    "car_age = posting year - production year \n",
    "is_vintage = greater than 50 car_age\n",
    "is_neutral = colors like (white, black, silver, gray) vs "
   ]
  },
  {
   "cell_type": "code",
   "execution_count": 103,
   "id": "50620e49",
   "metadata": {},
   "outputs": [
    {
     "data": {
      "text/plain": [
       "183783"
      ]
     },
     "execution_count": 103,
     "metadata": {},
     "output_type": "execute_result"
    }
   ],
   "source": [
    "dfcar3 = pd.read_csv(\"/Volumes/GoogleDrive/My Drive/MScA 2022 WINTER/MSCA 31008 5 Data Mining Principles/Project/dfcar2.csv\")\n",
    "len(dfcar3)"
   ]
  },
  {
   "cell_type": "code",
   "execution_count": 104,
   "id": "efc3ab2a-424e-4a12-93d2-76c23e376ee7",
   "metadata": {},
   "outputs": [
    {
     "data": {
      "text/html": [
       "<div>\n",
       "<style scoped>\n",
       "    .dataframe tbody tr th:only-of-type {\n",
       "        vertical-align: middle;\n",
       "    }\n",
       "\n",
       "    .dataframe tbody tr th {\n",
       "        vertical-align: top;\n",
       "    }\n",
       "\n",
       "    .dataframe thead th {\n",
       "        text-align: right;\n",
       "    }\n",
       "</style>\n",
       "<table border=\"1\" class=\"dataframe\">\n",
       "  <thead>\n",
       "    <tr style=\"text-align: right;\">\n",
       "      <th></th>\n",
       "      <th>Unnamed: 0</th>\n",
       "      <th>price</th>\n",
       "      <th>year</th>\n",
       "      <th>condition</th>\n",
       "      <th>cylinders</th>\n",
       "      <th>fuel</th>\n",
       "      <th>odometer</th>\n",
       "      <th>title_status</th>\n",
       "      <th>transmission</th>\n",
       "      <th>drive</th>\n",
       "      <th>...</th>\n",
       "      <th>match_score</th>\n",
       "      <th>manufacturer_msrp</th>\n",
       "      <th>model_msrp</th>\n",
       "      <th>year_msrp</th>\n",
       "      <th>cylinders_msrp</th>\n",
       "      <th>vstyle_msrp</th>\n",
       "      <th>MSRP</th>\n",
       "      <th>wd_msrp</th>\n",
       "      <th>trans_msrp</th>\n",
       "      <th>quarter</th>\n",
       "    </tr>\n",
       "  </thead>\n",
       "  <tbody>\n",
       "    <tr>\n",
       "      <th>0</th>\n",
       "      <td>1</td>\n",
       "      <td>22590</td>\n",
       "      <td>2010.0</td>\n",
       "      <td>good</td>\n",
       "      <td>8.0</td>\n",
       "      <td>gas</td>\n",
       "      <td>71229.0</td>\n",
       "      <td>clean</td>\n",
       "      <td>other</td>\n",
       "      <td>4wd</td>\n",
       "      <td>...</td>\n",
       "      <td>1.0</td>\n",
       "      <td>Chevrolet</td>\n",
       "      <td>Silverado 1500</td>\n",
       "      <td>2015.0</td>\n",
       "      <td>8.0</td>\n",
       "      <td>Crew Cab Pickup</td>\n",
       "      <td>46110.0</td>\n",
       "      <td>4WD</td>\n",
       "      <td>AUTOMATIC</td>\n",
       "      <td>Q2</td>\n",
       "    </tr>\n",
       "    <tr>\n",
       "      <th>1</th>\n",
       "      <td>7</td>\n",
       "      <td>35000</td>\n",
       "      <td>2019.0</td>\n",
       "      <td>excellent</td>\n",
       "      <td>6.0</td>\n",
       "      <td>gas</td>\n",
       "      <td>43000.0</td>\n",
       "      <td>clean</td>\n",
       "      <td>automatic</td>\n",
       "      <td>4wd</td>\n",
       "      <td>...</td>\n",
       "      <td>2.0</td>\n",
       "      <td>Toyota</td>\n",
       "      <td>Tacoma</td>\n",
       "      <td>2015.0</td>\n",
       "      <td>6.0</td>\n",
       "      <td>Crew Cab Pickup</td>\n",
       "      <td>27355.0</td>\n",
       "      <td>4WD</td>\n",
       "      <td>MANUAL</td>\n",
       "      <td>Q2</td>\n",
       "    </tr>\n",
       "  </tbody>\n",
       "</table>\n",
       "<p>2 rows × 26 columns</p>\n",
       "</div>"
      ],
      "text/plain": [
       "   Unnamed: 0  price    year  condition  cylinders fuel  odometer  \\\n",
       "0           1  22590  2010.0       good        8.0  gas   71229.0   \n",
       "1           7  35000  2019.0  excellent        6.0  gas   43000.0   \n",
       "\n",
       "  title_status transmission drive  ... match_score manufacturer_msrp  \\\n",
       "0        clean        other   4wd  ...         1.0         Chevrolet   \n",
       "1        clean    automatic   4wd  ...         2.0            Toyota   \n",
       "\n",
       "       model_msrp year_msrp cylinders_msrp      vstyle_msrp     MSRP wd_msrp  \\\n",
       "0  Silverado 1500    2015.0            8.0  Crew Cab Pickup  46110.0     4WD   \n",
       "1          Tacoma    2015.0            6.0  Crew Cab Pickup  27355.0     4WD   \n",
       "\n",
       "  trans_msrp  quarter  \n",
       "0  AUTOMATIC       Q2  \n",
       "1     MANUAL       Q2  \n",
       "\n",
       "[2 rows x 26 columns]"
      ]
     },
     "execution_count": 104,
     "metadata": {},
     "output_type": "execute_result"
    }
   ],
   "source": [
    "dfcar3.head(2)"
   ]
  },
  {
   "cell_type": "code",
   "execution_count": 105,
   "id": "84eecbe3-c1f0-4d5f-818f-138cf2aab6c7",
   "metadata": {},
   "outputs": [
    {
     "name": "stdout",
     "output_type": "stream",
     "text": [
      "<class 'pandas.core.frame.DataFrame'>\n",
      "RangeIndex: 183783 entries, 0 to 183782\n",
      "Data columns (total 26 columns):\n",
      " #   Column             Non-Null Count   Dtype  \n",
      "---  ------             --------------   -----  \n",
      " 0   Unnamed: 0         183783 non-null  int64  \n",
      " 1   price              183783 non-null  int64  \n",
      " 2   year               183783 non-null  float64\n",
      " 3   condition          183783 non-null  object \n",
      " 4   cylinders          183783 non-null  float64\n",
      " 5   fuel               183783 non-null  object \n",
      " 6   odometer           183783 non-null  float64\n",
      " 7   title_status       183783 non-null  object \n",
      " 8   transmission       183783 non-null  object \n",
      " 9   drive              183783 non-null  object \n",
      " 10  type               183783 non-null  object \n",
      " 11  paint_color        128366 non-null  object \n",
      " 12  description        183782 non-null  object \n",
      " 13  state              183783 non-null  object \n",
      " 14  posting_date       183783 non-null  object \n",
      " 15  matched_model      183783 non-null  object \n",
      " 16  match_score        183783 non-null  float64\n",
      " 17  manufacturer_msrp  177414 non-null  object \n",
      " 18  model_msrp         177414 non-null  object \n",
      " 19  year_msrp          177414 non-null  float64\n",
      " 20  cylinders_msrp     183783 non-null  float64\n",
      " 21  vstyle_msrp        177414 non-null  object \n",
      " 22  MSRP               177414 non-null  float64\n",
      " 23  wd_msrp            177414 non-null  object \n",
      " 24  trans_msrp         155142 non-null  object \n",
      " 25  quarter            183783 non-null  object \n",
      "dtypes: float64(7), int64(2), object(17)\n",
      "memory usage: 36.5+ MB\n"
     ]
    }
   ],
   "source": [
    "dfcar3.info()"
   ]
  },
  {
   "cell_type": "markdown",
   "id": "2b825a79-9dda-496e-b2c5-682b9a86ff44",
   "metadata": {},
   "source": [
    "### Change Quarter To Numeric Value"
   ]
  },
  {
   "cell_type": "code",
   "execution_count": 106,
   "id": "591f69e7-6f32-47a1-b91c-e67102cf66dc",
   "metadata": {},
   "outputs": [],
   "source": [
    "float_t2 = dfcar3.select_dtypes(include=['float'])\n",
    "object_t2 = dfcar3.select_dtypes(include=['object'])"
   ]
  },
  {
   "cell_type": "code",
   "execution_count": 107,
   "id": "8d7442a5-b622-4f07-9f49-ae3b91929e3e",
   "metadata": {},
   "outputs": [
    {
     "data": {
      "text/html": [
       "<div>\n",
       "<style scoped>\n",
       "    .dataframe tbody tr th:only-of-type {\n",
       "        vertical-align: middle;\n",
       "    }\n",
       "\n",
       "    .dataframe tbody tr th {\n",
       "        vertical-align: top;\n",
       "    }\n",
       "\n",
       "    .dataframe thead th {\n",
       "        text-align: right;\n",
       "    }\n",
       "</style>\n",
       "<table border=\"1\" class=\"dataframe\">\n",
       "  <thead>\n",
       "    <tr style=\"text-align: right;\">\n",
       "      <th></th>\n",
       "      <th>condition</th>\n",
       "      <th>fuel</th>\n",
       "      <th>title_status</th>\n",
       "      <th>transmission</th>\n",
       "      <th>drive</th>\n",
       "      <th>type</th>\n",
       "      <th>paint_color</th>\n",
       "      <th>description</th>\n",
       "      <th>state</th>\n",
       "      <th>posting_date</th>\n",
       "      <th>matched_model</th>\n",
       "      <th>manufacturer_msrp</th>\n",
       "      <th>model_msrp</th>\n",
       "      <th>vstyle_msrp</th>\n",
       "      <th>wd_msrp</th>\n",
       "      <th>trans_msrp</th>\n",
       "      <th>quarter</th>\n",
       "    </tr>\n",
       "  </thead>\n",
       "  <tbody>\n",
       "    <tr>\n",
       "      <th>0</th>\n",
       "      <td>good</td>\n",
       "      <td>gas</td>\n",
       "      <td>clean</td>\n",
       "      <td>other</td>\n",
       "      <td>4wd</td>\n",
       "      <td>pickup</td>\n",
       "      <td>blue</td>\n",
       "      <td>Carvana is the safer way to buy a car During t...</td>\n",
       "      <td>al</td>\n",
       "      <td>2021-05-04 17:31:08+00:00</td>\n",
       "      <td>Chevrolet Silverado 1500</td>\n",
       "      <td>Chevrolet</td>\n",
       "      <td>Silverado 1500</td>\n",
       "      <td>Crew Cab Pickup</td>\n",
       "      <td>4WD</td>\n",
       "      <td>AUTOMATIC</td>\n",
       "      <td>Q2</td>\n",
       "    </tr>\n",
       "    <tr>\n",
       "      <th>1</th>\n",
       "      <td>excellent</td>\n",
       "      <td>gas</td>\n",
       "      <td>clean</td>\n",
       "      <td>automatic</td>\n",
       "      <td>4wd</td>\n",
       "      <td>truck</td>\n",
       "      <td>grey</td>\n",
       "      <td>Selling my 2019 Toyota Tacoma TRD Off Road Dou...</td>\n",
       "      <td>al</td>\n",
       "      <td>2021-05-03 17:12:59+00:00</td>\n",
       "      <td>Toyota Tacoma</td>\n",
       "      <td>Toyota</td>\n",
       "      <td>Tacoma</td>\n",
       "      <td>Crew Cab Pickup</td>\n",
       "      <td>4WD</td>\n",
       "      <td>MANUAL</td>\n",
       "      <td>Q2</td>\n",
       "    </tr>\n",
       "  </tbody>\n",
       "</table>\n",
       "</div>"
      ],
      "text/plain": [
       "   condition fuel title_status transmission drive    type paint_color  \\\n",
       "0       good  gas        clean        other   4wd  pickup        blue   \n",
       "1  excellent  gas        clean    automatic   4wd   truck        grey   \n",
       "\n",
       "                                         description state  \\\n",
       "0  Carvana is the safer way to buy a car During t...    al   \n",
       "1  Selling my 2019 Toyota Tacoma TRD Off Road Dou...    al   \n",
       "\n",
       "                posting_date             matched_model manufacturer_msrp  \\\n",
       "0  2021-05-04 17:31:08+00:00  Chevrolet Silverado 1500         Chevrolet   \n",
       "1  2021-05-03 17:12:59+00:00             Toyota Tacoma            Toyota   \n",
       "\n",
       "       model_msrp      vstyle_msrp wd_msrp trans_msrp quarter  \n",
       "0  Silverado 1500  Crew Cab Pickup     4WD  AUTOMATIC      Q2  \n",
       "1          Tacoma  Crew Cab Pickup     4WD     MANUAL      Q2  "
      ]
     },
     "execution_count": 107,
     "metadata": {},
     "output_type": "execute_result"
    }
   ],
   "source": [
    "object_t2.head(2)"
   ]
  },
  {
   "cell_type": "code",
   "execution_count": 108,
   "id": "afebc041-4337-4a7f-879a-a4a03077b82a",
   "metadata": {},
   "outputs": [],
   "source": [
    "dfcar3['quarter'] = dfcar3['quarter'].str.lstrip(\"Q\").astype(\"int\")"
   ]
  },
  {
   "cell_type": "code",
   "execution_count": 109,
   "id": "117561ae-218f-492a-b4ae-02199aafa3f1",
   "metadata": {},
   "outputs": [],
   "source": [
    "dfcar3 = dfcar3.drop(\"Unnamed: 0\", axis=1)"
   ]
  },
  {
   "cell_type": "markdown",
   "id": "3163c60b",
   "metadata": {},
   "source": [
    "### Car_age & is_vintage features are created"
   ]
  },
  {
   "cell_type": "code",
   "execution_count": 120,
   "id": "f5d7482d",
   "metadata": {},
   "outputs": [],
   "source": [
    "# add year_posted\n",
    "dfcar3['year_posted']=pd.DatetimeIndex(dfcar3['posting_date']).year"
   ]
  },
  {
   "cell_type": "code",
   "execution_count": 121,
   "id": "506e271a",
   "metadata": {},
   "outputs": [],
   "source": [
    "# add car_age\n",
    "dfcar3['car_age']=dfcar3['year_posted']-dfcar3['year']"
   ]
  },
  {
   "cell_type": "code",
   "execution_count": 122,
   "id": "a976f95a",
   "metadata": {},
   "outputs": [],
   "source": [
    "# add dummy: vintage yes/no\n",
    "dfcar3['is_vintage'] = dfcar3['car_age'].apply(lambda x: 1 if x >50 else 0)"
   ]
  },
  {
   "cell_type": "code",
   "execution_count": 123,
   "id": "21952920-0bda-4585-9e20-aa36f3088761",
   "metadata": {},
   "outputs": [
    {
     "data": {
      "text/plain": [
       "0    182882\n",
       "1       901\n",
       "Name: is_vintage, dtype: int64"
      ]
     },
     "execution_count": 123,
     "metadata": {},
     "output_type": "execute_result"
    }
   ],
   "source": [
    "dfcar3['is_vintage'].value_counts()"
   ]
  },
  {
   "cell_type": "code",
   "execution_count": 124,
   "id": "839b4695-8d89-4d73-9dc2-1a94f5fbf70d",
   "metadata": {},
   "outputs": [
    {
     "data": {
      "text/plain": [
       "8.0      14629\n",
       "4.0      14564\n",
       "6.0      14470\n",
       "7.0      14348\n",
       "3.0      13162\n",
       "         ...  \n",
       "89.0         1\n",
       "121.0        1\n",
       "83.0         1\n",
       "70.0         1\n",
       "116.0        1\n",
       "Name: car_age, Length: 83, dtype: int64"
      ]
     },
     "execution_count": 124,
     "metadata": {},
     "output_type": "execute_result"
    }
   ],
   "source": [
    "dfcar3['car_age'].value_counts()"
   ]
  },
  {
   "cell_type": "markdown",
   "id": "9b123af4",
   "metadata": {},
   "source": [
    "### Paint_color (neutral vs colorful)"
   ]
  },
  {
   "cell_type": "code",
   "execution_count": 125,
   "id": "75ce7cda",
   "metadata": {},
   "outputs": [
    {
     "data": {
      "text/plain": [
       "white     29430\n",
       "black     27290\n",
       "silver    20414\n",
       "blue      13883\n",
       "grey      13238\n",
       "red       12394\n",
       "custom     4014\n",
       "green      3024\n",
       "brown      2802\n",
       "orange      773\n",
       "yellow      747\n",
       "purple      357\n",
       "Name: paint_color, dtype: int64"
      ]
     },
     "execution_count": 125,
     "metadata": {},
     "output_type": "execute_result"
    }
   ],
   "source": [
    "dfcar3['paint_color'].value_counts()"
   ]
  },
  {
   "cell_type": "code",
   "execution_count": 126,
   "id": "3804c251",
   "metadata": {},
   "outputs": [],
   "source": [
    "dfcar3['is_color_neutral'] = dfcar3['paint_color'].apply(lambda x: 1 if x in ['white', 'black', 'silver', 'grey'] else 0)"
   ]
  },
  {
   "cell_type": "code",
   "execution_count": 127,
   "id": "03f6462e-b50c-4962-b29a-b032e8a22847",
   "metadata": {},
   "outputs": [
    {
     "data": {
      "text/plain": [
       "0    93411\n",
       "1    90372\n",
       "Name: is_color_neutral, dtype: int64"
      ]
     },
     "execution_count": 127,
     "metadata": {},
     "output_type": "execute_result"
    }
   ],
   "source": [
    "dfcar3['is_color_neutral'].value_counts()"
   ]
  },
  {
   "cell_type": "markdown",
   "id": "e223446d-a3a4-449d-988c-1148ebd1afcd",
   "metadata": {},
   "source": [
    "### Drop Unnecessary Columns "
   ]
  },
  {
   "cell_type": "code",
   "execution_count": 128,
   "id": "8b1adddf-0988-45da-820e-a355e0497a8c",
   "metadata": {},
   "outputs": [],
   "source": [
    "dfcar4 = dfcar3"
   ]
  },
  {
   "cell_type": "code",
   "execution_count": 129,
   "id": "95bcb766-fc44-48e9-bdba-babcb4937f5f",
   "metadata": {},
   "outputs": [],
   "source": [
    "dfcar4 = dfcar4.drop(['matched_model', 'match_score',\n",
    "       'manufacturer_msrp', 'model_msrp', 'year_msrp', 'cylinders_msrp',\n",
    "       'vstyle_msrp','wd_msrp', 'trans_msrp','year_posted', 'posting_date','paint_color', 'description'], axis=1)"
   ]
  },
  {
   "cell_type": "code",
   "execution_count": 130,
   "id": "72d2b825-b95b-4cfc-b074-467d727b3c45",
   "metadata": {},
   "outputs": [
    {
     "data": {
      "text/plain": [
       "price                 int64\n",
       "year                float64\n",
       "condition            object\n",
       "cylinders           float64\n",
       "fuel                 object\n",
       "odometer            float64\n",
       "title_status         object\n",
       "transmission         object\n",
       "drive                object\n",
       "type                 object\n",
       "state                object\n",
       "MSRP                float64\n",
       "quarter               int64\n",
       "car_age             float64\n",
       "is_vintage            int64\n",
       "is_color_neutral      int64\n",
       "dtype: object"
      ]
     },
     "execution_count": 130,
     "metadata": {},
     "output_type": "execute_result"
    }
   ],
   "source": [
    "dfcar4.dtypes"
   ]
  },
  {
   "cell_type": "code",
   "execution_count": 131,
   "id": "96325721-7e7d-473b-ab98-d71488a25750",
   "metadata": {},
   "outputs": [
    {
     "name": "stdout",
     "output_type": "stream",
     "text": [
      "MSRP    6369\n",
      "dtype: int64\n"
     ]
    }
   ],
   "source": [
    "null = dfcar4.isnull().sum()\n",
    "print(null[null>0])"
   ]
  },
  {
   "cell_type": "code",
   "execution_count": 132,
   "id": "3c2bdcb3-4b1c-4f87-a736-9aaedaacef2f",
   "metadata": {},
   "outputs": [],
   "source": [
    "dfcar5 = dfcar4.dropna(subset=[\"MSRP\"])"
   ]
  },
  {
   "cell_type": "code",
   "execution_count": 133,
   "id": "be176000-ce57-443e-bd67-c86db4f4fd0a",
   "metadata": {},
   "outputs": [
    {
     "name": "stdout",
     "output_type": "stream",
     "text": [
      "Series([], dtype: int64)\n"
     ]
    }
   ],
   "source": [
    "null = dfcar5.isnull().sum()\n",
    "print(null[null>0])"
   ]
  },
  {
   "cell_type": "markdown",
   "id": "c81fa2a0-5a46-4265-9422-48b800073019",
   "metadata": {},
   "source": [
    "### Using LabelEncoder, turn categorical variables to numerical variables"
   ]
  },
  {
   "cell_type": "code",
   "execution_count": 147,
   "id": "e7d47e9b-386a-4136-949d-9ead73d0fb01",
   "metadata": {},
   "outputs": [
    {
     "name": "stderr",
     "output_type": "stream",
     "text": [
      "/opt/anaconda3/lib/python3.8/site-packages/pandas/core/frame.py:3191: SettingWithCopyWarning: \n",
      "A value is trying to be set on a copy of a slice from a DataFrame.\n",
      "Try using .loc[row_indexer,col_indexer] = value instead\n",
      "\n",
      "See the caveats in the documentation: https://pandas.pydata.org/pandas-docs/stable/user_guide/indexing.html#returning-a-view-versus-a-copy\n",
      "  self[k1] = value[k2]\n"
     ]
    }
   ],
   "source": [
    "from sklearn import preprocessing\n",
    "le = preprocessing.LabelEncoder()\n",
    "dfcar7 = dfcar5\n",
    "dfcar7[['condition', 'cylinders', 'fuel', 'title_status', 'transmission',\n",
    "       'drive', 'type', 'state']]=dfcar7[['condition', 'cylinders', 'fuel', 'title_status', 'transmission',\n",
    "       'drive', 'type', 'state']].apply(le.fit_transform)"
   ]
  },
  {
   "cell_type": "code",
   "execution_count": 148,
   "id": "4a3bf9f5-4cbf-46f5-89be-be1ee49110a0",
   "metadata": {},
   "outputs": [
    {
     "data": {
      "text/html": [
       "<div>\n",
       "<style scoped>\n",
       "    .dataframe tbody tr th:only-of-type {\n",
       "        vertical-align: middle;\n",
       "    }\n",
       "\n",
       "    .dataframe tbody tr th {\n",
       "        vertical-align: top;\n",
       "    }\n",
       "\n",
       "    .dataframe thead th {\n",
       "        text-align: right;\n",
       "    }\n",
       "</style>\n",
       "<table border=\"1\" class=\"dataframe\">\n",
       "  <thead>\n",
       "    <tr style=\"text-align: right;\">\n",
       "      <th></th>\n",
       "      <th>price</th>\n",
       "      <th>year</th>\n",
       "      <th>condition</th>\n",
       "      <th>cylinders</th>\n",
       "      <th>fuel</th>\n",
       "      <th>odometer</th>\n",
       "      <th>title_status</th>\n",
       "      <th>transmission</th>\n",
       "      <th>drive</th>\n",
       "      <th>type</th>\n",
       "      <th>state</th>\n",
       "      <th>MSRP</th>\n",
       "      <th>quarter</th>\n",
       "      <th>car_age</th>\n",
       "      <th>is_vintage</th>\n",
       "      <th>is_color_neutral</th>\n",
       "    </tr>\n",
       "  </thead>\n",
       "  <tbody>\n",
       "    <tr>\n",
       "      <th>0</th>\n",
       "      <td>22590</td>\n",
       "      <td>2010.0</td>\n",
       "      <td>2</td>\n",
       "      <td>4</td>\n",
       "      <td>2</td>\n",
       "      <td>71229.0</td>\n",
       "      <td>0</td>\n",
       "      <td>2</td>\n",
       "      <td>0</td>\n",
       "      <td>8</td>\n",
       "      <td>1</td>\n",
       "      <td>46110.0</td>\n",
       "      <td>2</td>\n",
       "      <td>11.0</td>\n",
       "      <td>0</td>\n",
       "      <td>0</td>\n",
       "    </tr>\n",
       "    <tr>\n",
       "      <th>1</th>\n",
       "      <td>35000</td>\n",
       "      <td>2019.0</td>\n",
       "      <td>0</td>\n",
       "      <td>3</td>\n",
       "      <td>2</td>\n",
       "      <td>43000.0</td>\n",
       "      <td>0</td>\n",
       "      <td>0</td>\n",
       "      <td>0</td>\n",
       "      <td>10</td>\n",
       "      <td>1</td>\n",
       "      <td>27355.0</td>\n",
       "      <td>2</td>\n",
       "      <td>2.0</td>\n",
       "      <td>0</td>\n",
       "      <td>1</td>\n",
       "    </tr>\n",
       "  </tbody>\n",
       "</table>\n",
       "</div>"
      ],
      "text/plain": [
       "   price    year  condition  cylinders  fuel  odometer  title_status  \\\n",
       "0  22590  2010.0          2          4     2   71229.0             0   \n",
       "1  35000  2019.0          0          3     2   43000.0             0   \n",
       "\n",
       "   transmission  drive  type  state     MSRP  quarter  car_age  is_vintage  \\\n",
       "0             2      0     8      1  46110.0        2     11.0           0   \n",
       "1             0      0    10      1  27355.0        2      2.0           0   \n",
       "\n",
       "   is_color_neutral  \n",
       "0                 0  \n",
       "1                 1  "
      ]
     },
     "execution_count": 148,
     "metadata": {},
     "output_type": "execute_result"
    }
   ],
   "source": [
    "dfcar7.head(2)"
   ]
  },
  {
   "cell_type": "code",
   "execution_count": 149,
   "id": "05c45bf0-6c1e-4b96-84ae-d99eb9f8376f",
   "metadata": {},
   "outputs": [
    {
     "data": {
      "text/plain": [
       "price       year    condition  cylinders  fuel  odometer  title_status  transmission  drive  type  state  MSRP     quarter  car_age  is_vintage  is_color_neutral\n",
       "500         2013.0  1          1          2     130000.0  5             0             0      9     4      22560.0  2        8.0      0           0                   77\n",
       "100         2011.0  0          3          2     100000.0  0             0             0      0     35     23995.0  2        10.0     0           0                   53\n",
       "25998       2019.0  0          1          2     27056.0   0             0             1      9     26     26150.0  2        2.0      0           0                   31\n",
       "1           2016.0  0          3          2     57722.0   0             2             0      12    9      27895.0  2        5.0      0           1                   31\n",
       "388         2002.0  1          1          2     150000.0  0             0             1      9     6      19450.0  2        19.0     0           0                   30\n",
       "                                                                                                                                                                     ..\n",
       "6800        2011.0  3          3          2     127000.0  0             0             1      9     39     28565.0  2        10.0     0           1                    1\n",
       "                                                124135.0  0             0             1      0     24     38500.0  2        10.0     0           0                    1\n",
       "                    2          3          2     204811.0  0             0             0      9     27     28565.0  2        10.0     0           1                    1\n",
       "                                                197000.0  4             0             1      11    39     37775.0  2        10.0     0           1                    1\n",
       "3736928711  2007.0  0          4          2     164000.0  0             0             0      8     37     33210.0  2        14.0     0           1                    1\n",
       "Length: 125510, dtype: int64"
      ]
     },
     "execution_count": 149,
     "metadata": {},
     "output_type": "execute_result"
    }
   ],
   "source": [
    "dfcar7.value_counts()"
   ]
  },
  {
   "cell_type": "code",
   "execution_count": 150,
   "id": "cdcad35d-e5ba-4327-98e7-5839677c1a84",
   "metadata": {},
   "outputs": [],
   "source": [
    "dfcar7.to_csv(\"labelencoder2.csv\", index=False)"
   ]
  }
 ],
 "metadata": {
  "kernelspec": {
   "display_name": "Python 3 (ipykernel)",
   "language": "python",
   "name": "python3"
  },
  "language_info": {
   "codemirror_mode": {
    "name": "ipython",
    "version": 3
   },
   "file_extension": ".py",
   "mimetype": "text/x-python",
   "name": "python",
   "nbconvert_exporter": "python",
   "pygments_lexer": "ipython3",
   "version": "3.9.7"
  }
 },
 "nbformat": 4,
 "nbformat_minor": 5
}
