{
 "cells": [
  {
   "cell_type": "markdown",
   "id": "41429054",
   "metadata": {},
   "source": [
    "# Initial EDA with Raw Data 2nd Version"
   ]
  },
  {
   "cell_type": "markdown",
   "id": "75497ba6-1235-40d9-a7bf-f9424b34a5bf",
   "metadata": {},
   "source": [
    "Dataset: https://www.kaggle.com/austinreese/craigslist-carstrucks-data"
   ]
  },
  {
   "cell_type": "code",
   "execution_count": 1,
   "id": "6e9cf773",
   "metadata": {},
   "outputs": [],
   "source": [
    "import pandas as pd\n",
    "data = pd.read_csv('/Volumes/GoogleDrive/My Drive/MScA 2022 WINTER/MSCA 31008 5 Data Mining Principles/Project/vehicles.csv')"
   ]
  },
  {
   "cell_type": "code",
   "execution_count": 2,
   "id": "907f2b6a",
   "metadata": {},
   "outputs": [
    {
     "name": "stdout",
     "output_type": "stream",
     "text": [
      "<class 'pandas.core.frame.DataFrame'>\n",
      "RangeIndex: 426880 entries, 0 to 426879\n",
      "Data columns (total 26 columns):\n",
      " #   Column        Non-Null Count   Dtype  \n",
      "---  ------        --------------   -----  \n",
      " 0   id            426880 non-null  int64  \n",
      " 1   url           426880 non-null  object \n",
      " 2   region        426880 non-null  object \n",
      " 3   region_url    426880 non-null  object \n",
      " 4   price         426880 non-null  int64  \n",
      " 5   year          425675 non-null  float64\n",
      " 6   manufacturer  409234 non-null  object \n",
      " 7   model         421603 non-null  object \n",
      " 8   condition     252776 non-null  object \n",
      " 9   cylinders     249202 non-null  object \n",
      " 10  fuel          423867 non-null  object \n",
      " 11  odometer      422480 non-null  float64\n",
      " 12  title_status  418638 non-null  object \n",
      " 13  transmission  424324 non-null  object \n",
      " 14  VIN           265838 non-null  object \n",
      " 15  drive         296313 non-null  object \n",
      " 16  size          120519 non-null  object \n",
      " 17  type          334022 non-null  object \n",
      " 18  paint_color   296677 non-null  object \n",
      " 19  image_url     426812 non-null  object \n",
      " 20  description   426810 non-null  object \n",
      " 21  county        0 non-null       float64\n",
      " 22  state         426880 non-null  object \n",
      " 23  lat           420331 non-null  float64\n",
      " 24  long          420331 non-null  float64\n",
      " 25  posting_date  426812 non-null  object \n",
      "dtypes: float64(5), int64(2), object(19)\n",
      "memory usage: 84.7+ MB\n"
     ]
    }
   ],
   "source": [
    "data.info()"
   ]
  },
  {
   "cell_type": "code",
   "execution_count": 11,
   "id": "6402f167",
   "metadata": {
    "scrolled": true
   },
   "outputs": [
    {
     "data": {
      "text/html": [
       "<div>\n",
       "<style scoped>\n",
       "    .dataframe tbody tr th:only-of-type {\n",
       "        vertical-align: middle;\n",
       "    }\n",
       "\n",
       "    .dataframe tbody tr th {\n",
       "        vertical-align: top;\n",
       "    }\n",
       "\n",
       "    .dataframe thead th {\n",
       "        text-align: right;\n",
       "    }\n",
       "</style>\n",
       "<table border=\"1\" class=\"dataframe\">\n",
       "  <thead>\n",
       "    <tr style=\"text-align: right;\">\n",
       "      <th></th>\n",
       "      <th>id</th>\n",
       "      <th>url</th>\n",
       "      <th>region</th>\n",
       "      <th>region_url</th>\n",
       "      <th>price</th>\n",
       "      <th>year</th>\n",
       "      <th>manufacturer</th>\n",
       "      <th>model</th>\n",
       "      <th>condition</th>\n",
       "      <th>cylinders</th>\n",
       "      <th>...</th>\n",
       "      <th>size</th>\n",
       "      <th>type</th>\n",
       "      <th>paint_color</th>\n",
       "      <th>image_url</th>\n",
       "      <th>description</th>\n",
       "      <th>county</th>\n",
       "      <th>state</th>\n",
       "      <th>lat</th>\n",
       "      <th>long</th>\n",
       "      <th>posting_date</th>\n",
       "    </tr>\n",
       "  </thead>\n",
       "  <tbody>\n",
       "    <tr>\n",
       "      <th>0</th>\n",
       "      <td>7222695916</td>\n",
       "      <td>https://prescott.craigslist.org/cto/d/prescott...</td>\n",
       "      <td>prescott</td>\n",
       "      <td>https://prescott.craigslist.org</td>\n",
       "      <td>6000</td>\n",
       "      <td>NaN</td>\n",
       "      <td>NaN</td>\n",
       "      <td>NaN</td>\n",
       "      <td>NaN</td>\n",
       "      <td>NaN</td>\n",
       "      <td>...</td>\n",
       "      <td>NaN</td>\n",
       "      <td>NaN</td>\n",
       "      <td>NaN</td>\n",
       "      <td>NaN</td>\n",
       "      <td>NaN</td>\n",
       "      <td>NaN</td>\n",
       "      <td>az</td>\n",
       "      <td>NaN</td>\n",
       "      <td>NaN</td>\n",
       "      <td>NaN</td>\n",
       "    </tr>\n",
       "    <tr>\n",
       "      <th>1</th>\n",
       "      <td>7218891961</td>\n",
       "      <td>https://fayar.craigslist.org/ctd/d/bentonville...</td>\n",
       "      <td>fayetteville</td>\n",
       "      <td>https://fayar.craigslist.org</td>\n",
       "      <td>11900</td>\n",
       "      <td>NaN</td>\n",
       "      <td>NaN</td>\n",
       "      <td>NaN</td>\n",
       "      <td>NaN</td>\n",
       "      <td>NaN</td>\n",
       "      <td>...</td>\n",
       "      <td>NaN</td>\n",
       "      <td>NaN</td>\n",
       "      <td>NaN</td>\n",
       "      <td>NaN</td>\n",
       "      <td>NaN</td>\n",
       "      <td>NaN</td>\n",
       "      <td>ar</td>\n",
       "      <td>NaN</td>\n",
       "      <td>NaN</td>\n",
       "      <td>NaN</td>\n",
       "    </tr>\n",
       "    <tr>\n",
       "      <th>2</th>\n",
       "      <td>7221797935</td>\n",
       "      <td>https://keys.craigslist.org/cto/d/summerland-k...</td>\n",
       "      <td>florida keys</td>\n",
       "      <td>https://keys.craigslist.org</td>\n",
       "      <td>21000</td>\n",
       "      <td>NaN</td>\n",
       "      <td>NaN</td>\n",
       "      <td>NaN</td>\n",
       "      <td>NaN</td>\n",
       "      <td>NaN</td>\n",
       "      <td>...</td>\n",
       "      <td>NaN</td>\n",
       "      <td>NaN</td>\n",
       "      <td>NaN</td>\n",
       "      <td>NaN</td>\n",
       "      <td>NaN</td>\n",
       "      <td>NaN</td>\n",
       "      <td>fl</td>\n",
       "      <td>NaN</td>\n",
       "      <td>NaN</td>\n",
       "      <td>NaN</td>\n",
       "    </tr>\n",
       "    <tr>\n",
       "      <th>3</th>\n",
       "      <td>7222270760</td>\n",
       "      <td>https://worcester.craigslist.org/cto/d/west-br...</td>\n",
       "      <td>worcester / central MA</td>\n",
       "      <td>https://worcester.craigslist.org</td>\n",
       "      <td>1500</td>\n",
       "      <td>NaN</td>\n",
       "      <td>NaN</td>\n",
       "      <td>NaN</td>\n",
       "      <td>NaN</td>\n",
       "      <td>NaN</td>\n",
       "      <td>...</td>\n",
       "      <td>NaN</td>\n",
       "      <td>NaN</td>\n",
       "      <td>NaN</td>\n",
       "      <td>NaN</td>\n",
       "      <td>NaN</td>\n",
       "      <td>NaN</td>\n",
       "      <td>ma</td>\n",
       "      <td>NaN</td>\n",
       "      <td>NaN</td>\n",
       "      <td>NaN</td>\n",
       "    </tr>\n",
       "    <tr>\n",
       "      <th>4</th>\n",
       "      <td>7210384030</td>\n",
       "      <td>https://greensboro.craigslist.org/cto/d/trinit...</td>\n",
       "      <td>greensboro</td>\n",
       "      <td>https://greensboro.craigslist.org</td>\n",
       "      <td>4900</td>\n",
       "      <td>NaN</td>\n",
       "      <td>NaN</td>\n",
       "      <td>NaN</td>\n",
       "      <td>NaN</td>\n",
       "      <td>NaN</td>\n",
       "      <td>...</td>\n",
       "      <td>NaN</td>\n",
       "      <td>NaN</td>\n",
       "      <td>NaN</td>\n",
       "      <td>NaN</td>\n",
       "      <td>NaN</td>\n",
       "      <td>NaN</td>\n",
       "      <td>nc</td>\n",
       "      <td>NaN</td>\n",
       "      <td>NaN</td>\n",
       "      <td>NaN</td>\n",
       "    </tr>\n",
       "  </tbody>\n",
       "</table>\n",
       "<p>5 rows × 26 columns</p>\n",
       "</div>"
      ],
      "text/plain": [
       "           id                                                url  \\\n",
       "0  7222695916  https://prescott.craigslist.org/cto/d/prescott...   \n",
       "1  7218891961  https://fayar.craigslist.org/ctd/d/bentonville...   \n",
       "2  7221797935  https://keys.craigslist.org/cto/d/summerland-k...   \n",
       "3  7222270760  https://worcester.craigslist.org/cto/d/west-br...   \n",
       "4  7210384030  https://greensboro.craigslist.org/cto/d/trinit...   \n",
       "\n",
       "                   region                         region_url  price  year  \\\n",
       "0                prescott    https://prescott.craigslist.org   6000   NaN   \n",
       "1            fayetteville       https://fayar.craigslist.org  11900   NaN   \n",
       "2            florida keys        https://keys.craigslist.org  21000   NaN   \n",
       "3  worcester / central MA   https://worcester.craigslist.org   1500   NaN   \n",
       "4              greensboro  https://greensboro.craigslist.org   4900   NaN   \n",
       "\n",
       "  manufacturer model condition cylinders  ... size  type paint_color  \\\n",
       "0          NaN   NaN       NaN       NaN  ...  NaN   NaN         NaN   \n",
       "1          NaN   NaN       NaN       NaN  ...  NaN   NaN         NaN   \n",
       "2          NaN   NaN       NaN       NaN  ...  NaN   NaN         NaN   \n",
       "3          NaN   NaN       NaN       NaN  ...  NaN   NaN         NaN   \n",
       "4          NaN   NaN       NaN       NaN  ...  NaN   NaN         NaN   \n",
       "\n",
       "  image_url description county state lat long posting_date  \n",
       "0       NaN         NaN    NaN    az NaN  NaN          NaN  \n",
       "1       NaN         NaN    NaN    ar NaN  NaN          NaN  \n",
       "2       NaN         NaN    NaN    fl NaN  NaN          NaN  \n",
       "3       NaN         NaN    NaN    ma NaN  NaN          NaN  \n",
       "4       NaN         NaN    NaN    nc NaN  NaN          NaN  \n",
       "\n",
       "[5 rows x 26 columns]"
      ]
     },
     "execution_count": 11,
     "metadata": {},
     "output_type": "execute_result"
    }
   ],
   "source": [
    "data.head()"
   ]
  },
  {
   "cell_type": "markdown",
   "id": "c7d28ec8",
   "metadata": {},
   "source": [
    "## Price\n",
    "### to drop null values\n",
    "predicted variable"
   ]
  },
  {
   "cell_type": "code",
   "execution_count": 10,
   "id": "30584df7",
   "metadata": {},
   "outputs": [
    {
     "data": {
      "text/plain": [
       "0    32895\n",
       "Name: price, dtype: int64"
      ]
     },
     "execution_count": 10,
     "metadata": {},
     "output_type": "execute_result"
    }
   ],
   "source": [
    "data['price'][data['price']==0].value_counts()"
   ]
  },
  {
   "cell_type": "markdown",
   "id": "6e127e54",
   "metadata": {},
   "source": [
    "## ID\n",
    "### to drop"
   ]
  },
  {
   "cell_type": "code",
   "execution_count": 12,
   "id": "03792165",
   "metadata": {},
   "outputs": [
    {
     "data": {
      "text/plain": [
       "7315920899    1\n",
       "7307384557    1\n",
       "7313280430    1\n",
       "7308043691    1\n",
       "7305924006    1\n",
       "             ..\n",
       "7314115644    1\n",
       "7306787898    1\n",
       "7303921543    1\n",
       "7303595053    1\n",
       "7312775165    1\n",
       "Name: id, Length: 426880, dtype: int64"
      ]
     },
     "execution_count": 12,
     "metadata": {},
     "output_type": "execute_result"
    }
   ],
   "source": [
    "data['id'].value_counts() \n",
    "# no nulls\n",
    "# high-cardinality"
   ]
  },
  {
   "cell_type": "markdown",
   "id": "aaef53ac",
   "metadata": {},
   "source": [
    "## region, region_url\n",
    "### add new column 'region_clean'\n",
    "to potentially drop as it is not relevant, can be represented by other variables"
   ]
  },
  {
   "cell_type": "code",
   "execution_count": 13,
   "id": "380840e1",
   "metadata": {},
   "outputs": [
    {
     "data": {
      "text/plain": [
       "https://redding.craigslist.org/ctd/d/sacramento-2004-honda-element-ex/7316008445.html                1\n",
       "https://hartford.craigslist.org/ctd/d/plainville-2007-ford-mustang/7310509250.html                   1\n",
       "https://columbusga.craigslist.org/ctd/d/columbus-2019-chevy-chevrolet-silverado/7316782018.html      1\n",
       "https://morgantown.craigslist.org/ctd/d/latrobe-1966-amc-ambassador-990/7304854424.html              1\n",
       "https://charlottesville.craigslist.org/cto/d/quinque-2000-mercury-grand-marquis/7315733818.html      1\n",
       "                                                                                                    ..\n",
       "https://tucson.craigslist.org/ctd/d/tucson-2014-chevrolet-express/7313523544.html                    1\n",
       "https://sarasota.craigslist.org/ctd/d/sarasota-2013-lexus-gx-460-leather-awd/7309861888.html         1\n",
       "https://hartford.craigslist.org/ctd/d/south-windsor-2013-ford-fiesta-owner/7309805719.html           1\n",
       "https://stlouis.craigslist.org/cto/d/saint-louis-2002-lecus-es300/7315387207.html                    1\n",
       "https://portland.craigslist.org/wsc/ctd/d/hillsboro-2018-mazda-cx-touring-awd-suv/7317009440.html    1\n",
       "Name: url, Length: 426880, dtype: int64"
      ]
     },
     "execution_count": 13,
     "metadata": {},
     "output_type": "execute_result"
    }
   ],
   "source": [
    "data['url'].value_counts() \n",
    "# no nulls\n",
    "# high-cardinality"
   ]
  },
  {
   "cell_type": "code",
   "execution_count": 14,
   "id": "daa7bc96",
   "metadata": {},
   "outputs": [
    {
     "data": {
      "text/plain": [
       "columbus                   3608\n",
       "jacksonville               3562\n",
       "spokane / coeur d'alene    2988\n",
       "eugene                     2985\n",
       "orlando                    2983\n",
       "                           ... \n",
       "meridian                     28\n",
       "southwest MS                 14\n",
       "kansas city                  11\n",
       "fort smith, AR                9\n",
       "west virginia (old)           8\n",
       "Name: region, Length: 404, dtype: int64"
      ]
     },
     "execution_count": 14,
     "metadata": {},
     "output_type": "execute_result"
    }
   ],
   "source": [
    "data['region'].value_counts()\n",
    "# no nulls\n",
    "# 404 unique"
   ]
  },
  {
   "cell_type": "code",
   "execution_count": 42,
   "id": "eeb36b37",
   "metadata": {},
   "outputs": [
    {
     "data": {
      "text/plain": [
       "404"
      ]
     },
     "execution_count": 42,
     "metadata": {},
     "output_type": "execute_result"
    }
   ],
   "source": [
    "len((list(sorted(data['region'].unique()))))"
   ]
  },
  {
   "cell_type": "code",
   "execution_count": 23,
   "id": "11a26bf1",
   "metadata": {},
   "outputs": [
    {
     "data": {
      "text/html": [
       "<div>\n",
       "<style scoped>\n",
       "    .dataframe tbody tr th:only-of-type {\n",
       "        vertical-align: middle;\n",
       "    }\n",
       "\n",
       "    .dataframe tbody tr th {\n",
       "        vertical-align: top;\n",
       "    }\n",
       "\n",
       "    .dataframe thead th {\n",
       "        text-align: right;\n",
       "    }\n",
       "</style>\n",
       "<table border=\"1\" class=\"dataframe\">\n",
       "  <thead>\n",
       "    <tr style=\"text-align: right;\">\n",
       "      <th></th>\n",
       "      <th>region_url</th>\n",
       "      <th>region</th>\n",
       "    </tr>\n",
       "  </thead>\n",
       "  <tbody>\n",
       "    <tr>\n",
       "      <th>0</th>\n",
       "      <td>https://prescott.craigslist.org</td>\n",
       "      <td>prescott</td>\n",
       "    </tr>\n",
       "    <tr>\n",
       "      <th>1</th>\n",
       "      <td>https://fayar.craigslist.org</td>\n",
       "      <td>fayetteville</td>\n",
       "    </tr>\n",
       "    <tr>\n",
       "      <th>2</th>\n",
       "      <td>https://keys.craigslist.org</td>\n",
       "      <td>florida keys</td>\n",
       "    </tr>\n",
       "    <tr>\n",
       "      <th>3</th>\n",
       "      <td>https://worcester.craigslist.org</td>\n",
       "      <td>worcester / central MA</td>\n",
       "    </tr>\n",
       "    <tr>\n",
       "      <th>4</th>\n",
       "      <td>https://greensboro.craigslist.org</td>\n",
       "      <td>greensboro</td>\n",
       "    </tr>\n",
       "    <tr>\n",
       "      <th>...</th>\n",
       "      <td>...</td>\n",
       "      <td>...</td>\n",
       "    </tr>\n",
       "    <tr>\n",
       "      <th>426875</th>\n",
       "      <td>https://wyoming.craigslist.org</td>\n",
       "      <td>wyoming</td>\n",
       "    </tr>\n",
       "    <tr>\n",
       "      <th>426876</th>\n",
       "      <td>https://wyoming.craigslist.org</td>\n",
       "      <td>wyoming</td>\n",
       "    </tr>\n",
       "    <tr>\n",
       "      <th>426877</th>\n",
       "      <td>https://wyoming.craigslist.org</td>\n",
       "      <td>wyoming</td>\n",
       "    </tr>\n",
       "    <tr>\n",
       "      <th>426878</th>\n",
       "      <td>https://wyoming.craigslist.org</td>\n",
       "      <td>wyoming</td>\n",
       "    </tr>\n",
       "    <tr>\n",
       "      <th>426879</th>\n",
       "      <td>https://wyoming.craigslist.org</td>\n",
       "      <td>wyoming</td>\n",
       "    </tr>\n",
       "  </tbody>\n",
       "</table>\n",
       "<p>426880 rows × 2 columns</p>\n",
       "</div>"
      ],
      "text/plain": [
       "                               region_url                  region\n",
       "0         https://prescott.craigslist.org                prescott\n",
       "1            https://fayar.craigslist.org            fayetteville\n",
       "2             https://keys.craigslist.org            florida keys\n",
       "3        https://worcester.craigslist.org  worcester / central MA\n",
       "4       https://greensboro.craigslist.org              greensboro\n",
       "...                                   ...                     ...\n",
       "426875     https://wyoming.craigslist.org                 wyoming\n",
       "426876     https://wyoming.craigslist.org                 wyoming\n",
       "426877     https://wyoming.craigslist.org                 wyoming\n",
       "426878     https://wyoming.craigslist.org                 wyoming\n",
       "426879     https://wyoming.craigslist.org                 wyoming\n",
       "\n",
       "[426880 rows x 2 columns]"
      ]
     },
     "execution_count": 23,
     "metadata": {},
     "output_type": "execute_result"
    }
   ],
   "source": [
    "data[['region_url','region']]"
   ]
  },
  {
   "cell_type": "code",
   "execution_count": 37,
   "id": "1e971731",
   "metadata": {},
   "outputs": [
    {
     "data": {
      "text/plain": [
       "0           https://prescott.craigslist.org\n",
       "1              https://fayar.craigslist.org\n",
       "2               https://keys.craigslist.org\n",
       "3          https://worcester.craigslist.org\n",
       "4         https://greensboro.craigslist.org\n",
       "                        ...                \n",
       "426875       https://wyoming.craigslist.org\n",
       "426876       https://wyoming.craigslist.org\n",
       "426877       https://wyoming.craigslist.org\n",
       "426878       https://wyoming.craigslist.org\n",
       "426879       https://wyoming.craigslist.org\n",
       "Name: region_url, Length: 426880, dtype: object"
      ]
     },
     "execution_count": 37,
     "metadata": {},
     "output_type": "execute_result"
    }
   ],
   "source": [
    "data['region_url'][pd.Series(data['region_url']).str.startswith('https://')]"
   ]
  },
  {
   "cell_type": "code",
   "execution_count": 3,
   "id": "4f01cb81",
   "metadata": {},
   "outputs": [
    {
     "data": {
      "text/plain": [
       "0           prescott\n",
       "1              fayar\n",
       "2               keys\n",
       "3          worcester\n",
       "4         greensboro\n",
       "             ...    \n",
       "426875       wyoming\n",
       "426876       wyoming\n",
       "426877       wyoming\n",
       "426878       wyoming\n",
       "426879       wyoming\n",
       "Name: region_clean, Length: 426880, dtype: object"
      ]
     },
     "execution_count": 3,
     "metadata": {},
     "output_type": "execute_result"
    }
   ],
   "source": [
    "import numpy as np\n",
    "df = data.copy()\n",
    "df['region_clean'] = df['region_url'].str.extract(r'((?<=\\/\\/).*?(?=\\.))')\n",
    "df['region_clean']"
   ]
  },
  {
   "cell_type": "code",
   "execution_count": 41,
   "id": "3c3928dd",
   "metadata": {},
   "outputs": [
    {
     "data": {
      "text/plain": [
       "spokane     2988\n",
       "eugene      2985\n",
       "orlando     2983\n",
       "fresno      2983\n",
       "omaha       2982\n",
       "            ... \n",
       "nesd          34\n",
       "bigbend       30\n",
       "meridian      28\n",
       "natchez       14\n",
       "wv             8\n",
       "Name: region_clean, Length: 413, dtype: int64"
      ]
     },
     "execution_count": 41,
     "metadata": {},
     "output_type": "execute_result"
    }
   ],
   "source": [
    "df['region_clean'].value_counts() # from 404 to 413"
   ]
  },
  {
   "cell_type": "markdown",
   "id": "31f03a72",
   "metadata": {},
   "source": [
    "## Year\n",
    "### to clean-up\n",
    "- 1205 without Year\n",
    "- 68 without Manufacturer, Model, Year (to drop)\n",
    "- 1131 Model without Manufacturer (some to drop)\n",
    "- 1131 Model without Manufacturer and Year (some to drop)\n",
    "- 1137 Model without Year, with Manufacturer\n",
    "- 6 Manufacturer + Model without Year\n",
    "\n",
    "Unique:\n",
    "- 1 unique Manufacturer\n",
    "- 202 unique Models (not cleaned up yet)"
   ]
  },
  {
   "cell_type": "code",
   "execution_count": 49,
   "id": "0c107370",
   "metadata": {},
   "outputs": [
    {
     "data": {
      "text/plain": [
       "2017.0    36420\n",
       "2018.0    36369\n",
       "2015.0    31538\n",
       "2013.0    30794\n",
       "2016.0    30434\n",
       "          ...  \n",
       "1943.0        1\n",
       "1915.0        1\n",
       "1902.0        1\n",
       "1905.0        1\n",
       "1918.0        1\n",
       "Name: year, Length: 114, dtype: int64"
      ]
     },
     "execution_count": 49,
     "metadata": {},
     "output_type": "execute_result"
    }
   ],
   "source": [
    "df['year'].value_counts()"
   ]
  },
  {
   "cell_type": "code",
   "execution_count": 58,
   "id": "1bb1691f",
   "metadata": {},
   "outputs": [
    {
     "data": {
      "text/plain": [
       "1205"
      ]
     },
     "execution_count": 58,
     "metadata": {},
     "output_type": "execute_result"
    }
   ],
   "source": [
    "check_year = df[['manufacturer','model','year']][df['year'].isnull()]\n",
    "len(check_year)"
   ]
  },
  {
   "cell_type": "code",
   "execution_count": 83,
   "id": "c9085b65",
   "metadata": {},
   "outputs": [
    {
     "data": {
      "text/plain": [
       "rover    6\n",
       "Name: manufacturer, dtype: int64"
      ]
     },
     "execution_count": 83,
     "metadata": {},
     "output_type": "execute_result"
    }
   ],
   "source": [
    "check_year['manufacturer'].value_counts()"
   ]
  },
  {
   "cell_type": "code",
   "execution_count": 86,
   "id": "47cefa33",
   "metadata": {},
   "outputs": [
    {
     "data": {
      "text/html": [
       "<div>\n",
       "<style scoped>\n",
       "    .dataframe tbody tr th:only-of-type {\n",
       "        vertical-align: middle;\n",
       "    }\n",
       "\n",
       "    .dataframe tbody tr th {\n",
       "        vertical-align: top;\n",
       "    }\n",
       "\n",
       "    .dataframe thead th {\n",
       "        text-align: right;\n",
       "    }\n",
       "</style>\n",
       "<table border=\"1\" class=\"dataframe\">\n",
       "  <thead>\n",
       "    <tr style=\"text-align: right;\">\n",
       "      <th></th>\n",
       "      <th>manufacturer</th>\n",
       "      <th>model</th>\n",
       "      <th>year</th>\n",
       "    </tr>\n",
       "  </thead>\n",
       "  <tbody>\n",
       "    <tr>\n",
       "      <th>2746</th>\n",
       "      <td>rover</td>\n",
       "      <td>sport</td>\n",
       "      <td>NaN</td>\n",
       "    </tr>\n",
       "    <tr>\n",
       "      <th>3310</th>\n",
       "      <td>rover</td>\n",
       "      <td>sport</td>\n",
       "      <td>NaN</td>\n",
       "    </tr>\n",
       "    <tr>\n",
       "      <th>128147</th>\n",
       "      <td>rover</td>\n",
       "      <td>velar</td>\n",
       "      <td>NaN</td>\n",
       "    </tr>\n",
       "    <tr>\n",
       "      <th>129995</th>\n",
       "      <td>rover</td>\n",
       "      <td>sport</td>\n",
       "      <td>NaN</td>\n",
       "    </tr>\n",
       "    <tr>\n",
       "      <th>250813</th>\n",
       "      <td>rover</td>\n",
       "      <td>discovery sport</td>\n",
       "      <td>NaN</td>\n",
       "    </tr>\n",
       "    <tr>\n",
       "      <th>359095</th>\n",
       "      <td>rover</td>\n",
       "      <td>sport</td>\n",
       "      <td>NaN</td>\n",
       "    </tr>\n",
       "  </tbody>\n",
       "</table>\n",
       "</div>"
      ],
      "text/plain": [
       "       manufacturer            model  year\n",
       "2746          rover            sport   NaN\n",
       "3310          rover            sport   NaN\n",
       "128147        rover            velar   NaN\n",
       "129995        rover            sport   NaN\n",
       "250813        rover  discovery sport   NaN\n",
       "359095        rover            sport   NaN"
      ]
     },
     "execution_count": 86,
     "metadata": {},
     "output_type": "execute_result"
    }
   ],
   "source": [
    "check_year[check_year['manufacturer']=='rover']"
   ]
  },
  {
   "cell_type": "code",
   "execution_count": 85,
   "id": "c7e865c4",
   "metadata": {},
   "outputs": [
    {
     "data": {
      "text/plain": [
       "500                      76\n",
       "Grand Caravan            75\n",
       "F-150                    63\n",
       "ierra 1500               53\n",
       "olet Silverado 2500HD    33\n",
       "                         ..\n",
       "EcoSport                  1\n",
       "Romeo Stelvio             1\n",
       "A7                        1\n",
       "Cooper Convertible        1\n",
       "1                         1\n",
       "Name: model, Length: 202, dtype: int64"
      ]
     },
     "execution_count": 85,
     "metadata": {},
     "output_type": "execute_result"
    }
   ],
   "source": [
    "check_year['model'].value_counts()"
   ]
  },
  {
   "cell_type": "code",
   "execution_count": 71,
   "id": "55f572d5",
   "metadata": {},
   "outputs": [
    {
     "data": {
      "text/plain": [
       "68"
      ]
     },
     "execution_count": 71,
     "metadata": {},
     "output_type": "execute_result"
    }
   ],
   "source": [
    "len(check_year[check_year['manufacturer'].isnull() & check_year['model'].isnull()])"
   ]
  },
  {
   "cell_type": "code",
   "execution_count": 95,
   "id": "ab738571",
   "metadata": {},
   "outputs": [
    {
     "data": {
      "text/plain": [
       "0"
      ]
     },
     "execution_count": 95,
     "metadata": {},
     "output_type": "execute_result"
    }
   ],
   "source": [
    "len(check_year[check_year['manufacturer'].notnull() & check_year['model'].isnull()])"
   ]
  },
  {
   "cell_type": "code",
   "execution_count": 96,
   "id": "b12342e5",
   "metadata": {},
   "outputs": [
    {
     "data": {
      "text/plain": [
       "1131"
      ]
     },
     "execution_count": 96,
     "metadata": {},
     "output_type": "execute_result"
    }
   ],
   "source": [
    "len(check_year[check_year['manufacturer'].isnull() & check_year['model'].notnull()])"
   ]
  },
  {
   "cell_type": "code",
   "execution_count": 98,
   "id": "f8691b25",
   "metadata": {},
   "outputs": [
    {
     "data": {
      "text/plain": [
       "6"
      ]
     },
     "execution_count": 98,
     "metadata": {},
     "output_type": "execute_result"
    }
   ],
   "source": [
    "len(check_year[check_year['manufacturer'].notnull() & check_year['model'].notnull() & check_year['year'].isnull()])"
   ]
  },
  {
   "cell_type": "code",
   "execution_count": 100,
   "id": "27a74689",
   "metadata": {},
   "outputs": [
    {
     "data": {
      "text/plain": [
       "1131"
      ]
     },
     "execution_count": 100,
     "metadata": {},
     "output_type": "execute_result"
    }
   ],
   "source": [
    "len(check_year[check_year['manufacturer'].isnull() & check_year['model'].notnull() & check_year['year'].isnull()])"
   ]
  },
  {
   "cell_type": "code",
   "execution_count": 99,
   "id": "937484f5",
   "metadata": {},
   "outputs": [
    {
     "data": {
      "text/plain": [
       "1137"
      ]
     },
     "execution_count": 99,
     "metadata": {},
     "output_type": "execute_result"
    }
   ],
   "source": [
    "len(check_year[check_year['model'].notnull() & check_year['year'].isnull()])"
   ]
  },
  {
   "cell_type": "markdown",
   "id": "a1d72186",
   "metadata": {},
   "source": [
    "## Condition\n",
    "### to clean up\n",
    "- 41% null (174104)\n",
    "- potentially to create dummies as is_conGood (1 for good, excellent, like new, new, otherwise 0)\n",
    "- can create is_conBad as well but may not be significant"
   ]
  },
  {
   "cell_type": "code",
   "execution_count": 102,
   "id": "9fa950c9",
   "metadata": {},
   "outputs": [
    {
     "data": {
      "text/plain": [
       "good         121456\n",
       "excellent    101467\n",
       "like new      21178\n",
       "fair           6769\n",
       "new            1305\n",
       "salvage         601\n",
       "Name: condition, dtype: int64"
      ]
     },
     "execution_count": 102,
     "metadata": {},
     "output_type": "execute_result"
    }
   ],
   "source": [
    "df['condition'].value_counts()"
   ]
  },
  {
   "cell_type": "code",
   "execution_count": 133,
   "id": "5eddd363",
   "metadata": {},
   "outputs": [
    {
     "data": {
      "text/plain": [
       "good         28.452024\n",
       "excellent    23.769443\n",
       "like new      4.961113\n",
       "fair          1.585692\n",
       "new           0.305707\n",
       "salvage       0.140789\n",
       "Name: condition, dtype: float64"
      ]
     },
     "execution_count": 133,
     "metadata": {},
     "output_type": "execute_result"
    }
   ],
   "source": [
    "(df['condition'].value_counts())/len(df['condition'])*100"
   ]
  },
  {
   "cell_type": "code",
   "execution_count": 137,
   "id": "3767c73f",
   "metadata": {},
   "outputs": [
    {
     "name": "stdout",
     "output_type": "stream",
     "text": [
      "174104\n",
      "40.78523238380809\n"
     ]
    }
   ],
   "source": [
    "print(len(df['condition'][df['condition'].isnull()]))\n",
    "print(len(df['condition'][df['condition'].isnull()]) / len(df['condition']) * 100)"
   ]
  },
  {
   "cell_type": "markdown",
   "id": "1d827062",
   "metadata": {},
   "source": [
    "## Cylinders\n",
    "### to clean up\n",
    "- 42% null\n",
    "- to potentially create dummies as Cyl_4abv = ~56%, Cyl_blw4 = ~54% (incl.none)"
   ]
  },
  {
   "cell_type": "code",
   "execution_count": 134,
   "id": "ccd854b1",
   "metadata": {},
   "outputs": [
    {
     "data": {
      "text/plain": [
       "6 cylinders     94169\n",
       "4 cylinders     77642\n",
       "8 cylinders     72062\n",
       "5 cylinders      1712\n",
       "10 cylinders     1455\n",
       "other            1298\n",
       "3 cylinders       655\n",
       "12 cylinders      209\n",
       "Name: cylinders, dtype: int64"
      ]
     },
     "execution_count": 134,
     "metadata": {},
     "output_type": "execute_result"
    }
   ],
   "source": [
    "df['cylinders'].value_counts()"
   ]
  },
  {
   "cell_type": "code",
   "execution_count": 135,
   "id": "3fce4d3a",
   "metadata": {},
   "outputs": [
    {
     "data": {
      "text/plain": [
       "6 cylinders     22.059829\n",
       "4 cylinders     18.188250\n",
       "8 cylinders     16.881091\n",
       "5 cylinders      0.401049\n",
       "10 cylinders     0.340845\n",
       "other            0.304067\n",
       "3 cylinders      0.153439\n",
       "12 cylinders     0.048960\n",
       "Name: cylinders, dtype: float64"
      ]
     },
     "execution_count": 135,
     "metadata": {},
     "output_type": "execute_result"
    }
   ],
   "source": [
    "(df['cylinders'].value_counts())/len(df['cylinders'])*100"
   ]
  },
  {
   "cell_type": "code",
   "execution_count": 138,
   "id": "4d12e5c6",
   "metadata": {},
   "outputs": [
    {
     "name": "stdout",
     "output_type": "stream",
     "text": [
      "177678\n",
      "41.6224700149925\n"
     ]
    }
   ],
   "source": [
    "print(len(df['cylinders'][df['cylinders'].isnull()]))\n",
    "print(len(df['cylinders'][df['cylinders'].isnull()]) / len(df['cylinders']) * 100)"
   ]
  },
  {
   "cell_type": "markdown",
   "id": "340d538d",
   "metadata": {},
   "source": [
    "## Fuel\n",
    "### to clean up\n",
    "- ~90% is gas and diesel\n",
    "- to potentially create dummies is_FossilFuel (1 for known fossil fuels, otherwise 0)"
   ]
  },
  {
   "cell_type": "code",
   "execution_count": 140,
   "id": "90a7147f",
   "metadata": {},
   "outputs": [
    {
     "data": {
      "text/plain": [
       "gas         356209\n",
       "other        30728\n",
       "diesel       30062\n",
       "hybrid        5170\n",
       "electric      1698\n",
       "Name: fuel, dtype: int64"
      ]
     },
     "execution_count": 140,
     "metadata": {},
     "output_type": "execute_result"
    }
   ],
   "source": [
    "df['fuel'].value_counts()"
   ]
  },
  {
   "cell_type": "code",
   "execution_count": 141,
   "id": "2f8710ad",
   "metadata": {},
   "outputs": [
    {
     "data": {
      "text/plain": [
       "gas         83.444762\n",
       "other        7.198276\n",
       "diesel       7.042260\n",
       "hybrid       1.211113\n",
       "electric     0.397770\n",
       "Name: fuel, dtype: float64"
      ]
     },
     "execution_count": 141,
     "metadata": {},
     "output_type": "execute_result"
    }
   ],
   "source": [
    "(df['fuel'].value_counts())/len(df['fuel'])*100"
   ]
  },
  {
   "cell_type": "code",
   "execution_count": 142,
   "id": "583301ac",
   "metadata": {},
   "outputs": [
    {
     "name": "stdout",
     "output_type": "stream",
     "text": [
      "3013\n",
      "0.7058189655172414\n"
     ]
    }
   ],
   "source": [
    "print(len(df['fuel'][df['fuel'].isnull()]))\n",
    "print(len(df['fuel'][df['fuel'].isnull()]) / len(df['fuel']) * 100)"
   ]
  },
  {
   "cell_type": "markdown",
   "id": "77c9e692",
   "metadata": {},
   "source": [
    "## Odometer\n",
    "### to clean up\n",
    "- the variance is too high\n",
    "- 1089 values identified as outliers (values > mean+3*std), can remove and replace them with max number"
   ]
  },
  {
   "cell_type": "code",
   "execution_count": 143,
   "id": "8a35a446",
   "metadata": {},
   "outputs": [
    {
     "data": {
      "text/plain": [
       "100000.0    2263\n",
       "1.0         2246\n",
       "0.0         1965\n",
       "200000.0    1728\n",
       "150000.0    1603\n",
       "            ... \n",
       "236112.0       1\n",
       "197271.0       1\n",
       "25395.0        1\n",
       "61511.0        1\n",
       "128344.0       1\n",
       "Name: odometer, Length: 104870, dtype: int64"
      ]
     },
     "execution_count": 143,
     "metadata": {},
     "output_type": "execute_result"
    }
   ],
   "source": [
    "df['odometer'].value_counts()"
   ]
  },
  {
   "cell_type": "code",
   "execution_count": 144,
   "id": "00036011",
   "metadata": {},
   "outputs": [
    {
     "name": "stdout",
     "output_type": "stream",
     "text": [
      "4400\n",
      "1.0307346326836582\n"
     ]
    }
   ],
   "source": [
    "print(len(df['odometer'][df['odometer'].isnull()]))\n",
    "print(len(df['odometer'][df['odometer'].isnull()]) / len(df['odometer']) * 100)"
   ]
  },
  {
   "cell_type": "code",
   "execution_count": 176,
   "id": "f482e6de",
   "metadata": {},
   "outputs": [
    {
     "data": {
      "text/plain": [
       "<seaborn.axisgrid.FacetGrid at 0x7fd2ca5e5a90>"
      ]
     },
     "execution_count": 176,
     "metadata": {},
     "output_type": "execute_result"
    },
    {
     "data": {
      "image/png": "[encoded data removed]",
      "text/plain": [
       "<Figure size 360x360 with 1 Axes>"
      ]
     },
     "metadata": {
      "needs_background": "light"
     },
     "output_type": "display_data"
    }
   ],
   "source": [
    "import seaborn as sns\n",
    "sns.displot(df['odometer'].dropna())"
   ]
  },
  {
   "cell_type": "code",
   "execution_count": 5,
   "id": "15f0807c",
   "metadata": {},
   "outputs": [
    {
     "data": {
      "text/plain": [
       "<seaborn.axisgrid.FacetGrid at 0x7f83c753cdc0>"
      ]
     },
     "execution_count": 5,
     "metadata": {},
     "output_type": "execute_result"
    },
    {
     "data": {
      "image/png": "[encoded data removed]",
      "text/plain": [
       "<Figure size 360x360 with 1 Axes>"
      ]
     },
     "metadata": {
      "needs_background": "light"
     },
     "output_type": "display_data"
    }
   ],
   "source": [
    "df = data.copy()\n",
    "import seaborn as sns\n",
    "sns.displot(df['odometer'].dropna(), kde=True, rug=True)"
   ]
  },
  {
   "cell_type": "code",
   "execution_count": 190,
   "id": "4816ee69",
   "metadata": {},
   "outputs": [
    {
     "data": {
      "text/plain": [
       "<seaborn.axisgrid.FacetGrid at 0x7fd22ba52820>"
      ]
     },
     "execution_count": 190,
     "metadata": {},
     "output_type": "execute_result"
    },
    {
     "data": {
      "image/png": "[encoded data removed]",
      "text/plain": [
       "<Figure size 402.375x360 with 1 Axes>"
      ]
     },
     "metadata": {
      "needs_background": "light"
     },
     "output_type": "display_data"
    }
   ],
   "source": [
    "from sklearn.preprocessing import StandardScaler\n",
    "scaler = StandardScaler()\n",
    "dfo_scaled = scaler.fit_transform(np.array(df['odometer'].dropna()).reshape(-1,1))\n",
    "sns.displot(dfo_scaled)"
   ]
  },
  {
   "cell_type": "code",
   "execution_count": 163,
   "id": "ce1d1b89",
   "metadata": {},
   "outputs": [
    {
     "data": {
      "text/plain": [
       "count    4.224800e+05\n",
       "mean     9.804333e+04\n",
       "std      2.138815e+05\n",
       "min      0.000000e+00\n",
       "25%      3.770400e+04\n",
       "50%      8.554800e+04\n",
       "75%      1.335425e+05\n",
       "max      1.000000e+07\n",
       "Name: odometer, dtype: float64"
      ]
     },
     "execution_count": 163,
     "metadata": {},
     "output_type": "execute_result"
    }
   ],
   "source": [
    "df['odometer'].dropna().describe()"
   ]
  },
  {
   "cell_type": "code",
   "execution_count": 182,
   "id": "e6eeb2fd",
   "metadata": {},
   "outputs": [
    {
     "data": {
      "text/plain": [
       "10000000.0"
      ]
     },
     "execution_count": 182,
     "metadata": {},
     "output_type": "execute_result"
    }
   ],
   "source": [
    "(df['odometer']).max()"
   ]
  },
  {
   "cell_type": "code",
   "execution_count": 186,
   "id": "e80096bd",
   "metadata": {},
   "outputs": [
    {
     "data": {
      "text/plain": [
       "98043.33144290854"
      ]
     },
     "execution_count": 186,
     "metadata": {},
     "output_type": "execute_result"
    }
   ],
   "source": [
    "mean = (df['odometer'].dropna()).mean()\n",
    "mean"
   ]
  },
  {
   "cell_type": "code",
   "execution_count": 187,
   "id": "fa52841f",
   "metadata": {},
   "outputs": [
    {
     "data": {
      "text/plain": [
       "213881.50079799347"
      ]
     },
     "execution_count": 187,
     "metadata": {},
     "output_type": "execute_result"
    }
   ],
   "source": [
    "std = (df['odometer'].dropna()).std()\n",
    "std"
   ]
  },
  {
   "cell_type": "code",
   "execution_count": 234,
   "id": "0c1c4a9a",
   "metadata": {},
   "outputs": [
    {
     "name": "stdout",
     "output_type": "stream",
     "text": [
      "1595213.837028863\n",
      "-543601.1709510719\n"
     ]
    }
   ],
   "source": [
    "outliers_upper_threshold = mean + 7*std\n",
    "outliers_lower_threshold = mean - 3*std\n",
    "print(outliers_upper_threshold)\n",
    "print(outliers_lower_threshold)"
   ]
  },
  {
   "cell_type": "code",
   "execution_count": 235,
   "id": "1e9fd0e9",
   "metadata": {},
   "outputs": [
    {
     "data": {
      "text/plain": [
       "455        9999999.0\n",
       "562        2222222.0\n",
       "1397       9999999.0\n",
       "1398       9999999.0\n",
       "1399       9999999.0\n",
       "             ...    \n",
       "413267    10000000.0\n",
       "417643     1710000.0\n",
       "419355     2621720.0\n",
       "419494     6090609.0\n",
       "426106     9999999.0\n",
       "Name: odometer, Length: 291, dtype: float64"
      ]
     },
     "execution_count": 235,
     "metadata": {},
     "output_type": "execute_result"
    }
   ],
   "source": [
    "df['odometer'][df['odometer']>outliers_upper_threshold]"
   ]
  },
  {
   "cell_type": "code",
   "execution_count": 192,
   "id": "90e06a03",
   "metadata": {},
   "outputs": [
    {
     "data": {
      "text/plain": [
       "Series([], Name: odometer, dtype: float64)"
      ]
     },
     "execution_count": 192,
     "metadata": {},
     "output_type": "execute_result"
    }
   ],
   "source": [
    "df['odometer'][df['odometer']<outliers_lower_threshold]"
   ]
  },
  {
   "cell_type": "markdown",
   "id": "78575ff3",
   "metadata": {},
   "source": [
    "## Title Status\n",
    "### to clean up\n",
    "- ~95% status 'clean', consider change the rest into 'clean'\n",
    "- or can create dummies isClean, isNotClean"
   ]
  },
  {
   "cell_type": "code",
   "execution_count": 193,
   "id": "6fb55da6",
   "metadata": {},
   "outputs": [
    {
     "data": {
      "text/plain": [
       "clean         405117\n",
       "rebuilt         7219\n",
       "salvage         3868\n",
       "lien            1422\n",
       "missing          814\n",
       "parts only       198\n",
       "Name: title_status, dtype: int64"
      ]
     },
     "execution_count": 193,
     "metadata": {},
     "output_type": "execute_result"
    }
   ],
   "source": [
    "df['title_status'].value_counts()"
   ]
  },
  {
   "cell_type": "code",
   "execution_count": 194,
   "id": "8ce33269",
   "metadata": {},
   "outputs": [
    {
     "name": "stdout",
     "output_type": "stream",
     "text": [
      "8242\n",
      "1.9307533733133435\n"
     ]
    }
   ],
   "source": [
    "print(len(df['title_status'][df['title_status'].isnull()]))\n",
    "print(len(df['title_status'][df['title_status'].isnull()]) / len(df['title_status']) * 100)"
   ]
  },
  {
   "cell_type": "code",
   "execution_count": 195,
   "id": "7073fbd5",
   "metadata": {},
   "outputs": [
    {
     "data": {
      "text/plain": [
       "clean         94.901846\n",
       "rebuilt        1.691108\n",
       "salvage        0.906109\n",
       "lien           0.333115\n",
       "missing        0.190686\n",
       "parts only     0.046383\n",
       "Name: title_status, dtype: float64"
      ]
     },
     "execution_count": 195,
     "metadata": {},
     "output_type": "execute_result"
    }
   ],
   "source": [
    "(df['title_status'].value_counts())/len(df['title_status'])*100"
   ]
  },
  {
   "cell_type": "markdown",
   "id": "0db0093e",
   "metadata": {},
   "source": [
    "## Transmission\n",
    "### to clean up\n",
    "- 79% automatic, 6% manual, 15% other\n",
    "- isAutomatic and/or isManual"
   ]
  },
  {
   "cell_type": "code",
   "execution_count": 196,
   "id": "82db215a",
   "metadata": {
    "scrolled": true
   },
   "outputs": [
    {
     "data": {
      "text/plain": [
       "automatic    336524\n",
       "other         62682\n",
       "manual        25118\n",
       "Name: transmission, dtype: int64"
      ]
     },
     "execution_count": 196,
     "metadata": {},
     "output_type": "execute_result"
    }
   ],
   "source": [
    "df['transmission'].value_counts()"
   ]
  },
  {
   "cell_type": "code",
   "execution_count": 197,
   "id": "69cea78e",
   "metadata": {},
   "outputs": [
    {
     "name": "stdout",
     "output_type": "stream",
     "text": [
      "2556\n",
      "0.5987631184407797\n"
     ]
    }
   ],
   "source": [
    "print(len(df['transmission'][df['transmission'].isnull()]))\n",
    "print(len(df['transmission'][df['transmission'].isnull()]) / len(df['transmission']) * 100)"
   ]
  },
  {
   "cell_type": "code",
   "execution_count": 198,
   "id": "5ecbaa66",
   "metadata": {},
   "outputs": [
    {
     "data": {
      "text/plain": [
       "automatic    78.833396\n",
       "other        14.683752\n",
       "manual        5.884089\n",
       "Name: transmission, dtype: float64"
      ]
     },
     "execution_count": 198,
     "metadata": {},
     "output_type": "execute_result"
    }
   ],
   "source": [
    "(df['transmission'].value_counts())/len(df['transmission'])*100"
   ]
  },
  {
   "cell_type": "markdown",
   "id": "7b319ef1",
   "metadata": {},
   "source": [
    "## VIN\n",
    "### to drop\n",
    "high cardinality"
   ]
  },
  {
   "cell_type": "code",
   "execution_count": 199,
   "id": "afd2d3de",
   "metadata": {},
   "outputs": [
    {
     "data": {
      "text/plain": [
       "1FMJU1JT1HEA52352    261\n",
       "3C6JR6DT3KG560649    235\n",
       "1FTER1EH1LLA36301    231\n",
       "5TFTX4CN3EX042751    227\n",
       "1GCHTCE37G1186784    214\n",
       "                    ... \n",
       "1G1PF5SC1C7189764      1\n",
       "4S4BSAFC9F3247966      1\n",
       "JN1EV7AP8JM365342      1\n",
       "3FA6P0LU9LR226343      1\n",
       "1C4PJMBS8FW599298      1\n",
       "Name: VIN, Length: 118264, dtype: int64"
      ]
     },
     "execution_count": 199,
     "metadata": {},
     "output_type": "execute_result"
    }
   ],
   "source": [
    "df['VIN'].value_counts()"
   ]
  },
  {
   "cell_type": "markdown",
   "id": "0ac63827",
   "metadata": {},
   "source": [
    "## Drive\n",
    "### to clean up\n",
    "- 69% non-null\n",
    "- 31% 4wd, 25% fwd, 14% rwd\n",
    "- dummies is4wd, isfrwd"
   ]
  },
  {
   "cell_type": "code",
   "execution_count": 200,
   "id": "ae7b4c9d",
   "metadata": {},
   "outputs": [
    {
     "data": {
      "text/plain": [
       "4wd    131904\n",
       "fwd    105517\n",
       "rwd     58892\n",
       "Name: drive, dtype: int64"
      ]
     },
     "execution_count": 200,
     "metadata": {},
     "output_type": "execute_result"
    }
   ],
   "source": [
    "df['drive'].value_counts()"
   ]
  },
  {
   "cell_type": "code",
   "execution_count": 201,
   "id": "138d066a",
   "metadata": {},
   "outputs": [
    {
     "name": "stdout",
     "output_type": "stream",
     "text": [
      "130567\n",
      "30.586347451274364\n"
     ]
    }
   ],
   "source": [
    "print(len(df['drive'][df['drive'].isnull()]))\n",
    "print(len(df['drive'][df['drive'].isnull()]) / len(df['drive']) * 100)"
   ]
  },
  {
   "cell_type": "code",
   "execution_count": 202,
   "id": "1adcd6e4",
   "metadata": {},
   "outputs": [
    {
     "data": {
      "text/plain": [
       "4wd    30.899550\n",
       "fwd    24.718188\n",
       "rwd    13.795915\n",
       "Name: drive, dtype: float64"
      ]
     },
     "execution_count": 202,
     "metadata": {},
     "output_type": "execute_result"
    }
   ],
   "source": [
    "(df['drive'].value_counts())/len(df['drive'])*100"
   ]
  },
  {
   "cell_type": "markdown",
   "id": "4c53c263",
   "metadata": {},
   "source": [
    "## Size\n",
    "### to drop\n",
    "- 72% null values"
   ]
  },
  {
   "cell_type": "code",
   "execution_count": 203,
   "id": "4714bdbc",
   "metadata": {},
   "outputs": [
    {
     "data": {
      "text/plain": [
       "full-size      63465\n",
       "mid-size       34476\n",
       "compact        19384\n",
       "sub-compact     3194\n",
       "Name: size, dtype: int64"
      ]
     },
     "execution_count": 203,
     "metadata": {},
     "output_type": "execute_result"
    }
   ],
   "source": [
    "df['size'].value_counts()"
   ]
  },
  {
   "cell_type": "code",
   "execution_count": 205,
   "id": "c45e4639",
   "metadata": {},
   "outputs": [
    {
     "name": "stdout",
     "output_type": "stream",
     "text": [
      "306361\n",
      "71.7674756371814\n"
     ]
    }
   ],
   "source": [
    "print(len(df['size'][df['size'].isnull()]))\n",
    "print(len(df['size'][df['size'].isnull()]) / len(df['size']) * 100)"
   ]
  },
  {
   "cell_type": "code",
   "execution_count": 206,
   "id": "234b9fde",
   "metadata": {},
   "outputs": [
    {
     "data": {
      "text/plain": [
       "full-size      14.867176\n",
       "mid-size        8.076274\n",
       "compact         4.540855\n",
       "sub-compact     0.748220\n",
       "Name: size, dtype: float64"
      ]
     },
     "execution_count": 206,
     "metadata": {},
     "output_type": "execute_result"
    }
   ],
   "source": [
    "(df['size'].value_counts())/len(df['size'])*100"
   ]
  },
  {
   "cell_type": "markdown",
   "id": "e0d59882",
   "metadata": {},
   "source": [
    "## Type\n",
    "relevant categorical variable"
   ]
  },
  {
   "cell_type": "code",
   "execution_count": 207,
   "id": "829340fe",
   "metadata": {},
   "outputs": [
    {
     "data": {
      "text/plain": [
       "sedan          87056\n",
       "SUV            77284\n",
       "pickup         43510\n",
       "truck          35279\n",
       "other          22110\n",
       "coupe          19204\n",
       "hatchback      16598\n",
       "wagon          10751\n",
       "van             8548\n",
       "convertible     7731\n",
       "mini-van        4825\n",
       "offroad          609\n",
       "bus              517\n",
       "Name: type, dtype: int64"
      ]
     },
     "execution_count": 207,
     "metadata": {},
     "output_type": "execute_result"
    }
   ],
   "source": [
    "df['type'].value_counts()"
   ]
  },
  {
   "cell_type": "code",
   "execution_count": 209,
   "id": "dc6f6a04",
   "metadata": {},
   "outputs": [
    {
     "data": {
      "text/plain": [
       "sedan          20.393553\n",
       "SUV            18.104385\n",
       "pickup         10.192560\n",
       "truck           8.264383\n",
       "other           5.179442\n",
       "coupe           4.498688\n",
       "hatchback       3.888212\n",
       "wagon           2.518506\n",
       "van             2.002436\n",
       "convertible     1.811048\n",
       "mini-van        1.130294\n",
       "offroad         0.142663\n",
       "bus             0.121111\n",
       "Name: type, dtype: float64"
      ]
     },
     "execution_count": 209,
     "metadata": {},
     "output_type": "execute_result"
    }
   ],
   "source": [
    "(df['type'].value_counts())/len(df['type'])*100"
   ]
  },
  {
   "cell_type": "code",
   "execution_count": 210,
   "id": "6dd0fdf9",
   "metadata": {},
   "outputs": [
    {
     "name": "stdout",
     "output_type": "stream",
     "text": [
      "92858\n",
      "21.752717391304348\n"
     ]
    }
   ],
   "source": [
    "print(len(df['type'][df['type'].isnull()]))\n",
    "print(len(df['type'][df['type'].isnull()]) / len(df['type']) * 100)"
   ]
  },
  {
   "cell_type": "markdown",
   "id": "328dccc8",
   "metadata": {},
   "source": [
    "## Paint_color\n",
    "relevant categorical variable"
   ]
  },
  {
   "cell_type": "code",
   "execution_count": 211,
   "id": "2c309cb1",
   "metadata": {},
   "outputs": [
    {
     "data": {
      "text/plain": [
       "white     79285\n",
       "black     62861\n",
       "silver    42970\n",
       "blue      31223\n",
       "red       30473\n",
       "grey      24416\n",
       "green      7343\n",
       "custom     6700\n",
       "brown      6593\n",
       "yellow     2142\n",
       "orange     1984\n",
       "purple      687\n",
       "Name: paint_color, dtype: int64"
      ]
     },
     "execution_count": 211,
     "metadata": {},
     "output_type": "execute_result"
    }
   ],
   "source": [
    "df['paint_color'].value_counts()"
   ]
  },
  {
   "cell_type": "code",
   "execution_count": 212,
   "id": "a17f20ce",
   "metadata": {},
   "outputs": [
    {
     "data": {
      "text/plain": [
       "white     18.573135\n",
       "black     14.725684\n",
       "silver    10.066061\n",
       "blue       7.314234\n",
       "red        7.138540\n",
       "grey       5.719640\n",
       "green      1.720156\n",
       "custom     1.569528\n",
       "brown      1.544462\n",
       "yellow     0.501780\n",
       "orange     0.464768\n",
       "purple     0.160935\n",
       "Name: paint_color, dtype: float64"
      ]
     },
     "execution_count": 212,
     "metadata": {},
     "output_type": "execute_result"
    }
   ],
   "source": [
    "(df['paint_color'].value_counts())/len(df['paint_color'])*100"
   ]
  },
  {
   "cell_type": "code",
   "execution_count": 213,
   "id": "f395fa32",
   "metadata": {},
   "outputs": [
    {
     "name": "stdout",
     "output_type": "stream",
     "text": [
      "130203\n",
      "30.501077586206897\n"
     ]
    }
   ],
   "source": [
    "print(len(df['paint_color'][df['paint_color'].isnull()]))\n",
    "print(len(df['paint_color'][df['paint_color'].isnull()]) / len(df['paint_color']) * 100)"
   ]
  },
  {
   "cell_type": "markdown",
   "id": "93a908db",
   "metadata": {},
   "source": [
    "## Image_url\n",
    "irrelevant variable"
   ]
  },
  {
   "cell_type": "code",
   "execution_count": 214,
   "id": "03e2d983",
   "metadata": {},
   "outputs": [
    {
     "data": {
      "text/plain": [
       "https://images.craigslist.org/00N0N_1xMPvfxRAIdz_0gw0co_600x450.jpg    7357\n",
       "https://images.craigslist.org/00R0R_lwWjXSEWNa7z_0x20oM_600x450.jpg    2192\n",
       "https://images.craigslist.org/01111_l590CdXzJSoz_001001_600x450.jpg     276\n",
       "https://images.craigslist.org/01313_9Zne268YnWZz_0gw0co_600x450.jpg     231\n",
       "https://images.craigslist.org/00X0X_1cMDo5xqSuAz_0gw0co_600x450.jpg     227\n",
       "                                                                       ... \n",
       "https://images.craigslist.org/00b0b_1WLgzZRib4rz_0CI0t2_600x450.jpg       1\n",
       "https://images.craigslist.org/00J0J_eIEybHbzes4z_0t20CI_600x450.jpg       1\n",
       "https://images.craigslist.org/00j0j_7EarIyTb2r8z_0kE0fu_600x450.jpg       1\n",
       "https://images.craigslist.org/00909_kmYMjGsQAhPz_0cT09G_600x450.jpg       1\n",
       "https://images.craigslist.org/00202_23worLbTlf6z_05a03S_600x450.jpg       1\n",
       "Name: image_url, Length: 241899, dtype: int64"
      ]
     },
     "execution_count": 214,
     "metadata": {},
     "output_type": "execute_result"
    }
   ],
   "source": [
    "df['image_url'].value_counts()"
   ]
  },
  {
   "cell_type": "code",
   "execution_count": 215,
   "id": "acd7f2f4",
   "metadata": {},
   "outputs": [
    {
     "name": "stdout",
     "output_type": "stream",
     "text": [
      "68\n",
      "0.015929535232383808\n"
     ]
    }
   ],
   "source": [
    "print(len(df['image_url'][df['image_url'].isnull()]))\n",
    "print(len(df['image_url'][df['image_url'].isnull()]) / len(df['image_url']) * 100)"
   ]
  },
  {
   "cell_type": "markdown",
   "id": "77b852fd",
   "metadata": {},
   "source": [
    "## Description\n",
    "### Text-Mining"
   ]
  },
  {
   "cell_type": "code",
   "execution_count": 221,
   "id": "8a8cff76",
   "metadata": {},
   "outputs": [
    {
     "data": {
      "text/plain": [
       "0                                                       NaN\n",
       "1                                                       NaN\n",
       "2                                                       NaN\n",
       "3                                                       NaN\n",
       "4                                                       NaN\n",
       "                                ...                        \n",
       "426875    Carvana is the safer way to buy a car During t...\n",
       "426876    Carvana is the safer way to buy a car During t...\n",
       "426877    Carvana is the safer way to buy a car During t...\n",
       "426878    Carvana is the safer way to buy a car During t...\n",
       "426879    Carvana is the safer way to buy a car During t...\n",
       "Name: description, Length: 426880, dtype: object"
      ]
     },
     "execution_count": 221,
     "metadata": {},
     "output_type": "execute_result"
    }
   ],
   "source": [
    "df['description']"
   ]
  },
  {
   "cell_type": "code",
   "execution_count": 220,
   "id": "91fc2b46",
   "metadata": {},
   "outputs": [
    {
     "name": "stdout",
     "output_type": "stream",
     "text": [
      "70\n",
      "0.016398050974512746\n"
     ]
    }
   ],
   "source": [
    "print(len(df['description'][df['description'].isnull()]))\n",
    "print(len(df['description'][df['description'].isnull()]) / len(df['description']) * 100)"
   ]
  },
  {
   "cell_type": "markdown",
   "id": "de5218e8",
   "metadata": {},
   "source": [
    "## County\n",
    "### to drop\n",
    "- all nulls"
   ]
  },
  {
   "cell_type": "code",
   "execution_count": 223,
   "id": "10cf3052",
   "metadata": {},
   "outputs": [
    {
     "data": {
      "text/plain": [
       "Series([], Name: county, dtype: int64)"
      ]
     },
     "execution_count": 223,
     "metadata": {},
     "output_type": "execute_result"
    }
   ],
   "source": [
    "df['county'].value_counts()"
   ]
  },
  {
   "cell_type": "markdown",
   "id": "bc4afc37",
   "metadata": {},
   "source": [
    "## State\n",
    "- no nulls\n",
    "- relevant variable"
   ]
  },
  {
   "cell_type": "code",
   "execution_count": 225,
   "id": "b1550cda",
   "metadata": {},
   "outputs": [
    {
     "data": {
      "text/plain": [
       "51"
      ]
     },
     "execution_count": 225,
     "metadata": {},
     "output_type": "execute_result"
    }
   ],
   "source": [
    "len(df['state'].value_counts())"
   ]
  },
  {
   "cell_type": "markdown",
   "id": "0250e3c4",
   "metadata": {},
   "source": [
    "## Lat and Long\n",
    "### for mapping"
   ]
  },
  {
   "cell_type": "code",
   "execution_count": 227,
   "id": "15cd080c",
   "metadata": {},
   "outputs": [
    {
     "name": "stdout",
     "output_type": "stream",
     "text": [
      "6549\n"
     ]
    }
   ],
   "source": [
    "print(len(df['lat'][df['lat'].isnull()]))"
   ]
  },
  {
   "cell_type": "code",
   "execution_count": 228,
   "id": "87d3664b",
   "metadata": {},
   "outputs": [
    {
     "data": {
      "text/plain": [
       "2021-04-23T22:13:05-0400    12\n",
       "2021-04-22T20:32:05-0400    11\n",
       "2021-04-13T13:19:15-0500    11\n",
       "2021-04-16T12:07:56-0500    10\n",
       "2021-04-29T20:06:09-0500     9\n",
       "                            ..\n",
       "2021-04-20T09:32:59-0400     1\n",
       "2021-04-28T19:34:26-0600     1\n",
       "2021-04-26T12:04:58-0500     1\n",
       "2021-04-12T18:51:55-0700     1\n",
       "2021-04-22T00:53:08-0500     1\n",
       "Name: posting_date, Length: 381536, dtype: int64"
      ]
     },
     "execution_count": 228,
     "metadata": {},
     "output_type": "execute_result"
    }
   ],
   "source": [
    "df['posting_date'].value_counts()"
   ]
  },
  {
   "cell_type": "markdown",
   "id": "a4347285",
   "metadata": {},
   "source": [
    "## Posting Date"
   ]
  },
  {
   "cell_type": "code",
   "execution_count": 229,
   "id": "257e36ef",
   "metadata": {
    "scrolled": true
   },
   "outputs": [
    {
     "name": "stdout",
     "output_type": "stream",
     "text": [
      "68\n"
     ]
    }
   ],
   "source": [
    "print(len(df['posting_date'][df['posting_date'].isnull()]))"
   ]
  },
  {
   "cell_type": "code",
   "execution_count": 233,
   "id": "1467b593",
   "metadata": {},
   "outputs": [
    {
     "data": {
      "text/html": [
       "<div>\n",
       "<style scoped>\n",
       "    .dataframe tbody tr th:only-of-type {\n",
       "        vertical-align: middle;\n",
       "    }\n",
       "\n",
       "    .dataframe tbody tr th {\n",
       "        vertical-align: top;\n",
       "    }\n",
       "\n",
       "    .dataframe thead th {\n",
       "        text-align: right;\n",
       "    }\n",
       "</style>\n",
       "<table border=\"1\" class=\"dataframe\">\n",
       "  <thead>\n",
       "    <tr style=\"text-align: right;\">\n",
       "      <th></th>\n",
       "      <th>id</th>\n",
       "      <th>url</th>\n",
       "      <th>region</th>\n",
       "      <th>region_url</th>\n",
       "      <th>price</th>\n",
       "      <th>year</th>\n",
       "      <th>manufacturer</th>\n",
       "      <th>model</th>\n",
       "      <th>condition</th>\n",
       "      <th>cylinders</th>\n",
       "      <th>...</th>\n",
       "      <th>type</th>\n",
       "      <th>paint_color</th>\n",
       "      <th>image_url</th>\n",
       "      <th>description</th>\n",
       "      <th>county</th>\n",
       "      <th>state</th>\n",
       "      <th>lat</th>\n",
       "      <th>long</th>\n",
       "      <th>posting_date</th>\n",
       "      <th>region_clean</th>\n",
       "    </tr>\n",
       "  </thead>\n",
       "  <tbody>\n",
       "    <tr>\n",
       "      <th>0</th>\n",
       "      <td>7222695916</td>\n",
       "      <td>https://prescott.craigslist.org/cto/d/prescott...</td>\n",
       "      <td>prescott</td>\n",
       "      <td>https://prescott.craigslist.org</td>\n",
       "      <td>6000</td>\n",
       "      <td>NaN</td>\n",
       "      <td>NaN</td>\n",
       "      <td>NaN</td>\n",
       "      <td>NaN</td>\n",
       "      <td>NaN</td>\n",
       "      <td>...</td>\n",
       "      <td>NaN</td>\n",
       "      <td>NaN</td>\n",
       "      <td>NaN</td>\n",
       "      <td>NaN</td>\n",
       "      <td>NaN</td>\n",
       "      <td>az</td>\n",
       "      <td>NaN</td>\n",
       "      <td>NaN</td>\n",
       "      <td>NaN</td>\n",
       "      <td>prescott</td>\n",
       "    </tr>\n",
       "    <tr>\n",
       "      <th>1</th>\n",
       "      <td>7218891961</td>\n",
       "      <td>https://fayar.craigslist.org/ctd/d/bentonville...</td>\n",
       "      <td>fayetteville</td>\n",
       "      <td>https://fayar.craigslist.org</td>\n",
       "      <td>11900</td>\n",
       "      <td>NaN</td>\n",
       "      <td>NaN</td>\n",
       "      <td>NaN</td>\n",
       "      <td>NaN</td>\n",
       "      <td>NaN</td>\n",
       "      <td>...</td>\n",
       "      <td>NaN</td>\n",
       "      <td>NaN</td>\n",
       "      <td>NaN</td>\n",
       "      <td>NaN</td>\n",
       "      <td>NaN</td>\n",
       "      <td>ar</td>\n",
       "      <td>NaN</td>\n",
       "      <td>NaN</td>\n",
       "      <td>NaN</td>\n",
       "      <td>fayar</td>\n",
       "    </tr>\n",
       "    <tr>\n",
       "      <th>2</th>\n",
       "      <td>7221797935</td>\n",
       "      <td>https://keys.craigslist.org/cto/d/summerland-k...</td>\n",
       "      <td>florida keys</td>\n",
       "      <td>https://keys.craigslist.org</td>\n",
       "      <td>21000</td>\n",
       "      <td>NaN</td>\n",
       "      <td>NaN</td>\n",
       "      <td>NaN</td>\n",
       "      <td>NaN</td>\n",
       "      <td>NaN</td>\n",
       "      <td>...</td>\n",
       "      <td>NaN</td>\n",
       "      <td>NaN</td>\n",
       "      <td>NaN</td>\n",
       "      <td>NaN</td>\n",
       "      <td>NaN</td>\n",
       "      <td>fl</td>\n",
       "      <td>NaN</td>\n",
       "      <td>NaN</td>\n",
       "      <td>NaN</td>\n",
       "      <td>keys</td>\n",
       "    </tr>\n",
       "    <tr>\n",
       "      <th>3</th>\n",
       "      <td>7222270760</td>\n",
       "      <td>https://worcester.craigslist.org/cto/d/west-br...</td>\n",
       "      <td>worcester / central MA</td>\n",
       "      <td>https://worcester.craigslist.org</td>\n",
       "      <td>1500</td>\n",
       "      <td>NaN</td>\n",
       "      <td>NaN</td>\n",
       "      <td>NaN</td>\n",
       "      <td>NaN</td>\n",
       "      <td>NaN</td>\n",
       "      <td>...</td>\n",
       "      <td>NaN</td>\n",
       "      <td>NaN</td>\n",
       "      <td>NaN</td>\n",
       "      <td>NaN</td>\n",
       "      <td>NaN</td>\n",
       "      <td>ma</td>\n",
       "      <td>NaN</td>\n",
       "      <td>NaN</td>\n",
       "      <td>NaN</td>\n",
       "      <td>worcester</td>\n",
       "    </tr>\n",
       "    <tr>\n",
       "      <th>4</th>\n",
       "      <td>7210384030</td>\n",
       "      <td>https://greensboro.craigslist.org/cto/d/trinit...</td>\n",
       "      <td>greensboro</td>\n",
       "      <td>https://greensboro.craigslist.org</td>\n",
       "      <td>4900</td>\n",
       "      <td>NaN</td>\n",
       "      <td>NaN</td>\n",
       "      <td>NaN</td>\n",
       "      <td>NaN</td>\n",
       "      <td>NaN</td>\n",
       "      <td>...</td>\n",
       "      <td>NaN</td>\n",
       "      <td>NaN</td>\n",
       "      <td>NaN</td>\n",
       "      <td>NaN</td>\n",
       "      <td>NaN</td>\n",
       "      <td>nc</td>\n",
       "      <td>NaN</td>\n",
       "      <td>NaN</td>\n",
       "      <td>NaN</td>\n",
       "      <td>greensboro</td>\n",
       "    </tr>\n",
       "    <tr>\n",
       "      <th>...</th>\n",
       "      <td>...</td>\n",
       "      <td>...</td>\n",
       "      <td>...</td>\n",
       "      <td>...</td>\n",
       "      <td>...</td>\n",
       "      <td>...</td>\n",
       "      <td>...</td>\n",
       "      <td>...</td>\n",
       "      <td>...</td>\n",
       "      <td>...</td>\n",
       "      <td>...</td>\n",
       "      <td>...</td>\n",
       "      <td>...</td>\n",
       "      <td>...</td>\n",
       "      <td>...</td>\n",
       "      <td>...</td>\n",
       "      <td>...</td>\n",
       "      <td>...</td>\n",
       "      <td>...</td>\n",
       "      <td>...</td>\n",
       "      <td>...</td>\n",
       "    </tr>\n",
       "    <tr>\n",
       "      <th>368797</th>\n",
       "      <td>7316880457</td>\n",
       "      <td>https://dallas.craigslist.org/dal/cto/d/plano-...</td>\n",
       "      <td>dallas / fort worth</td>\n",
       "      <td>https://dallas.craigslist.org</td>\n",
       "      <td>7900</td>\n",
       "      <td>NaN</td>\n",
       "      <td>NaN</td>\n",
       "      <td>NaN</td>\n",
       "      <td>NaN</td>\n",
       "      <td>NaN</td>\n",
       "      <td>...</td>\n",
       "      <td>NaN</td>\n",
       "      <td>NaN</td>\n",
       "      <td>NaN</td>\n",
       "      <td>NaN</td>\n",
       "      <td>NaN</td>\n",
       "      <td>tx</td>\n",
       "      <td>NaN</td>\n",
       "      <td>NaN</td>\n",
       "      <td>NaN</td>\n",
       "      <td>dallas</td>\n",
       "    </tr>\n",
       "    <tr>\n",
       "      <th>372596</th>\n",
       "      <td>7310515013</td>\n",
       "      <td>https://elpaso.craigslist.org/ctd/d/el-paso-20...</td>\n",
       "      <td>el paso</td>\n",
       "      <td>https://elpaso.craigslist.org</td>\n",
       "      <td>0</td>\n",
       "      <td>NaN</td>\n",
       "      <td>NaN</td>\n",
       "      <td>NaN</td>\n",
       "      <td>NaN</td>\n",
       "      <td>NaN</td>\n",
       "      <td>...</td>\n",
       "      <td>NaN</td>\n",
       "      <td>NaN</td>\n",
       "      <td>NaN</td>\n",
       "      <td>NaN</td>\n",
       "      <td>NaN</td>\n",
       "      <td>tx</td>\n",
       "      <td>NaN</td>\n",
       "      <td>NaN</td>\n",
       "      <td>NaN</td>\n",
       "      <td>elpaso</td>\n",
       "    </tr>\n",
       "    <tr>\n",
       "      <th>375886</th>\n",
       "      <td>7315179022</td>\n",
       "      <td>https://houston.craigslist.org/ctd/d/katy-07-f...</td>\n",
       "      <td>houston</td>\n",
       "      <td>https://houston.craigslist.org</td>\n",
       "      <td>7995</td>\n",
       "      <td>NaN</td>\n",
       "      <td>NaN</td>\n",
       "      <td>NaN</td>\n",
       "      <td>NaN</td>\n",
       "      <td>NaN</td>\n",
       "      <td>...</td>\n",
       "      <td>NaN</td>\n",
       "      <td>NaN</td>\n",
       "      <td>NaN</td>\n",
       "      <td>NaN</td>\n",
       "      <td>NaN</td>\n",
       "      <td>tx</td>\n",
       "      <td>NaN</td>\n",
       "      <td>NaN</td>\n",
       "      <td>NaN</td>\n",
       "      <td>houston</td>\n",
       "    </tr>\n",
       "    <tr>\n",
       "      <th>402274</th>\n",
       "      <td>7291716547</td>\n",
       "      <td>https://bellingham.craigslist.org/ctd/d/bellin...</td>\n",
       "      <td>bellingham</td>\n",
       "      <td>https://bellingham.craigslist.org</td>\n",
       "      <td>25956</td>\n",
       "      <td>NaN</td>\n",
       "      <td>NaN</td>\n",
       "      <td>NaN</td>\n",
       "      <td>NaN</td>\n",
       "      <td>NaN</td>\n",
       "      <td>...</td>\n",
       "      <td>NaN</td>\n",
       "      <td>NaN</td>\n",
       "      <td>NaN</td>\n",
       "      <td>NaN</td>\n",
       "      <td>NaN</td>\n",
       "      <td>wa</td>\n",
       "      <td>NaN</td>\n",
       "      <td>NaN</td>\n",
       "      <td>NaN</td>\n",
       "      <td>bellingham</td>\n",
       "    </tr>\n",
       "    <tr>\n",
       "      <th>410619</th>\n",
       "      <td>7303365827</td>\n",
       "      <td>https://skagit.craigslist.org/cto/d/oak-harbor...</td>\n",
       "      <td>skagit / island / SJI</td>\n",
       "      <td>https://skagit.craigslist.org</td>\n",
       "      <td>750</td>\n",
       "      <td>NaN</td>\n",
       "      <td>NaN</td>\n",
       "      <td>NaN</td>\n",
       "      <td>NaN</td>\n",
       "      <td>NaN</td>\n",
       "      <td>...</td>\n",
       "      <td>NaN</td>\n",
       "      <td>NaN</td>\n",
       "      <td>NaN</td>\n",
       "      <td>NaN</td>\n",
       "      <td>NaN</td>\n",
       "      <td>wa</td>\n",
       "      <td>NaN</td>\n",
       "      <td>NaN</td>\n",
       "      <td>NaN</td>\n",
       "      <td>skagit</td>\n",
       "    </tr>\n",
       "  </tbody>\n",
       "</table>\n",
       "<p>68 rows × 27 columns</p>\n",
       "</div>"
      ],
      "text/plain": [
       "                id                                                url  \\\n",
       "0       7222695916  https://prescott.craigslist.org/cto/d/prescott...   \n",
       "1       7218891961  https://fayar.craigslist.org/ctd/d/bentonville...   \n",
       "2       7221797935  https://keys.craigslist.org/cto/d/summerland-k...   \n",
       "3       7222270760  https://worcester.craigslist.org/cto/d/west-br...   \n",
       "4       7210384030  https://greensboro.craigslist.org/cto/d/trinit...   \n",
       "...            ...                                                ...   \n",
       "368797  7316880457  https://dallas.craigslist.org/dal/cto/d/plano-...   \n",
       "372596  7310515013  https://elpaso.craigslist.org/ctd/d/el-paso-20...   \n",
       "375886  7315179022  https://houston.craigslist.org/ctd/d/katy-07-f...   \n",
       "402274  7291716547  https://bellingham.craigslist.org/ctd/d/bellin...   \n",
       "410619  7303365827  https://skagit.craigslist.org/cto/d/oak-harbor...   \n",
       "\n",
       "                        region                         region_url  price  \\\n",
       "0                     prescott    https://prescott.craigslist.org   6000   \n",
       "1                 fayetteville       https://fayar.craigslist.org  11900   \n",
       "2                 florida keys        https://keys.craigslist.org  21000   \n",
       "3       worcester / central MA   https://worcester.craigslist.org   1500   \n",
       "4                   greensboro  https://greensboro.craigslist.org   4900   \n",
       "...                        ...                                ...    ...   \n",
       "368797     dallas / fort worth      https://dallas.craigslist.org   7900   \n",
       "372596                 el paso      https://elpaso.craigslist.org      0   \n",
       "375886                 houston     https://houston.craigslist.org   7995   \n",
       "402274              bellingham  https://bellingham.craigslist.org  25956   \n",
       "410619   skagit / island / SJI      https://skagit.craigslist.org    750   \n",
       "\n",
       "        year manufacturer model condition cylinders  ... type  paint_color  \\\n",
       "0        NaN          NaN   NaN       NaN       NaN  ...  NaN          NaN   \n",
       "1        NaN          NaN   NaN       NaN       NaN  ...  NaN          NaN   \n",
       "2        NaN          NaN   NaN       NaN       NaN  ...  NaN          NaN   \n",
       "3        NaN          NaN   NaN       NaN       NaN  ...  NaN          NaN   \n",
       "4        NaN          NaN   NaN       NaN       NaN  ...  NaN          NaN   \n",
       "...      ...          ...   ...       ...       ...  ...  ...          ...   \n",
       "368797   NaN          NaN   NaN       NaN       NaN  ...  NaN          NaN   \n",
       "372596   NaN          NaN   NaN       NaN       NaN  ...  NaN          NaN   \n",
       "375886   NaN          NaN   NaN       NaN       NaN  ...  NaN          NaN   \n",
       "402274   NaN          NaN   NaN       NaN       NaN  ...  NaN          NaN   \n",
       "410619   NaN          NaN   NaN       NaN       NaN  ...  NaN          NaN   \n",
       "\n",
       "       image_url description county state lat long posting_date region_clean  \n",
       "0            NaN         NaN    NaN    az NaN  NaN          NaN     prescott  \n",
       "1            NaN         NaN    NaN    ar NaN  NaN          NaN        fayar  \n",
       "2            NaN         NaN    NaN    fl NaN  NaN          NaN         keys  \n",
       "3            NaN         NaN    NaN    ma NaN  NaN          NaN    worcester  \n",
       "4            NaN         NaN    NaN    nc NaN  NaN          NaN   greensboro  \n",
       "...          ...         ...    ...   ...  ..  ...          ...          ...  \n",
       "368797       NaN         NaN    NaN    tx NaN  NaN          NaN       dallas  \n",
       "372596       NaN         NaN    NaN    tx NaN  NaN          NaN       elpaso  \n",
       "375886       NaN         NaN    NaN    tx NaN  NaN          NaN      houston  \n",
       "402274       NaN         NaN    NaN    wa NaN  NaN          NaN   bellingham  \n",
       "410619       NaN         NaN    NaN    wa NaN  NaN          NaN       skagit  \n",
       "\n",
       "[68 rows x 27 columns]"
      ]
     },
     "execution_count": 233,
     "metadata": {},
     "output_type": "execute_result"
    }
   ],
   "source": [
    "df[df['posting_date'].isnull()]"
   ]
  }
 ],
 "metadata": {
  "kernelspec": {
   "display_name": "Python 3 (ipykernel)",
   "language": "python",
   "name": "python3"
  },
  "language_info": {
   "codemirror_mode": {
    "name": "ipython",
    "version": 3
   },
   "file_extension": ".py",
   "mimetype": "text/x-python",
   "name": "python",
   "nbconvert_exporter": "python",
   "pygments_lexer": "ipython3",
   "version": "3.9.7"
  }
 },
 "nbformat": 4,
 "nbformat_minor": 5
}
